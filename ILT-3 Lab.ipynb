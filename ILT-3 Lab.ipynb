{
 "cells": [
  {
   "cell_type": "code",
   "execution_count": null,
   "id": "878036cc-c051-47bd-8218-230164e5d743",
   "metadata": {},
   "outputs": [],
   "source": [
    "#Declare a div() function with two parameters. Then call the function and pass two numbers and display their division."
   ]
  },
  {
   "cell_type": "code",
   "execution_count": 1,
   "id": "e9382b7b-f8ab-4a38-81ff-b81e59893d77",
   "metadata": {},
   "outputs": [
    {
     "name": "stdin",
     "output_type": "stream",
     "text": [
      "Enter the first number (numerator):  11\n",
      "Enter the second number (denominator):  33\n"
     ]
    },
    {
     "name": "stdout",
     "output_type": "stream",
     "text": [
      "The result of dividing 11.0 by 33.0 is: 0.3333333333333333\n"
     ]
    }
   ],
   "source": [
    "def div(num1, num2):\n",
    "    \"\"\"\n",
    "    Function to divide two numbers and return the result.\n",
    "    \"\"\"\n",
    "    try:\n",
    "        # Perform division\n",
    "        result = num1 / num2\n",
    "        return result\n",
    "    except ZeroDivisionError:\n",
    "        # Handle the case where the denominator is zero\n",
    "        return \"Error: Division by zero is not allowed.\"\n",
    "\n",
    "# Take input from the user for two numbers\n",
    "try:\n",
    "    number1 = float(input(\"Enter the first number (numerator): \"))\n",
    "    number2 = float(input(\"Enter the second number (denominator): \"))\n",
    "\n",
    "    # Call the div() function and get the result\n",
    "    result = div(number1, number2)\n",
    "\n",
    "    # Display the result\n",
    "    print(f\"The result of dividing {number1} by {number2} is: {result}\")\n",
    "\n",
    "except ValueError:\n",
    "    # Handle invalid inputs that cannot be converted to float\n",
    "    print(\"Error: Invalid input. Please enter numeric values.\")\n"
   ]
  },
  {
   "cell_type": "code",
   "execution_count": null,
   "id": "b6107b66-98ea-4299-9c2e-a2a6dc58b2de",
   "metadata": {},
   "outputs": [],
   "source": [
    "#Declare a square() function with one parameter.Then call the function and pass one number and display the square of that number ."
   ]
  },
  {
   "cell_type": "code",
   "execution_count": 3,
   "id": "f690a1a2-826e-44de-aacf-0214b9aead8d",
   "metadata": {},
   "outputs": [
    {
     "name": "stdin",
     "output_type": "stream",
     "text": [
      "Enter a number to find its square:  2\n"
     ]
    },
    {
     "name": "stdout",
     "output_type": "stream",
     "text": [
      "The square of 2.0 is: 4.0\n"
     ]
    }
   ],
   "source": [
    "def square(num):\n",
    "    \"\"\"\n",
    "    Function to calculate the square of a number.\n",
    "    \"\"\"\n",
    "    return num ** 2\n",
    "\n",
    "# Take input from the user\n",
    "try:\n",
    "    number = float(input(\"Enter a number to find its square: \"))\n",
    "    \n",
    "    # Call the square() function and get the result\n",
    "    result = square(number)\n",
    "    \n",
    "    # Display the result\n",
    "    print(f\"The square of {number} is: {result}\")\n",
    "\n",
    "except ValueError:\n",
    "    # Handle invalid inputs that cannot be converted to float\n",
    "    print(\"Error: Invalid input. Please enter a numeric value.\")\n"
   ]
  },
  {
   "cell_type": "code",
   "execution_count": null,
   "id": "43d853b8-24a0-4d46-9ee6-9d023ad1b667",
   "metadata": {},
   "outputs": [],
   "source": [
    "#Using max() and min() functions display the maximum and minimum of 5 random numbers."
   ]
  },
  {
   "cell_type": "code",
   "execution_count": 5,
   "id": "582a458a-bbde-4e59-b429-397c479cf265",
   "metadata": {},
   "outputs": [
    {
     "name": "stdout",
     "output_type": "stream",
     "text": [
      "Random numbers: [25, 51, 34, 99, 61]\n",
      "Maximum number: 99\n",
      "Minimum number: 25\n"
     ]
    }
   ],
   "source": [
    "import random\n",
    "\n",
    "def find_max_min_of_random_numbers(count):\n",
    "    \"\"\"\n",
    "    Function to generate 'count' random numbers and find their maximum and minimum.\n",
    "    \"\"\"\n",
    "    # Generate random numbers\n",
    "    random_numbers = [random.randint(1, 100) for _ in range(count)]\n",
    "    \n",
    "    # Find the maximum and minimum\n",
    "    max_number = max(random_numbers)\n",
    "    min_number = min(random_numbers)\n",
    "    \n",
    "    return random_numbers, max_number, min_number\n",
    "\n",
    "# Number of random numbers to generate\n",
    "count = 5\n",
    "\n",
    "# Get the random numbers and their max/min\n",
    "random_numbers, max_number, min_number = find_max_min_of_random_numbers(count)\n",
    "\n",
    "# Display the results\n",
    "print(f\"Random numbers: {random_numbers}\")\n",
    "print(f\"Maximum number: {max_number}\")\n",
    "print(f\"Minimum number: {min_number}\")\n"
   ]
  },
  {
   "cell_type": "code",
   "execution_count": null,
   "id": "bc944001-88dc-490d-b3d4-c4b99167e2aa",
   "metadata": {},
   "outputs": [],
   "source": [
    "#Accept a name from the user and display that in lower case using lower() function"
   ]
  },
  {
   "cell_type": "code",
   "execution_count": 7,
   "id": "c32f6d05-d199-4442-bef9-311cce0fafce",
   "metadata": {},
   "outputs": [
    {
     "name": "stdin",
     "output_type": "stream",
     "text": [
      "Enter your name:  ARTYAH\n"
     ]
    },
    {
     "name": "stdout",
     "output_type": "stream",
     "text": [
      "Your name in lowercase is: artyah\n"
     ]
    }
   ],
   "source": [
    "# Take input from the user\n",
    "name = input(\"Enter your name: \")\n",
    "\n",
    "# Convert the name to lowercase\n",
    "lowercase_name = name.lower()\n",
    "\n",
    "# Display the name in lowercase\n",
    "print(f\"Your name in lowercase is: {lowercase_name}\")\n"
   ]
  },
  {
   "cell_type": "code",
   "execution_count": null,
   "id": "b6f1ab49-7065-45f5-9280-bd1735d1f98e",
   "metadata": {},
   "outputs": [],
   "source": [
    "# Write a Python program to count the occurrences of each word in a given sentence\n",
    "# string = “To change the overall look of your document. To change the look\n",
    "# available in the gallery”"
   ]
  },
  {
   "cell_type": "code",
   "execution_count": 9,
   "id": "b7aaef2f-355d-47e4-944a-223dca45bae5",
   "metadata": {},
   "outputs": [
    {
     "name": "stdout",
     "output_type": "stream",
     "text": [
      "'to': 2\n",
      "'change': 2\n",
      "'the': 3\n",
      "'overall': 1\n",
      "'look': 2\n",
      "'of': 1\n",
      "'your': 1\n",
      "'document': 1\n",
      "'available': 1\n",
      "'in': 1\n",
      "'gallery': 1\n"
     ]
    }
   ],
   "source": [
    "import string\n",
    "\n",
    "def count_word_occurrences(sentence):\n",
    "    \"\"\"\n",
    "    Function to count the occurrences of each word in a given sentence.\n",
    "    \"\"\"\n",
    "    # Convert the sentence to lowercase\n",
    "    sentence = sentence.lower()\n",
    "    \n",
    "    # Remove punctuation from the sentence\n",
    "    sentence = sentence.translate(str.maketrans('', '', string.punctuation))\n",
    "    \n",
    "    # Split the sentence into words\n",
    "    words = sentence.split()\n",
    "    \n",
    "    # Count occurrences of each word\n",
    "    word_count = {}\n",
    "    for word in words:\n",
    "        if word in word_count:\n",
    "            word_count[word] += 1\n",
    "        else:\n",
    "            word_count[word] = 1\n",
    "    \n",
    "    return word_count\n",
    "\n",
    "# Given sentence\n",
    "sentence = \"To change the overall look of your document. To change the look available in the gallery\"\n",
    "\n",
    "# Get the word count\n",
    "word_occurrences = count_word_occurrences(sentence)\n",
    "\n",
    "# Display the word counts\n",
    "for word, count in word_occurrences.items():\n",
    "    print(f\"'{word}': {count}\")\n"
   ]
  },
  {
   "cell_type": "code",
   "execution_count": null,
   "id": "b6b1a03a-cd3d-4c93-b978-15f813e6e22e",
   "metadata": {},
   "outputs": [],
   "source": [
    "# Write a Python program to remove a newline in Python\n",
    "\n",
    "# String = \"\\nBest \\nDeeptech \\nPython \\nTraining\\n\""
   ]
  },
  {
   "cell_type": "code",
   "execution_count": 11,
   "id": "f9f2198d-6378-45c6-b56a-3687e416cede",
   "metadata": {},
   "outputs": [
    {
     "name": "stdout",
     "output_type": "stream",
     "text": [
      "Original string:\n",
      "\n",
      "Best \n",
      "Deeptech \n",
      "Python \n",
      "Training\n",
      "\n",
      "Cleaned string:\n",
      "Best  Deeptech  Python  Training\n"
     ]
    }
   ],
   "source": [
    "# Given string with newlines\n",
    "string = \"\\nBest \\nDeeptech \\nPython \\nTraining\\n\"\n",
    "\n",
    "# Remove newline characters\n",
    "cleaned_string = string.replace('\\n', ' ').strip()\n",
    "\n",
    "# Print the cleaned string\n",
    "print(f\"Original string:\\n{string}\")\n",
    "print(f\"Cleaned string:\\n{cleaned_string}\")\n"
   ]
  },
  {
   "cell_type": "code",
   "execution_count": null,
   "id": "d977ef6f-adbd-4fa3-8975-eda4bd54a0a7",
   "metadata": {},
   "outputs": [],
   "source": [
    "# Write a Python program to reverse words in a string\n",
    "\n",
    "# String = “Deeptech Python Training”"
   ]
  },
  {
   "cell_type": "code",
   "execution_count": 13,
   "id": "dbe1bcad-9e30-45c1-ba21-e31c84138f59",
   "metadata": {},
   "outputs": [
    {
     "name": "stdout",
     "output_type": "stream",
     "text": [
      "Original string: 'Deeptech Python Training'\n",
      "Reversed string: 'Training Python Deeptech'\n"
     ]
    }
   ],
   "source": [
    "def reverse_words(input_string):\n",
    "    \"\"\"\n",
    "    Function to reverse the words in a given string.\n",
    "    \"\"\"\n",
    "    # Split the string into words\n",
    "    words = input_string.split()\n",
    "    \n",
    "    # Reverse the list of words\n",
    "    reversed_words = words[::-1]\n",
    "    \n",
    "    # Join the reversed words into a single string\n",
    "    reversed_string = ' '.join(reversed_words)\n",
    "    \n",
    "    return reversed_string\n",
    "\n",
    "# Given string\n",
    "string = \"Deeptech Python Training\"\n",
    "\n",
    "# Get the reversed string\n",
    "reversed_string = reverse_words(string)\n",
    "\n",
    "# Print the result\n",
    "print(f\"Original string: '{string}'\")\n",
    "print(f\"Reversed string: '{reversed_string}'\")\n"
   ]
  },
  {
   "cell_type": "code",
   "execution_count": null,
   "id": "cff4c5a3-ae9a-4e13-be05-6784b81f1815",
   "metadata": {},
   "outputs": [],
   "source": [
    "# Write a Python program to count and display the vowels of a given\n",
    "\n",
    "# text\n",
    "\n",
    "# String=”Welcome to python Training”"
   ]
  },
  {
   "cell_type": "code",
   "execution_count": 15,
   "id": "197f6971-17a6-43a4-89dc-c538bed9c815",
   "metadata": {},
   "outputs": [
    {
     "name": "stdout",
     "output_type": "stream",
     "text": [
      "Vowel counts:\n",
      "a: 1\n",
      "e: 2\n",
      "i: 2\n",
      "o: 3\n",
      "u: 0\n",
      "A: 0\n",
      "E: 0\n",
      "I: 0\n",
      "O: 0\n",
      "U: 0\n"
     ]
    }
   ],
   "source": [
    "def count_vowels(text):\n",
    "    \"\"\"\n",
    "    Function to count and display the vowels in a given text.\n",
    "    \"\"\"\n",
    "    # Define vowels\n",
    "    vowels = \"aeiouAEIOU\"\n",
    "    \n",
    "    # Initialize a dictionary to keep track of vowel counts\n",
    "    vowel_count = {vowel: 0 for vowel in vowels}\n",
    "    \n",
    "    # Count each vowel in the text\n",
    "    for char in text:\n",
    "        if char in vowel_count:\n",
    "            vowel_count[char] += 1\n",
    "    \n",
    "    return vowel_count\n",
    "\n",
    "# Given string\n",
    "string = \"Welcome to python Training\"\n",
    "\n",
    "# Get the vowel counts\n",
    "vowel_counts = count_vowels(string)\n",
    "\n",
    "# Display the results\n",
    "print(\"Vowel counts:\")\n",
    "for vowel, count in vowel_counts.items():\n",
    "    print(f\"{vowel}: {count}\")\n"
   ]
  },
  {
   "cell_type": "code",
   "execution_count": null,
   "id": "835953ad-43e0-4266-a8d5-da315ccfbdee",
   "metadata": {},
   "outputs": [],
   "source": [
    "# Write a Python program to Count all letters, digits, and special\n",
    "\n",
    "# symbols from the given string\n",
    "\n",
    "# Input = “P@#yn26at^&i5ve”\n",
    "\n",
    "# Output: Chars = 8 Digits = 2 Symbol = 3"
   ]
  },
  {
   "cell_type": "code",
   "execution_count": 17,
   "id": "162c2ca0-cd9a-49d8-b0e2-ec55ca90f90b",
   "metadata": {},
   "outputs": [
    {
     "name": "stdout",
     "output_type": "stream",
     "text": [
      "Chars = 8 Digits = 3 Symbols = 4\n"
     ]
    }
   ],
   "source": [
    "import string\n",
    "\n",
    "def count_chars_digits_symbols(text):\n",
    "    \"\"\"\n",
    "    Function to count letters, digits, and special symbols in a given string.\n",
    "    \"\"\"\n",
    "    # Initialize counters\n",
    "    letter_count = 0\n",
    "    digit_count = 0\n",
    "    symbol_count = 0\n",
    "    \n",
    "    # Define letters and digits\n",
    "    letters = string.ascii_letters\n",
    "    digits = string.digits\n",
    "    symbols = string.punctuation  # This includes special symbols like @, #, ^, &, etc.\n",
    "    \n",
    "    # Count each character type\n",
    "    for char in text:\n",
    "        if char in letters:\n",
    "            letter_count += 1\n",
    "        elif char in digits:\n",
    "            digit_count += 1\n",
    "        elif char in symbols:\n",
    "            symbol_count += 1\n",
    "    \n",
    "    return letter_count, digit_count, symbol_count\n",
    "\n",
    "# Given string\n",
    "input_string = \"P@#yn26at^&i5ve\"\n",
    "\n",
    "# Get counts for letters, digits, and symbols\n",
    "letters_count, digits_count, symbols_count = count_chars_digits_symbols(input_string)\n",
    "\n",
    "# Display the results\n",
    "print(f\"Chars = {letters_count} Digits = {digits_count} Symbols = {symbols_count}\")\n"
   ]
  },
  {
   "cell_type": "code",
   "execution_count": null,
   "id": "56c64f83-a1b4-427b-9e94-42be4e31a92d",
   "metadata": {},
   "outputs": [],
   "source": [
    "# Write a Python program to remove duplicate characters of a given string.\n",
    "\n",
    "# Input = “String and String Function”\n",
    "\n",
    "# Output: String and Function"
   ]
  },
  {
   "cell_type": "code",
   "execution_count": 19,
   "id": "96474386-9f5e-4a82-801d-6f79f4580111",
   "metadata": {},
   "outputs": [
    {
     "name": "stdout",
     "output_type": "stream",
     "text": [
      "Input: String and String Function\n",
      "Output: String and String Functio\n"
     ]
    }
   ],
   "source": [
    "def remove_duplicates_from_word(word):\n",
    "    \"\"\"\n",
    "    Function to remove duplicate characters from a given word.\n",
    "    \"\"\"\n",
    "    seen = set()\n",
    "    result = []\n",
    "    \n",
    "    for char in word:\n",
    "        if char not in seen:\n",
    "            seen.add(char)\n",
    "            result.append(char)\n",
    "    \n",
    "    return ''.join(result)\n",
    "\n",
    "def remove_duplicates_from_string(text):\n",
    "    \"\"\"\n",
    "    Function to remove duplicate characters from each word in the given string.\n",
    "    \"\"\"\n",
    "    # Split the text into words\n",
    "    words = text.split()\n",
    "    \n",
    "    # Process each word to remove duplicates\n",
    "    processed_words = [remove_duplicates_from_word(word) for word in words]\n",
    "    \n",
    "    # Join the processed words back into a single string\n",
    "    return ' '.join(processed_words)\n",
    "\n",
    "# Given input string\n",
    "input_string = \"String and String Function\"\n",
    "\n",
    "# Get the string with duplicates removed\n",
    "output_string = remove_duplicates_from_string(input_string)\n",
    "\n",
    "# Display the result\n",
    "print(f\"Input: {input_string}\")\n",
    "print(f\"Output: {output_string}\")\n"
   ]
  },
  {
   "cell_type": "code",
   "execution_count": null,
   "id": "42b920be-d73e-4257-ae65-89cb71aa9c33",
   "metadata": {},
   "outputs": [],
   "source": [
    "# Write a Python program to count Uppercase, Lowercase, special\n",
    "\n",
    "# character and numeric values in a given string\n",
    "\n",
    "# Input = “Hell0 W0rld ! 123 * # welcome to pYtHoN”"
   ]
  },
  {
   "cell_type": "code",
   "execution_count": 21,
   "id": "5c366a60-eac5-48ea-9fd7-9deba3a3fac1",
   "metadata": {},
   "outputs": [
    {
     "name": "stdout",
     "output_type": "stream",
     "text": [
      "Uppercase Letters = 5\n",
      "Lowercase Letters = 18\n",
      "Digits = 5\n",
      "Special Characters = 3\n"
     ]
    }
   ],
   "source": [
    "import string\n",
    "\n",
    "def count_character_types(text):\n",
    "    \"\"\"\n",
    "    Function to count uppercase letters, lowercase letters, digits, and special characters in a given string.\n",
    "    \"\"\"\n",
    "    # Initialize counters\n",
    "    uppercase_count = 0\n",
    "    lowercase_count = 0\n",
    "    digit_count = 0\n",
    "    special_count = 0\n",
    "    \n",
    "    # Define character sets\n",
    "    uppercase_letters = string.ascii_uppercase\n",
    "    lowercase_letters = string.ascii_lowercase\n",
    "    digits = string.digits\n",
    "    special_characters = string.punctuation  # This includes special symbols like @, #, ^, &, etc.\n",
    "    \n",
    "    # Count each character type\n",
    "    for char in text:\n",
    "        if char in uppercase_letters:\n",
    "            uppercase_count += 1\n",
    "        elif char in lowercase_letters:\n",
    "            lowercase_count += 1\n",
    "        elif char in digits:\n",
    "            digit_count += 1\n",
    "        elif char in special_characters:\n",
    "            special_count += 1\n",
    "    \n",
    "    return uppercase_count, lowercase_count, digit_count, special_count\n",
    "\n",
    "# Given string\n",
    "input_string = \"Hell0 W0rld ! 123 * # welcome to pYtHoN\"\n",
    "\n",
    "# Get counts for each character type\n",
    "uppercase_count, lowercase_count, digit_count, special_count = count_character_types(input_string)\n",
    "\n",
    "# Display the results\n",
    "print(f\"Uppercase Letters = {uppercase_count}\")\n",
    "print(f\"Lowercase Letters = {lowercase_count}\")\n",
    "print(f\"Digits = {digit_count}\")\n",
    "print(f\"Special Characters = {special_count}\")\n"
   ]
  },
  {
   "cell_type": "code",
   "execution_count": null,
   "id": "3b44c8f3-ef2d-4f54-920c-8dbbc2da4117",
   "metadata": {},
   "outputs": [],
   "source": [
    "# Write a Python Count vowels in a string\n",
    "\n",
    "# input= “Welcome to Python Assignment”\n",
    "\n",
    "# Output: Total vowels are: 8"
   ]
  },
  {
   "cell_type": "code",
   "execution_count": 23,
   "id": "443f0aac-6ab5-42a6-84c7-bae8ce852682",
   "metadata": {},
   "outputs": [
    {
     "name": "stdout",
     "output_type": "stream",
     "text": [
      "Total vowels are: 8\n"
     ]
    }
   ],
   "source": [
    "def count_vowels(text):\n",
    "    \"\"\"\n",
    "    Function to count the total number of vowels in a given string.\n",
    "    \"\"\"\n",
    "    # Define vowels\n",
    "    vowels = \"aeiouAEIOU\"\n",
    "    \n",
    "    # Initialize the vowel counter\n",
    "    vowel_count = 0\n",
    "    \n",
    "    # Count each vowel in the text\n",
    "    for char in text:\n",
    "        if char in vowels:\n",
    "            vowel_count += 1\n",
    "    \n",
    "    return vowel_count\n",
    "\n",
    "# Given input string\n",
    "input_string = \"Welcome to Python Assignment\"\n",
    "\n",
    "# Get the count of vowels\n",
    "total_vowels = count_vowels(input_string)\n",
    "\n",
    "# Display the result\n",
    "print(f\"Total vowels are: {total_vowels}\")\n"
   ]
  }
 ],
 "metadata": {
  "kernelspec": {
   "display_name": "Python 3 (ipykernel)",
   "language": "python",
   "name": "python3"
  },
  "language_info": {
   "codemirror_mode": {
    "name": "ipython",
    "version": 3
   },
   "file_extension": ".py",
   "mimetype": "text/x-python",
   "name": "python",
   "nbconvert_exporter": "python",
   "pygments_lexer": "ipython3",
   "version": "3.12.4"
  }
 },
 "nbformat": 4,
 "nbformat_minor": 5
}
