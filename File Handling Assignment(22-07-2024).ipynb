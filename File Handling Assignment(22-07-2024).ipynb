{
 "cells": [
  {
   "cell_type": "code",
   "execution_count": 17,
   "id": "da3199d5-567b-4f10-bf05-d3fba38ec823",
   "metadata": {},
   "outputs": [
    {
     "name": "stdout",
     "output_type": "stream",
     "text": [
      "The word 'India' occurs 3 times in the file 'india.txt'.\n"
     ]
    }
   ],
   "source": [
    "#wap to count the ocurance of word \"india\" in a txt file india.txt\n",
    "\n",
    "\n",
    "with open('india.txt', 'w') as file:\n",
    "    file.write(\"\"\"India is a country in South Asia. It is the seventh-largest country by land area,\n",
    "the second-most populous country, and the most populous democracy in the world. India has a rich cultural heritage.\n",
    "India's economy is one of the fastest-growing in the world. India is known for its diverse culture and traditions.\"\"\")\n",
    "\n",
    "\n",
    "def count_word_occurrences(filename, word):\n",
    "    count = 0\n",
    "    with open(filename, 'r') as file:\n",
    "        content = file.read()\n",
    "        words = content.split()\n",
    "        for w in words:\n",
    "            if w.lower() == word.lower():\n",
    "                count += 1\n",
    "    return count\n",
    "\n",
    "\n",
    "occurrences = count_word_occurrences('india.txt', 'India')\n",
    "print(f\"The word 'India' occurs {occurrences} times in the file 'india.txt'.\")\n"
   ]
  },
  {
   "cell_type": "code",
   "execution_count": 3,
   "id": "2a98b312-4777-431c-9add-d1438a1a1816",
   "metadata": {},
   "outputs": [
    {
     "name": "stdout",
     "output_type": "stream",
     "text": [
      "Number of lines starting with 'T': 7\n",
      "Lines starting with 'T':\n",
      "This is the first line.\n",
      "There are many stories.\n",
      "The quick brown fox jumps over the lazy dog.\n",
      "Tigers are magnificent creatures.\n",
      "To be or not to be, that is the question.\n",
      "The end.\n",
      "Tomorrow is another day.\n"
     ]
    }
   ],
   "source": [
    "#writa a program to count and display the lines starting with \"T\" in a text file story.txt\n",
    "\n",
    "with open('story.txt', 'w') as file:\n",
    "    file.write(\"\"\"This is the first line.\n",
    "There are many stories.\n",
    "The quick brown fox jumps over the lazy dog.\n",
    "Tigers are magnificent creatures.\n",
    "To be or not to be, that is the question.\n",
    "A random line.\n",
    "The end.\n",
    "Tomorrow is another day.\"\"\")\n",
    "\n",
    "\n",
    "def count_and_display_lines_starting_with_t(filename):\n",
    "    count = 0\n",
    "    lines_starting_with_t = []\n",
    "\n",
    "    with open(filename, 'r') as file:\n",
    "        for line in file:\n",
    "            if line.startswith('T'):\n",
    "                count += 1\n",
    "                lines_starting_with_t.append(line.strip())\n",
    "\n",
    "    print(f\"Number of lines starting with 'T': {count}\")\n",
    "    print(\"Lines starting with 'T':\")\n",
    "    for line in lines_starting_with_t:\n",
    "        print(line)\n",
    "\n",
    "\n",
    "count_and_display_lines_starting_with_t('story.txt')\n"
   ]
  },
  {
   "cell_type": "code",
   "execution_count": 4,
   "id": "2dcb720e-7a18-4fa3-a03c-ffc96e0ed275",
   "metadata": {},
   "outputs": [
    {
     "name": "stdout",
     "output_type": "stream",
     "text": [
      "Number of vowels: 31\n",
      "Number of consonants: 51\n"
     ]
    }
   ],
   "source": [
    "# write a program to count the vowels and consonats in a file \"MYFile.txt\"\n",
    "\n",
    "with open('MYFile.txt', 'w') as file:\n",
    "    file.write(\"\"\"This is a sample text file.\n",
    "It contains multiple lines of text.\n",
    "We are counting vowels and consonants.\"\"\")\n",
    "\n",
    "\n",
    "def count_vowels_and_consonants(filename):\n",
    "    vowels = \"AEIOUaeiou\"\n",
    "    consonants = \"BCDFGHJKLMNPQRSTVWXYZbcdfghjklmnpqrstvwxyz\"\n",
    "    vowels_count = 0\n",
    "    consonants_count = 0\n",
    "\n",
    "    with open(filename, 'r') as file:\n",
    "        content = file.read()\n",
    "        for char in content:\n",
    "            if char in vowels:\n",
    "                vowels_count += 1\n",
    "            elif char in consonants:\n",
    "                consonants_count += 1\n",
    "\n",
    "    return vowels_count, consonants_count\n",
    "\n",
    "\n",
    "vowels_count, consonants_count = count_vowels_and_consonants('MYFile.txt')\n",
    "print(f\"Number of vowels: {vowels_count}\")\n",
    "print(f\"Number of consonants: {consonants_count}\")\n"
   ]
  },
  {
   "cell_type": "code",
   "execution_count": 5,
   "id": "d696ca8e-a50a-4a6c-b48d-47ba27f4a31d",
   "metadata": {},
   "outputs": [
    {
     "name": "stdout",
     "output_type": "stream",
     "text": [
      "Number of words starting with 'i': 9\n",
      "Words starting with 'i':\n",
      "is\n",
      "It\n",
      "i.\n",
      "Indeed,\n",
      "it\n",
      "is\n",
      "interesting\n",
      "Isn't\n",
      "it?\n"
     ]
    }
   ],
   "source": [
    "# write a program to count and display number of words starting with i in a file word.txt\n",
    "\n",
    "\n",
    "with open('word.txt', 'w') as file:\n",
    "    file.write(\"\"\"This is a simple text file.\n",
    "It contains several words.\n",
    "Some words start with the letter i.\n",
    "Indeed, it is an interesting example.\n",
    "Isn't it?\"\"\")\n",
    "\n",
    "def count_and_display_words_starting_with_i(filename):\n",
    "    count = 0\n",
    "    words_starting_with_i = []\n",
    "\n",
    "    with open(filename, 'r') as file:\n",
    "        for line in file:\n",
    "            words = line.split()\n",
    "            for word in words:\n",
    "                if word.lower().startswith('i'):\n",
    "                    count += 1\n",
    "                    words_starting_with_i.append(word)\n",
    "\n",
    "    print(f\"Number of words starting with 'i': {count}\")\n",
    "    print(\"Words starting with 'i':\")\n",
    "    for word in words_starting_with_i:\n",
    "        print(word)\n",
    "\n",
    "\n",
    "count_and_display_words_starting_with_i('word.txt')\n"
   ]
  },
  {
   "cell_type": "code",
   "execution_count": 6,
   "id": "f71fa1a9-0661-48e9-9f68-e299f66994f7",
   "metadata": {},
   "outputs": [
    {
     "name": "stdout",
     "output_type": "stream",
     "text": [
      "Lines with more than five words:\n",
      "This is a simple text file.\n",
      "It contains several lines of text.\n",
      "Some lines have more than five words.\n",
      "This line, for example, has exactly seven words.\n",
      "Another example with more than five words in it.\n"
     ]
    }
   ],
   "source": [
    "# write a program to display the lines having more than five words in a text file Notes.txt\n",
    "\n",
    "\n",
    "\n",
    "with open('Notes.txt', 'w') as file:\n",
    "    file.write(\"\"\"This is a simple text file.\n",
    "It contains several lines of text.\n",
    "Some lines have more than five words.\n",
    "This line, for example, has exactly seven words.\n",
    "Short line.\n",
    "Another example with more than five words in it.\"\"\")\n",
    "\n",
    "def display_lines_with_more_than_five_words(filename):\n",
    "    with open(filename, 'r') as file:\n",
    "        lines = file.readlines()\n",
    "\n",
    "    print(\"Lines with more than five words:\")\n",
    "    for line in lines:\n",
    "        if len(line.split()) > 5:\n",
    "            print(line.strip())\n",
    "\n",
    "\n",
    "display_lines_with_more_than_five_words('Notes.txt')\n"
   ]
  },
  {
   "cell_type": "code",
   "execution_count": null,
   "id": "d4c37afc-43a5-444a-9694-1bb11a797470",
   "metadata": {},
   "outputs": [],
   "source": []
  }
 ],
 "metadata": {
  "kernelspec": {
   "display_name": "Python 3 (ipykernel)",
   "language": "python",
   "name": "python3"
  },
  "language_info": {
   "codemirror_mode": {
    "name": "ipython",
    "version": 3
   },
   "file_extension": ".py",
   "mimetype": "text/x-python",
   "name": "python",
   "nbconvert_exporter": "python",
   "pygments_lexer": "ipython3",
   "version": "3.12.2"
  }
 },
 "nbformat": 4,
 "nbformat_minor": 5
}
