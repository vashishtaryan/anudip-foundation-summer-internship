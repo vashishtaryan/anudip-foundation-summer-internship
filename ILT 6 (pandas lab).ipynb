{
 "cells": [
  {
   "cell_type": "code",
   "execution_count": null,
   "id": "a5f58882-f6a9-4e47-826c-84c4a8a7949d",
   "metadata": {},
   "outputs": [],
   "source": [
    "#1..Suppose you are a teacher, and you want to analyze the exam scores of your\n",
    "# students in a particular subject. You have recorded the scores of your students for a\n",
    "# recent exam, and you want to represent this data using a Pandas Series.\n",
    "# Input:\n",
    "# students = ['Alice', 'Bob', 'Charlie', 'David', 'Eve', 'Frank', 'Grace', 'Hannah', 'Ivy', 'Jack']\n",
    "# exam_scores = [92, 88, 76, 94, 82, 90, 85, 89, 78, 91"
   ]
  },
  {
   "cell_type": "code",
   "execution_count": 1,
   "id": "ee70726c-9e4d-4d41-bc89-7a8185c9d4a0",
   "metadata": {},
   "outputs": [
    {
     "name": "stdout",
     "output_type": "stream",
     "text": [
      "Alice      92\n",
      "Bob        88\n",
      "Charlie    76\n",
      "David      94\n",
      "Eve        82\n",
      "Frank      90\n",
      "Grace      85\n",
      "Hannah     89\n",
      "Ivy        78\n",
      "Jack       91\n",
      "dtype: int64\n"
     ]
    }
   ],
   "source": [
    "import pandas as pd\n",
    "\n",
    "# Define the data\n",
    "students = ['Alice', 'Bob', 'Charlie', 'David', 'Eve', 'Frank', 'Grace', 'Hannah', 'Ivy', 'Jack']\n",
    "exam_scores = [92, 88, 76, 94, 82, 90, 85, 89, 78, 91]\n",
    "\n",
    "# Create a Pandas Series\n",
    "scores_series = pd.Series(exam_scores, index=students)\n",
    "\n",
    "# Print the Series\n",
    "print(scores_series)\n"
   ]
  },
  {
   "cell_type": "code",
   "execution_count": null,
   "id": "a2d55db6-e28c-4047-998d-5a2a7d1fc3c9",
   "metadata": {},
   "outputs": [],
   "source": [
    "# 2.: Suppose you want to track and analyze your household expenses for a month.\n",
    "# You have recorded the expenses for various categories, such as groceries, utilities, rent,\n",
    "# transportation, and entertainment. You can represent this expense data using a Pandas\n",
    "# Series.\n",
    "# Input:\n",
    "# # Expense categories\n",
    "# categories = ['Groceries', 'Utilities', 'Rent', 'Transportation', 'Entertainment']\n",
    "# # Monthly expense data (example data in USD)\n",
    "# expenses = [500, 200, 1200, 300, 150"
   ]
  },
  {
   "cell_type": "code",
   "execution_count": 3,
   "id": "f91c8eb2-f2ef-476e-9a4f-39c1ec37a14e",
   "metadata": {},
   "outputs": [
    {
     "name": "stdout",
     "output_type": "stream",
     "text": [
      "Groceries          500\n",
      "Utilities          200\n",
      "Rent              1200\n",
      "Transportation     300\n",
      "Entertainment      150\n",
      "dtype: int64\n"
     ]
    }
   ],
   "source": [
    "import pandas as pd\n",
    "\n",
    "# Define the data\n",
    "categories = ['Groceries', 'Utilities', 'Rent', 'Transportation', 'Entertainment']\n",
    "expenses = [500, 200, 1200, 300, 150]\n",
    "\n",
    "# Create a Pandas Series\n",
    "expenses_series = pd.Series(expenses, index=categories)\n",
    "\n",
    "# Print the Series\n",
    "print(expenses_series)\n"
   ]
  },
  {
   "cell_type": "code",
   "execution_count": null,
   "id": "b64523e4-f7f7-4d32-bb21-1cf618baa345",
   "metadata": {},
   "outputs": [],
   "source": [
    "# 3...: Suppose you want to track and analyze the monthly energy consumption in your\n",
    "# home. You have recorded the monthly energy usage for electricity and gas over a year,\n",
    "# and you want to represent this data using Pandas Series.\n",
    "# Input:\n",
    "# # Months in a year\n",
    "# months = ['January', 'February', 'March', 'April', 'May', 'June', 'July', 'August',\n",
    "# 'September', 'October', 'November', 'December']\n",
    "# # Monthly energy consumption data (example data in kilowatt-hours for electricity and\n",
    "# therms for gas)\n",
    "# electricity_usage = [350, 320, 310, 330, 340, 370, 380, 360, 350, 330, 320, 330]\n",
    "# gas_usage = [20, 18, 16, 15, 12, 10, 8, 9, 12, 15, 17, 19\n"
   ]
  },
  {
   "cell_type": "code",
   "execution_count": 5,
   "id": "a9f1cafd-40c1-483c-acbe-b1c512086e19",
   "metadata": {},
   "outputs": [
    {
     "name": "stdout",
     "output_type": "stream",
     "text": [
      "Electricity Usage:\n",
      "January      350\n",
      "February     320\n",
      "March        310\n",
      "April        330\n",
      "May          340\n",
      "June         370\n",
      "July         380\n",
      "August       360\n",
      "September    350\n",
      "October      330\n",
      "November     320\n",
      "December     330\n",
      "Name: Electricity Usage (kWh), dtype: int64\n",
      "\n",
      "Gas Usage:\n",
      "January      20\n",
      "February     18\n",
      "March        16\n",
      "April        15\n",
      "May          12\n",
      "June         10\n",
      "July          8\n",
      "August        9\n",
      "September    12\n",
      "October      15\n",
      "November     17\n",
      "December     19\n",
      "Name: Gas Usage (therms), dtype: int64\n"
     ]
    }
   ],
   "source": [
    "import pandas as pd\n",
    "\n",
    "# Define the data\n",
    "months = ['January', 'February', 'March', 'April', 'May', 'June', 'July', 'August', \n",
    "          'September', 'October', 'November', 'December']\n",
    "electricity_usage = [350, 320, 310, 330, 340, 370, 380, 360, 350, 330, 320, 330]\n",
    "gas_usage = [20, 18, 16, 15, 12, 10, 8, 9, 12, 15, 17, 19]\n",
    "\n",
    "# Create Pandas Series for each type of energy usage\n",
    "electricity_series = pd.Series(electricity_usage, index=months, name='Electricity Usage (kWh)')\n",
    "gas_series = pd.Series(gas_usage, index=months, name='Gas Usage (therms)')\n",
    "\n",
    "# Print the Series\n",
    "print(\"Electricity Usage:\")\n",
    "print(electricity_series)\n",
    "print(\"\\nGas Usage:\")\n",
    "print(gas_series)\n"
   ]
  },
  {
   "cell_type": "code",
   "execution_count": null,
   "id": "3b70299a-8370-40d0-85a7-eb9a7663b27e",
   "metadata": {},
   "outputs": [],
   "source": [
    "# 4...Suppose you are managing a website and want to analyze the monthly revenue\n",
    "# generated from advertising. You have recorded the monthly revenue for the past year,\n",
    "# and you want to represent this data using a Pandas Series.\n",
    "# Input:\n",
    "# # Months in a year\n",
    "# months = ['January', 'February', 'March', 'April', 'May', 'June', 'July', 'August',\n",
    "# 'September', 'October', 'November', 'December']\n",
    "# # Monthly advertising revenue data (example data in USD)\n",
    "# revenue = [5000, 5200, 4800, 5400, 5600, 5800, 6100, 5900, 6200, 6500, 7000, 6900"
   ]
  },
  {
   "cell_type": "code",
   "execution_count": 7,
   "id": "d7ded290-8b9a-4516-b5c7-eee0557ee17f",
   "metadata": {},
   "outputs": [
    {
     "name": "stdout",
     "output_type": "stream",
     "text": [
      "January      5000\n",
      "February     5200\n",
      "March        4800\n",
      "April        5400\n",
      "May          5600\n",
      "June         5800\n",
      "July         6100\n",
      "August       5900\n",
      "September    6200\n",
      "October      6500\n",
      "November     7000\n",
      "December     6900\n",
      "Name: Monthly Revenue (USD), dtype: int64\n"
     ]
    }
   ],
   "source": [
    "import pandas as pd\n",
    "\n",
    "# Define the data\n",
    "months = ['January', 'February', 'March', 'April', 'May', 'June', 'July', 'August', \n",
    "          'September', 'October', 'November', 'December']\n",
    "revenue = [5000, 5200, 4800, 5400, 5600, 5800, 6100, 5900, 6200, 6500, 7000, 6900]\n",
    "\n",
    "# Create a Pandas Series\n",
    "revenue_series = pd.Series(revenue, index=months, name='Monthly Revenue (USD)')\n",
    "\n",
    "# Print the Series\n",
    "print(revenue_series)\n"
   ]
  },
  {
   "cell_type": "code",
   "execution_count": null,
   "id": "1b43ace9-4f6c-4779-a180-2e67562c5556",
   "metadata": {},
   "outputs": [],
   "source": [
    "#chatgpt exercise:Using ChatGPT generate the python code to solve the same problem\n",
    "# Scenario: Analyzing Stock Prices\n",
    "# Suppose you are an investor interested in analyzing the stock prices of a particular\n",
    "# company over a year. You have collected daily closing prices for that company's stock,\n",
    "# and you want to perform some analysis like Calculate the average daily return,Find the\n",
    "# date with the highest closing price and also generate a line chart using Pandas Series.\n",
    "# Further, you need to get some inference out of the chart.\n",
    "# Create a ChatGPT prompt to generate the code for this scenario. Based on the code\n",
    "# generated, ask ChatGPT to give the conclusion/inference.\n",
    "# Note. You can provide the data to ChatGPT in the form of a list or dictionary or ask it to\n",
    "# use sample data"
   ]
  },
  {
   "cell_type": "code",
   "execution_count": 11,
   "id": "79b69643-14f7-4b4b-b884-a3117b7c184b",
   "metadata": {},
   "outputs": [
    {
     "data": {
      "image/png": "[encoded data removed]",
      "text/plain": [
       "<Figure size 1000x500 with 1 Axes>"
      ]
     },
     "metadata": {},
     "output_type": "display_data"
    },
    {
     "name": "stdout",
     "output_type": "stream",
     "text": [
      "Average Daily Return: 0.0109\n",
      "Date with the Highest Closing Price: 2023-01-07 (Price: $160)\n"
     ]
    }
   ],
   "source": [
    "import pandas as pd\n",
    "import matplotlib.pyplot as plt\n",
    "\n",
    "# Sample data\n",
    "dates = ['2023-01-01', '2023-01-02', '2023-01-03', '2023-01-04', '2023-01-05', '2023-01-06', '2023-01-07']\n",
    "closing_prices = [150, 152, 155, 153, 156, 158, 160]\n",
    "\n",
    "# Create a Pandas Series\n",
    "stock_prices = pd.Series(closing_prices, index=pd.to_datetime(dates), name='Closing Prices')\n",
    "\n",
    "# Calculate the average daily return\n",
    "daily_returns = stock_prices.pct_change().dropna()\n",
    "average_daily_return = daily_returns.mean()\n",
    "\n",
    "# Find the date with the highest closing price\n",
    "max_price_date = stock_prices.idxmax()\n",
    "max_price_value = stock_prices.max()\n",
    "\n",
    "# Generate a line chart\n",
    "plt.figure(figsize=(10, 5))\n",
    "plt.plot(stock_prices.index, stock_prices.values, marker='o', linestyle='-')\n",
    "plt.title('Stock Prices Over Time')\n",
    "plt.xlabel('Date')\n",
    "plt.ylabel('Closing Price (USD)')\n",
    "plt.grid(True)\n",
    "plt.xticks(rotation=45)\n",
    "plt.tight_layout()\n",
    "plt.show()\n",
    "\n",
    "# Print the results\n",
    "print(f\"Average Daily Return: {average_daily_return:.4f}\")\n",
    "print(f\"Date with the Highest Closing Price: {max_price_date.date()} (Price: ${max_price_value})\")\n",
    "\n",
    "\n",
    "#Conclusion Request:\n",
    "\n",
    "#Based on the generated chart from the Python code provided, please give a conclusion or inference about the stock prices.\n",
    "#What trends or insights can be drawn from the line chart and the calculated average daily return?\n",
    "\n"
   ]
  },
  {
   "cell_type": "code",
   "execution_count": null,
   "id": "fa2d79a2-1318-4ecb-9138-7c5ffcbf6a67",
   "metadata": {},
   "outputs": [],
   "source": [
    "#5...: Write a Pandas program to create a dataframe from a dictionary and\n",
    "# display it.\n",
    "# Sample data:\n",
    "# score={'Math':[78,85,96,80,86], 'English':[84,94,89,83,86],'Hindi':[86,97,96,72,83]}"
   ]
  },
  {
   "cell_type": "code",
   "execution_count": 9,
   "id": "6eaa2a9f-b081-414a-9b71-41370cd94eb5",
   "metadata": {},
   "outputs": [
    {
     "name": "stdout",
     "output_type": "stream",
     "text": [
      "   Math  English  Hindi\n",
      "0    78       84     86\n",
      "1    85       94     97\n",
      "2    96       89     96\n",
      "3    80       83     72\n",
      "4    86       86     83\n"
     ]
    }
   ],
   "source": [
    "import pandas as pd\n",
    "\n",
    "# Sample data\n",
    "score = {\n",
    "    'Math': [78, 85, 96, 80, 86],\n",
    "    'English': [84, 94, 89, 83, 86],\n",
    "    'Hindi': [86, 97, 96, 72, 83]\n",
    "}\n",
    "\n",
    "# Create a Pandas DataFrame\n",
    "df = pd.DataFrame(score)\n",
    "\n",
    "# Display the DataFrame\n",
    "print(df)\n"
   ]
  },
  {
   "cell_type": "code",
   "execution_count": null,
   "id": "cedc4881-b813-4f12-b498-cbd8f763b929",
   "metadata": {},
   "outputs": [],
   "source": [
    "#6...: Write a Pandas program to create and display a DataFrame from a\n",
    "# specified dictionary data which has the index labels.\n",
    "# Sample Python dictionary data and list labels:\n",
    "# exam_data = {'name': ['Anastasia', 'Dima', 'Katherine', 'James', 'Emily',\n",
    "# 'Michael', 'Matthew', 'Laura', 'Kevin', 'Jonas'],\n",
    "# 'score': [12.5, 9, 16.5, np.nan, 9, 20, 14.5, np.nan, 8, 19],\n",
    "# 'attempts': [1, 3, 2, 3, 2, 3, 1, 1, 2, 1],\n",
    "# 'qualify': ['yes', 'no', 'yes', 'no', 'no', 'yes', 'yes', 'no', 'no', 'yes']"
   ]
  },
  {
   "cell_type": "code",
   "execution_count": 13,
   "id": "67c38669-9575-4781-b87a-1fef02a55a3b",
   "metadata": {},
   "outputs": [
    {
     "name": "stdout",
     "output_type": "stream",
     "text": [
      "                name  score  attempts qualify\n",
      "Student1   Anastasia   12.5         1     yes\n",
      "Student2        Dima    9.0         3      no\n",
      "Student3   Katherine   16.5         2     yes\n",
      "Student4       James    NaN         3      no\n",
      "Student5       Emily    9.0         2      no\n",
      "Student6     Michael   20.0         3     yes\n",
      "Student7     Matthew   14.5         1     yes\n",
      "Student8       Laura    NaN         1      no\n",
      "Student9       Kevin    8.0         2      no\n",
      "Student10      Jonas   19.0         1     yes\n"
     ]
    }
   ],
   "source": [
    "import pandas as pd\n",
    "import numpy as np\n",
    "\n",
    "# Sample data\n",
    "exam_data = {\n",
    "    'name': ['Anastasia', 'Dima', 'Katherine', 'James', 'Emily', 'Michael', 'Matthew', 'Laura', 'Kevin', 'Jonas'],\n",
    "    'score': [12.5, 9, 16.5, np.nan, 9, 20, 14.5, np.nan, 8, 19],\n",
    "    'attempts': [1, 3, 2, 3, 2, 3, 1, 1, 2, 1],\n",
    "    'qualify': ['yes', 'no', 'yes', 'no', 'no', 'yes', 'yes', 'no', 'no', 'yes']\n",
    "}\n",
    "\n",
    "# Index labels\n",
    "index_labels = ['Student1', 'Student2', 'Student3', 'Student4', 'Student5',\n",
    "                 'Student6', 'Student7', 'Student8', 'Student9', 'Student10']\n",
    "\n",
    "# Create a Pandas DataFrame with index labels\n",
    "df = pd.DataFrame(exam_data, index=index_labels)\n",
    "\n",
    "# Display the DataFrame\n",
    "print(df)\n"
   ]
  },
  {
   "cell_type": "code",
   "execution_count": null,
   "id": "9d360bc3-3eb9-44b8-b1b0-714cbc22c4a8",
   "metadata": {},
   "outputs": [],
   "source": [
    "#7...Write a Pandas program to get the first 3 rows of a given DataFrame.\n",
    "# Sample DataFrame:\n",
    "# exam_data = {'name': ['Anastasia', 'Dima', 'Katherine', 'James', 'Emily',\n",
    "# 'Michael', 'Matthew', 'Laura', 'Kevin', 'Jonas'],\n",
    "# 'score': [12.5, 9, 16.5, np.nan, 9, 20, 14.5, np.nan, 8, 19],\n",
    "# 'attempts': [1, 3, 2, 3, 2, 3, 1, 1, 2, 1],\n",
    "# 'qualify': ['yes', 'no', 'yes', 'no', 'no', 'yes', 'yes', 'no', 'no', 'yes']}"
   ]
  },
  {
   "cell_type": "code",
   "execution_count": 15,
   "id": "d62a622a-335b-494f-a96d-7cba48a1ccd7",
   "metadata": {},
   "outputs": [
    {
     "name": "stdout",
     "output_type": "stream",
     "text": [
      "        name  score  attempts qualify\n",
      "0  Anastasia   12.5         1     yes\n",
      "1       Dima    9.0         3      no\n",
      "2  Katherine   16.5         2     yes\n"
     ]
    }
   ],
   "source": [
    "import pandas as pd\n",
    "import numpy as np\n",
    "\n",
    "# Sample data\n",
    "exam_data = {\n",
    "    'name': ['Anastasia', 'Dima', 'Katherine', 'James', 'Emily', 'Michael', 'Matthew', 'Laura', 'Kevin', 'Jonas'],\n",
    "    'score': [12.5, 9, 16.5, np.nan, 9, 20, 14.5, np.nan, 8, 19],\n",
    "    'attempts': [1, 3, 2, 3, 2, 3, 1, 1, 2, 1],\n",
    "    'qualify': ['yes', 'no', 'yes', 'no', 'no', 'yes', 'yes', 'no', 'no', 'yes']\n",
    "}\n",
    "\n",
    "# Create a DataFrame\n",
    "df = pd.DataFrame(exam_data)\n",
    "\n",
    "# Get the first 3 rows\n",
    "first_3_rows = df.head(3)\n",
    "\n",
    "# Display the first 3 rows\n",
    "print(first_3_rows)\n"
   ]
  },
  {
   "cell_type": "code",
   "execution_count": null,
   "id": "b4f2d6aa-80e0-4b61-9c4d-f54c4db74232",
   "metadata": {},
   "outputs": [],
   "source": [
    "#8...Write a Pandas program to select the 'name' and 'score' columns\n",
    "# from the following DataFrame.\n",
    "# Sample Python dictionary data and list labels:\n",
    "# exam_data = {'name': ['Anastasia', 'Dima', 'Katherine', 'James', 'Emily',\n",
    "# 'Michael', 'Matthew', 'Laura', 'Kevin', 'Jonas'],\n",
    "# 'score': [12.5, 9, 16.5, np.nan, 9, 20, 14.5, np.nan, 8, 19],\n",
    "# 'attempts': [1, 3, 2, 3, 2, 3, 1, 1, 2, 1],\n",
    "# 'qualify': ['yes', 'no', 'yes', 'no', 'no', 'yes', 'yes', 'no', 'no', 'yes']"
   ]
  },
  {
   "cell_type": "code",
   "execution_count": 17,
   "id": "2287253a-b66d-4b92-9036-dea448fb4679",
   "metadata": {},
   "outputs": [
    {
     "name": "stdout",
     "output_type": "stream",
     "text": [
      "        name  score\n",
      "0  Anastasia   12.5\n",
      "1       Dima    9.0\n",
      "2  Katherine   16.5\n",
      "3      James    NaN\n",
      "4      Emily    9.0\n",
      "5    Michael   20.0\n",
      "6    Matthew   14.5\n",
      "7      Laura    NaN\n",
      "8      Kevin    8.0\n",
      "9      Jonas   19.0\n"
     ]
    }
   ],
   "source": [
    "import pandas as pd\n",
    "import numpy as np\n",
    "\n",
    "# Sample data\n",
    "exam_data = {\n",
    "    'name': ['Anastasia', 'Dima', 'Katherine', 'James', 'Emily', 'Michael', 'Matthew', 'Laura', 'Kevin', 'Jonas'],\n",
    "    'score': [12.5, 9, 16.5, np.nan, 9, 20, 14.5, np.nan, 8, 19],\n",
    "    'attempts': [1, 3, 2, 3, 2, 3, 1, 1, 2, 1],\n",
    "    'qualify': ['yes', 'no', 'yes', 'no', 'no', 'yes', 'yes', 'no', 'no', 'yes']\n",
    "}\n",
    "\n",
    "# Create a DataFrame\n",
    "df = pd.DataFrame(exam_data)\n",
    "\n",
    "# Select 'name' and 'score' columns\n",
    "selected_columns = df[['name', 'score']]\n",
    "\n",
    "# Display the selected columns\n",
    "print(selected_columns)\n"
   ]
  },
  {
   "cell_type": "code",
   "execution_count": null,
   "id": "4416b1c2-3e72-41fe-b35b-76ab9a6bd627",
   "metadata": {},
   "outputs": [],
   "source": [
    "#ChatGPT Exercise\n",
    "# Using ChatGPT generate the python code to solve the same problem\n",
    "# Scenario: Analyzing Sales Data\n",
    "# Suppose you work for a retail company, and you have a dummy dataset containing\n",
    "# sales data for the past year. The data includes information such as customer names,\n",
    "# product names, sales quantities, prices, and dates. You want to perform various data\n",
    "# analysis tasks like Total revenue for the year,Average revenue per sale,Best-selling\n",
    "# product,Date with the highest total revenue also wants to generate product and total\n",
    "# sales wise barchart using Pandas DataFrames.\n",
    "# Further, you need to get some inference out of the chart.\n",
    "# Create a ChatGPT prompt to generate the code for this scenario. Based on the code\n",
    "# generated, ask ChatGPT to give the conclusion/inference.\n",
    "# Note. You can provide the data to ChatGPT in the form of a list or dictionary or ask it to\n",
    "# use sample data"
   ]
  },
  {
   "cell_type": "code",
   "execution_count": 19,
   "id": "01fef148-1e32-4e77-9c37-ca86916045c9",
   "metadata": {},
   "outputs": [
    {
     "data": {
      "image/png": "[encoded data removed]",
      "text/plain": [
       "<Figure size 1000x500 with 1 Axes>"
      ]
     },
     "metadata": {},
     "output_type": "display_data"
    },
    {
     "data": {
      "image/png": "[encoded data removed]",
      "text/plain": [
       "<Figure size 1000x500 with 1 Axes>"
      ]
     },
     "metadata": {},
     "output_type": "display_data"
    },
    {
     "name": "stdout",
     "output_type": "stream",
     "text": [
      "Total Revenue for the Year: $1195\n",
      "Average Revenue per Sale: $119.50\n",
      "Best-Selling Product: Widget A\n",
      "Date with the Highest Total Revenue: 2023-01-15 (Revenue: $200)\n"
     ]
    }
   ],
   "source": [
    "import pandas as pd\n",
    "import matplotlib.pyplot as plt\n",
    "\n",
    "# Sample data\n",
    "sales_data = {\n",
    "    'Customer': ['Alice', 'Bob', 'Charlie', 'David', 'Eva', 'Frank', 'Grace', 'Hannah', 'Ivy', 'Jack'],\n",
    "    'Product': ['Widget A', 'Widget B', 'Widget A', 'Widget C', 'Widget B', 'Widget A', 'Widget D', 'Widget A', 'Widget B', 'Widget C'],\n",
    "    'Quantity': [10, 5, 8, 3, 6, 9, 2, 7, 4, 5],\n",
    "    'Price': [20, 15, 20, 30, 15, 20, 25, 20, 15, 30],\n",
    "    'Date': ['2023-01-15', '2023-02-20', '2023-03-25', '2023-04-10', '2023-05-15', '2023-06-22', '2023-07-30', '2023-08-18', '2023-09-10', '2023-10-05']\n",
    "}\n",
    "\n",
    "# Create a DataFrame\n",
    "df = pd.DataFrame(sales_data)\n",
    "\n",
    "# Calculate total revenue for the year\n",
    "df['Revenue'] = df['Quantity'] * df['Price']\n",
    "total_revenue = df['Revenue'].sum()\n",
    "\n",
    "# Calculate average revenue per sale\n",
    "average_revenue_per_sale = df['Revenue'].mean()\n",
    "\n",
    "# Find the best-selling product\n",
    "product_sales = df.groupby('Product')['Revenue'].sum()\n",
    "best_selling_product = product_sales.idxmax()\n",
    "\n",
    "# Find the date with the highest total revenue\n",
    "df['Date'] = pd.to_datetime(df['Date'])\n",
    "daily_revenue = df.groupby('Date')['Revenue'].sum()\n",
    "date_with_highest_revenue = daily_revenue.idxmax()\n",
    "highest_revenue = daily_revenue.max()\n",
    "\n",
    "# Generate bar charts\n",
    "# Product-wise revenue\n",
    "product_sales.plot(kind='bar', figsize=(10, 5), title='Product-wise Revenue')\n",
    "plt.xlabel('Product')\n",
    "plt.ylabel('Revenue')\n",
    "plt.grid(True)\n",
    "plt.tight_layout()\n",
    "plt.show()\n",
    "\n",
    "# Date-wise revenue\n",
    "daily_revenue.plot(kind='bar', figsize=(10, 5), title='Date-wise Revenue')\n",
    "plt.xlabel('Date')\n",
    "plt.ylabel('Revenue')\n",
    "plt.grid(True)\n",
    "plt.tight_layout()\n",
    "plt.show()\n",
    "\n",
    "# Print the results\n",
    "print(f\"Total Revenue for the Year: ${total_revenue}\")\n",
    "print(f\"Average Revenue per Sale: ${average_revenue_per_sale:.2f}\")\n",
    "print(f\"Best-Selling Product: {best_selling_product}\")\n",
    "print(f\"Date with the Highest Total Revenue: {date_with_highest_revenue.date()} (Revenue: ${highest_revenue})\")\n",
    "\n",
    "\n",
    "#Conclusion Request:\n",
    "\n",
    "#Based on the generated bar charts from the Python code provided, please give a conclusion or inference about the sales data. \n",
    "#What trends or insights can be drawn from the product-wise and date-wise revenue charts?\n",
    "\n"
   ]
  },
  {
   "cell_type": "code",
   "execution_count": null,
   "id": "c9c176fb-4f9e-4dae-9d96-03dd5c3d7b74",
   "metadata": {},
   "outputs": [],
   "source": []
  }
 ],
 "metadata": {
  "kernelspec": {
   "display_name": "Python 3 (ipykernel)",
   "language": "python",
   "name": "python3"
  },
  "language_info": {
   "codemirror_mode": {
    "name": "ipython",
    "version": 3
   },
   "file_extension": ".py",
   "mimetype": "text/x-python",
   "name": "python",
   "nbconvert_exporter": "python",
   "pygments_lexer": "ipython3",
   "version": "3.12.4"
  }
 },
 "nbformat": 4,
 "nbformat_minor": 5
}
