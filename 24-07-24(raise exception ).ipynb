{
 "cells": [
  {
   "cell_type": "code",
   "execution_count": 1,
   "id": "c9e48e6e-afd9-4547-b3d0-59fc61f44cfa",
   "metadata": {},
   "outputs": [],
   "source": [
    "#Raising exceptions\n",
    "#an exception acn be raised forcefully by using the raise clause in python.\n",
    "#it is useful in that scenario where we need to raise an exception to stop the xecution of the program \n"
   ]
  },
  {
   "cell_type": "code",
   "execution_count": 6,
   "id": "127d563c-9312-4132-bce1-7e249754bd68",
   "metadata": {},
   "outputs": [
    {
     "ename": "ValueError",
     "evalue": "",
     "output_type": "error",
     "traceback": [
      "\u001b[1;31m---------------------------------------------------------------------------\u001b[0m",
      "\u001b[1;31mValueError\u001b[0m                                Traceback (most recent call last)",
      "Cell \u001b[1;32mIn[6], line 7\u001b[0m\n\u001b[0;32m      4\u001b[0m     \u001b[38;5;28;01melse\u001b[39;00m:\n\u001b[0;32m      5\u001b[0m         \u001b[38;5;28;01mraise\u001b[39;00m \u001b[38;5;167;01mValueError\u001b[39;00m\n\u001b[1;32m----> 7\u001b[0m \u001b[43mageCheck\u001b[49m\u001b[43m(\u001b[49m\u001b[38;5;241;43m15\u001b[39;49m\u001b[43m)\u001b[49m\n",
      "Cell \u001b[1;32mIn[6], line 5\u001b[0m, in \u001b[0;36mageCheck\u001b[1;34m(age)\u001b[0m\n\u001b[0;32m      3\u001b[0m     \u001b[38;5;28mprint\u001b[39m(\u001b[38;5;124m\"\u001b[39m\u001b[38;5;124myou can vote\u001b[39m\u001b[38;5;124m\"\u001b[39m)\n\u001b[0;32m      4\u001b[0m \u001b[38;5;28;01melse\u001b[39;00m:\n\u001b[1;32m----> 5\u001b[0m     \u001b[38;5;28;01mraise\u001b[39;00m \u001b[38;5;167;01mValueError\u001b[39;00m\n",
      "\u001b[1;31mValueError\u001b[0m: "
     ]
    }
   ],
   "source": [
    "def ageCheck(age):\n",
    "    if age>=18:\n",
    "        print(\"you can vote\")\n",
    "    else:\n",
    "        raise ValueError\n",
    "\n",
    "ageCheck(15)\n"
   ]
  },
  {
   "cell_type": "code",
   "execution_count": 5,
   "id": "441e264b-93ac-496c-ae91-2300f9a6ec10",
   "metadata": {},
   "outputs": [
    {
     "ename": "ValueError",
     "evalue": "wait some year",
     "output_type": "error",
     "traceback": [
      "\u001b[1;31m---------------------------------------------------------------------------\u001b[0m",
      "\u001b[1;31mValueError\u001b[0m                                Traceback (most recent call last)",
      "Cell \u001b[1;32mIn[5], line 7\u001b[0m\n\u001b[0;32m      4\u001b[0m     \u001b[38;5;28;01melse\u001b[39;00m:\n\u001b[0;32m      5\u001b[0m         \u001b[38;5;28;01mraise\u001b[39;00m \u001b[38;5;167;01mValueError\u001b[39;00m(\u001b[38;5;124m\"\u001b[39m\u001b[38;5;124mwait some year\u001b[39m\u001b[38;5;124m\"\u001b[39m)\n\u001b[1;32m----> 7\u001b[0m \u001b[43mageCheck\u001b[49m\u001b[43m(\u001b[49m\u001b[38;5;241;43m15\u001b[39;49m\u001b[43m)\u001b[49m\n",
      "Cell \u001b[1;32mIn[5], line 5\u001b[0m, in \u001b[0;36mageCheck\u001b[1;34m(age)\u001b[0m\n\u001b[0;32m      3\u001b[0m     \u001b[38;5;28mprint\u001b[39m(\u001b[38;5;124m\"\u001b[39m\u001b[38;5;124myou can vote\u001b[39m\u001b[38;5;124m\"\u001b[39m)\n\u001b[0;32m      4\u001b[0m \u001b[38;5;28;01melse\u001b[39;00m:\n\u001b[1;32m----> 5\u001b[0m     \u001b[38;5;28;01mraise\u001b[39;00m \u001b[38;5;167;01mValueError\u001b[39;00m(\u001b[38;5;124m\"\u001b[39m\u001b[38;5;124mwait some year\u001b[39m\u001b[38;5;124m\"\u001b[39m)\n",
      "\u001b[1;31mValueError\u001b[0m: wait some year"
     ]
    }
   ],
   "source": [
    "def ageCheck(age):\n",
    "    if age>=18:\n",
    "        print(\"you can vote\")\n",
    "    else:\n",
    "        raise ValueError(\"wait some year\")\n",
    "\n",
    "ageCheck(15)\n"
   ]
  },
  {
   "cell_type": "code",
   "execution_count": 9,
   "id": "550cb9b8-7cd9-4d58-9d27-eb1ecdd64976",
   "metadata": {},
   "outputs": [
    {
     "name": "stdout",
     "output_type": "stream",
     "text": [
      "you cant vote\n"
     ]
    }
   ],
   "source": [
    "def ageCheck(age):\n",
    "    if age>=18:\n",
    "        print(\"you can vote\")\n",
    "    else:\n",
    "        raise ValueError(\"you cant vote\")\n",
    "try:\n",
    "    ageCheck(15)\n",
    "except ValueError as e:\n",
    "    print(e)\n"
   ]
  },
  {
   "cell_type": "code",
   "execution_count": null,
   "id": "aec9a7c9-3c34-4a77-942c-5f4533ea1164",
   "metadata": {},
   "outputs": [],
   "source": []
  }
 ],
 "metadata": {
  "kernelspec": {
   "display_name": "Python 3 (ipykernel)",
   "language": "python",
   "name": "python3"
  },
  "language_info": {
   "codemirror_mode": {
    "name": "ipython",
    "version": 3
   },
   "file_extension": ".py",
   "mimetype": "text/x-python",
   "name": "python",
   "nbconvert_exporter": "python",
   "pygments_lexer": "ipython3",
   "version": "3.12.2"
  }
 },
 "nbformat": 4,
 "nbformat_minor": 5
}
