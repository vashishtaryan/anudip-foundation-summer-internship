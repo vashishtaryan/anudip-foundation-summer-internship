{
 "cells": [
  {
   "cell_type": "code",
   "execution_count": 1,
   "id": "b39fc649-8ec2-4763-8ed6-d90b09886382",
   "metadata": {},
   "outputs": [
    {
     "name": "stdout",
     "output_type": "stream",
     "text": [
      "{'may', 'jan', 'june', 'feb', 'april', 'march'}\n",
      "{'oct', 'sep', 'jan', 'may', 'june', 'august', 'march', 'july', 'feb', 'april'}\n"
     ]
    }
   ],
   "source": [
    "months={\"jan\",\"feb\",\"march\",\"april\",\"may\",\"june\"}\n",
    "print (months)\n",
    "months.add(\"august\")\n",
    "months.update([\"july\",\"august\",\"sep\",\"oct\"])\n",
    "print(months)"
   ]
  },
  {
   "cell_type": "code",
   "execution_count": 4,
   "id": "14a8f0de-d94b-4e74-9568-e318cf046741",
   "metadata": {},
   "outputs": [
    {
     "name": "stdout",
     "output_type": "stream",
     "text": [
      "{'may', 'jan', 'june', 'feb', 'april', 'march'}\n",
      "{'may', 'june', 'feb', 'april', 'march'}\n"
     ]
    }
   ],
   "source": [
    "#Discard\n",
    "months={\"jan\",\"feb\",\"march\",\"april\",\"may\",\"june\"}\n",
    "print (months)\n",
    "months.discard(\"jan\")\n",
    "print(months)"
   ]
  },
  {
   "cell_type": "code",
   "execution_count": 5,
   "id": "e082426f-6d3e-4ec3-b333-beaa49bda5c9",
   "metadata": {},
   "outputs": [
    {
     "name": "stdout",
     "output_type": "stream",
     "text": [
      "{'may', 'jan', 'june', 'feb', 'april', 'march'}\n",
      "{'jan', 'june', 'feb', 'april', 'march'}\n"
     ]
    }
   ],
   "source": [
    "#Pop\n",
    "months={\"jan\",\"feb\",\"march\",\"april\",\"may\",\"june\"}\n",
    "print (months)\n",
    "delete=months.pop()\n",
    "print(months)"
   ]
  },
  {
   "cell_type": "code",
   "execution_count": 6,
   "id": "8dda4625-d0c3-4665-94a1-d98b19408586",
   "metadata": {},
   "outputs": [
    {
     "name": "stdout",
     "output_type": "stream",
     "text": [
      "{'mango', 'google', 'microsoft', 'banna', 'apple'}\n"
     ]
    }
   ],
   "source": [
    "#union\n",
    "x={\"apple\",\"banna\",\"mango\"}\n",
    "y={\"microsoft\",\"google\",\"apple\"}\n",
    "z=x.union(y)\n",
    "print(z)"
   ]
  },
  {
   "cell_type": "code",
   "execution_count": 7,
   "id": "8d9f3160-3702-4a69-a95c-4a07dd963c53",
   "metadata": {},
   "outputs": [
    {
     "name": "stdout",
     "output_type": "stream",
     "text": [
      "rahul\n",
      "rahul\n"
     ]
    }
   ],
   "source": [
    "name=\"rahul\"\n",
    "print(name)\n",
    "name+\"tiwari\"\n",
    "print(name)"
   ]
  },
  {
   "cell_type": "code",
   "execution_count": 9,
   "id": "dd986d15-e2b9-4137-80a6-010cbf18958c",
   "metadata": {},
   "outputs": [
    {
     "name": "stdout",
     "output_type": "stream",
     "text": [
      "2305068610784\n",
      "2305073284144\n"
     ]
    }
   ],
   "source": [
    "#string\n",
    "name=\"rahul\"\n",
    "print(id(name))\n",
    "name=name+\"tiwari\"\n",
    "print(id(name))"
   ]
  },
  {
   "cell_type": "code",
   "execution_count": 10,
   "id": "5ca5bc4d-f239-4cbe-892a-3bf9985d6cb7",
   "metadata": {},
   "outputs": [
    {
     "name": "stdout",
     "output_type": "stream",
     "text": [
      "2305068610784\n",
      "2305073290288\n"
     ]
    },
    {
     "ename": "TypeError",
     "evalue": "'str' object does not support item assignment",
     "output_type": "error",
     "traceback": [
      "\u001b[1;31m---------------------------------------------------------------------------\u001b[0m",
      "\u001b[1;31mTypeError\u001b[0m                                 Traceback (most recent call last)",
      "Cell \u001b[1;32mIn[10], line 5\u001b[0m\n\u001b[0;32m      3\u001b[0m name\u001b[38;5;241m=\u001b[39mname\u001b[38;5;241m+\u001b[39m\u001b[38;5;124m\"\u001b[39m\u001b[38;5;124mtiwari\u001b[39m\u001b[38;5;124m\"\u001b[39m\n\u001b[0;32m      4\u001b[0m \u001b[38;5;28mprint\u001b[39m(\u001b[38;5;28mid\u001b[39m(name))\n\u001b[1;32m----> 5\u001b[0m \u001b[43mname\u001b[49m\u001b[43m[\u001b[49m\u001b[38;5;241;43m7\u001b[39;49m\u001b[43m]\u001b[49m\u001b[38;5;241m=\u001b[39m\u001b[38;5;124m\"\u001b[39m\u001b[38;5;124mx\u001b[39m\u001b[38;5;124m\"\u001b[39m\n\u001b[0;32m      6\u001b[0m \u001b[38;5;28mprint\u001b[39m(name)\n",
      "\u001b[1;31mTypeError\u001b[0m: 'str' object does not support item assignment"
     ]
    }
   ],
   "source": [
    "name=\"rahul\"\n",
    "print(id(name))\n",
    "name=name+\"tiwari\"\n",
    "print(id(name))\n",
    "name[7]=\"x\"\n",
    "print(name)"
   ]
  },
  {
   "cell_type": "code",
   "execution_count": 11,
   "id": "ab5bd8df-069e-4dba-9d20-eb3ad2887a72",
   "metadata": {},
   "outputs": [
    {
     "name": "stdout",
     "output_type": "stream",
     "text": [
      "rahul tiwari\n",
      "ahul tiwa\n"
     ]
    }
   ],
   "source": [
    "name=\"rahul tiwari\"\n",
    "print(name)\n",
    "print(name[1:10])"
   ]
  },
  {
   "cell_type": "code",
   "execution_count": 13,
   "id": "57e4000d-d350-4485-8608-42439fe30c96",
   "metadata": {},
   "outputs": [
    {
     "name": "stdout",
     "output_type": "stream",
     "text": [
      "name[::] rahul tiwari\n",
      "name[:] rahul tiwari\n"
     ]
    }
   ],
   "source": [
    "name=\"rahul tiwari\"\n",
    "print(\"name[::]\",name[::])\n",
    "print(\"name[:]\",name[:])\n"
   ]
  },
  {
   "cell_type": "code",
   "execution_count": 15,
   "id": "e9935fcd-66c7-442f-ba63-7bf5bcdcc718",
   "metadata": {},
   "outputs": [
    {
     "name": "stdout",
     "output_type": "stream",
     "text": [
      "True\n",
      "False\n"
     ]
    }
   ],
   "source": [
    "# is operator\n",
    "x=[\"apple\",\"banaan\"]\n",
    "y=[\"apple\",\"banaan\"]\n",
    "z=x\n",
    "print(x is z)\n",
    "print(x is y)"
   ]
  },
  {
   "cell_type": "code",
   "execution_count": 16,
   "id": "6c6894d6-25ad-43da-ac51-c88e5b993e84",
   "metadata": {},
   "outputs": [
    {
     "name": "stdout",
     "output_type": "stream",
     "text": [
      "rahul tiwari\n",
      "rahul tiwari\n"
     ]
    }
   ],
   "source": [
    "str=\"rahul tiwari\"\n",
    "print(str)\n",
    "str.capitalize()\n",
    "print(str)"
   ]
  },
  {
   "cell_type": "code",
   "execution_count": 17,
   "id": "5f222b6d-e795-4fde-b475-2b56d07f734e",
   "metadata": {},
   "outputs": [
    {
     "name": "stdout",
     "output_type": "stream",
     "text": [
      "rahul tiwari\n",
      "Rahul tiwari\n"
     ]
    }
   ],
   "source": [
    "str=\"rahul tiwari\"\n",
    "print(str)\n",
    "str=str.capitalize()\n",
    "print(str)"
   ]
  },
  {
   "cell_type": "code",
   "execution_count": 18,
   "id": "31916e11-6f67-4420-8823-589bcf1ff1d1",
   "metadata": {},
   "outputs": [
    {
     "name": "stdout",
     "output_type": "stream",
     "text": [
      "2305073787760\n",
      "2305073775984\n"
     ]
    }
   ],
   "source": [
    "str=\"rahul tiwari\"\n",
    "print(id(str))\n",
    "str=str.capitalize()\n",
    "print(id(str))"
   ]
  },
  {
   "cell_type": "code",
   "execution_count": 22,
   "id": "0641307f-7dc4-4e2e-9963-8aa6cc6aa64b",
   "metadata": {},
   "outputs": [
    {
     "name": "stdout",
     "output_type": "stream",
     "text": [
      "rahul \n",
      "*****rahul ****\n"
     ]
    }
   ],
   "source": [
    "str=\"rahul \"\n",
    "print(str)\n",
    "str=str.center(15,'*')\n",
    "print(str)"
   ]
  },
  {
   "cell_type": "code",
   "execution_count": 25,
   "id": "46396d4e-4016-4e71-923c-9189af777bac",
   "metadata": {},
   "outputs": [],
   "source": [
    "#python string center ()method : \n",
    "#python center method alligns string to the center b filling paddings left and right of the string .\n",
    "#this method takes two parameters, first is a width and second is a fill char which is optional.\n",
    "#the fillchar is a character which is used to fill left and right padding of the string\n"
   ]
  },
  {
   "cell_type": "code",
   "execution_count": 24,
   "id": "2fd9a7c1-ba7b-4793-a17f-e82874728155",
   "metadata": {},
   "outputs": [
    {
     "name": "stdout",
     "output_type": "stream",
     "text": [
      "old value hello\n",
      "new value        hello        \n"
     ]
    }
   ],
   "source": [
    "str=\"hello\"\n",
    "str2=str.center(20)\n",
    "print(\"old value\",str)\n",
    "print(\"new value\",str2)"
   ]
  },
  {
   "cell_type": "code",
   "execution_count": 27,
   "id": "f76d0eed-4c32-4e5c-bc05-ff4f81abd9ab",
   "metadata": {},
   "outputs": [],
   "source": [
    "#python string count()method:\n",
    "#it return the number of occurence of substring in the specified range .\n",
    "#it takes three parameters,first is a substring,second a start index and third is a last index .\n",
    "#start and end both are optional whereas substring is required."
   ]
  },
  {
   "cell_type": "code",
   "execution_count": 28,
   "id": "9e472e5b-bf3d-41c1-9573-953a58a31e1f",
   "metadata": {},
   "outputs": [
    {
     "name": "stdout",
     "output_type": "stream",
     "text": [
      "1\n"
     ]
    }
   ],
   "source": [
    "str=\"second a start index and third\"\n",
    "oc=str.count('a',8,15)\n",
    "print(oc)"
   ]
  },
  {
   "cell_type": "code",
   "execution_count": 29,
   "id": "a82b1716-0241-453b-b6a6-96b936aefa89",
   "metadata": {},
   "outputs": [
    {
     "name": "stdout",
     "output_type": "stream",
     "text": [
      "False\n"
     ]
    }
   ],
   "source": [
    "str=\"second a start index and third\"\n",
    "isends=str.endswith(\"and\")\n",
    "print(isends)"
   ]
  },
  {
   "cell_type": "code",
   "execution_count": 30,
   "id": "3dbf0f01-0291-46ad-bbdf-aa5b431a4276",
   "metadata": {},
   "outputs": [
    {
     "name": "stdout",
     "output_type": "stream",
     "text": [
      "-1\n"
     ]
    }
   ],
   "source": [
    "str=\"welcome to the python class\"\n",
    "str2=str.find(\"too\",9,13)\n",
    "print(str2)"
   ]
  },
  {
   "cell_type": "code",
   "execution_count": 32,
   "id": "527b4c37-d17e-4316-b664-2efaf9d35a54",
   "metadata": {},
   "outputs": [
    {
     "name": "stdout",
     "output_type": "stream",
     "text": [
      "False\n"
     ]
    }
   ],
   "source": [
    "str=\"second a start index and third\"\n",
    "isends=str.endswith(\"and\")\n",
    "print(isends)\n"
   ]
  },
  {
   "cell_type": "code",
   "execution_count": 33,
   "id": "f59f84bf-c017-45a1-8178-cf482badea98",
   "metadata": {},
   "outputs": [
    {
     "name": "stdout",
     "output_type": "stream",
     "text": [
      "False\n"
     ]
    }
   ],
   "source": [
    "str=\"welcome to the python class\"\n",
    "output = str.isalnum()\n",
    "print(output)"
   ]
  },
  {
   "cell_type": "code",
   "execution_count": 34,
   "id": "50929bf1-6bd8-4fcd-8f29-c785452b2c08",
   "metadata": {},
   "outputs": [
    {
     "name": "stdout",
     "output_type": "stream",
     "text": [
      "True\n",
      "True\n"
     ]
    }
   ],
   "source": [
    "str=\"14254\" #true\n",
    "str3=\"welcome123\" # false\n",
    "str2=str.isalnum()\n",
    "str4=str3.isalnum()\n",
    "print(str2)\n",
    "print(str4)"
   ]
  },
  {
   "cell_type": "code",
   "execution_count": 35,
   "id": "43a7ff86-7793-40ef-a4cc-6eecea1fac62",
   "metadata": {},
   "outputs": [
    {
     "name": "stdout",
     "output_type": "stream",
     "text": [
      "python\n"
     ]
    }
   ],
   "source": [
    "#python string lower()method\n",
    "str=\"PYTHON\"\n",
    "str=str.lower()\n",
    "print(str)"
   ]
  },
  {
   "cell_type": "code",
   "execution_count": 36,
   "id": "81c80dc8-86f4-4d7f-83d6-3ceccfe7d2da",
   "metadata": {},
   "outputs": [
    {
     "name": "stdout",
     "output_type": "stream",
     "text": [
      "PYTHON\n"
     ]
    }
   ],
   "source": [
    "#python string upper()method\n",
    "str=\"python\"\n",
    "str=str.upper()\n",
    "print(str)"
   ]
  },
  {
   "cell_type": "code",
   "execution_count": 41,
   "id": "47a610fb-0758-4bf4-9458-12ea9912b1e8",
   "metadata": {},
   "outputs": [
    {
     "name": "stdout",
     "output_type": "stream",
     "text": [
      ".....python.....\n",
      "python.....\n",
      ".....python\n",
      "python\n"
     ]
    }
   ],
   "source": [
    "str=\".....python.....\"\n",
    "str2=str.lstrip('.')\n",
    "str3=str.rstrip('.')\n",
    "str4=str.strip('.')\n",
    "\n",
    "print(str)\n",
    "print(str2)\n",
    "print(str3)\n",
    "print(str4)"
   ]
  },
  {
   "cell_type": "code",
   "execution_count": 42,
   "id": "96061066-6896-455e-8b82-758f16d6b27f",
   "metadata": {},
   "outputs": [
    {
     "name": "stdout",
     "output_type": "stream",
     "text": [
      "c is a programming language\n"
     ]
    }
   ],
   "source": [
    "#replace method\n",
    "str=\"java is a programming language\"\n",
    "str2=str.replace(\"java\",\"c\")\n",
    "print(str2)"
   ]
  },
  {
   "cell_type": "code",
   "execution_count": 43,
   "id": "9cde1077-a5c6-424c-9a68-b4a038ebfa13",
   "metadata": {},
   "outputs": [
    {
     "name": "stdout",
     "output_type": "stream",
     "text": [
      "JAVA IS A PROGRAMMING LANGUAGE\n"
     ]
    }
   ],
   "source": [
    "#python string swapcase method\n",
    "str=\"java is a programming language\"\n",
    "str2=str.swapcase()\n",
    "print(str2)\n"
   ]
  },
  {
   "cell_type": "code",
   "execution_count": null,
   "id": "210513f4-331b-4515-817f-5a617a7b432e",
   "metadata": {},
   "outputs": [],
   "source": []
  }
 ],
 "metadata": {
  "kernelspec": {
   "display_name": "Python 3 (ipykernel)",
   "language": "python",
   "name": "python3"
  },
  "language_info": {
   "codemirror_mode": {
    "name": "ipython",
    "version": 3
   },
   "file_extension": ".py",
   "mimetype": "text/x-python",
   "name": "python",
   "nbconvert_exporter": "python",
   "pygments_lexer": "ipython3",
   "version": "3.12.2"
  }
 },
 "nbformat": 4,
 "nbformat_minor": 5
}
