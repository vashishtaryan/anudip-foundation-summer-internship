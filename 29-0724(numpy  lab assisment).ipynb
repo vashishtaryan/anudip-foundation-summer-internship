{
 "cells": [
  {
   "cell_type": "code",
   "execution_count": null,
   "id": "12f188d3-f527-4d1a-902e-52fe6349783b",
   "metadata": {},
   "outputs": [],
   "source": [
    "#1.Suppose you have a dataset containing daily temperature readings for a city, and you want to identify days with extreme temperature conditions. Find days where the temperature either exceeded 35 degrees Celsius (hot day) or dropped below 5 degrees Celsius (cold day).\n",
    "#Input:\n",
    "#temperatures = p.array([32.5, 34.2, 36.8, 29.3, 31.0, 38.7, 23.1, 18.5, 22.8, 37.2])\n"
   ]
  },
  {
   "cell_type": "code",
   "execution_count": 1,
   "id": "fad461bf-24f9-4e85-95f0-bcfad15996b4",
   "metadata": {},
   "outputs": [
    {
     "name": "stdout",
     "output_type": "stream",
     "text": [
      "Hot Days:\n",
      "Day\tTemperature (°C)\n",
      "3\t36.8\n",
      "6\t38.7\n",
      "10\t37.2\n",
      "Cold Days:\n",
      "Day\tTemperature (°C)\n"
     ]
    }
   ],
   "source": [
    "import numpy as np\n",
    "\n",
    "temperatures = np.array([32.5, 34.2, 36.8, 29.3, 31.0, 38.7, 23.1, 18.5, 22.8, 37.2])\n",
    "hot_days_indices = np.where(temperatures > 35)[0]\n",
    "hot_days = hot_days_indices + 1  # Adding 1 to convert 0-based index to 1-based day number\n",
    "hot_temps = temperatures[hot_days_indices]\n",
    "\n",
    "cold_days_indices = np.where(temperatures < 5)[0]\n",
    "cold_days = cold_days_indices + 1  # Adding 1 to convert 0-based index to 1-based day number\n",
    "cold_temps = temperatures[cold_days_indices]\n",
    "\n",
    "print(\"Hot Days:\")\n",
    "print(\"Day\\tTemperature (°C)\")\n",
    "for day, temp in zip(hot_days, hot_temps):\n",
    "    print(f\"{day}\\t{temp}\")\n",
    "\n",
    "\n",
    "print(\"Cold Days:\")\n",
    "print(\"Day\\tTemperature (°C)\")\n",
    "for day, temp in zip(cold_days, cold_temps):\n",
    "    print(f\"{day}\\t{temp}\")\n"
   ]
  },
  {
   "cell_type": "code",
   "execution_count": null,
   "id": "2ca319d8-37f4-42f4-9b97-6778d7117d52",
   "metadata": {},
   "outputs": [],
   "source": [
    "#2.Suppose you have a dataset containing monthly sales data for a company, and you want to split this data into quarterly reports for analysis and reporting purposes.\n",
    "#Input:monthly_sales = p.array((120, 135, 143, 165, 180, 155, 168, 190, 205, 198, 210, 225))\n"
   ]
  },
  {
   "cell_type": "code",
   "execution_count": 3,
   "id": "f8105c58-a7c6-47ea-8ac4-68aa08bbba40",
   "metadata": {},
   "outputs": [
    {
     "name": "stdout",
     "output_type": "stream",
     "text": [
      "Quarterly Sales Data:\n",
      "Q1: [120 135 143]\n",
      "Q2: [165 180 155]\n",
      "Q3: [168 190 205]\n",
      "Q4: [198 210 225]\n"
     ]
    }
   ],
   "source": [
    "import numpy as np\n",
    "\n",
    "# Define the monthly sales array\n",
    "monthly_sales = np.array([120, 135, 143, 165, 180, 155, 168, 190, 205, 198, 210, 225])\n",
    "\n",
    "# Split the data into quarters\n",
    "Q1 = monthly_sales[0:3]\n",
    "Q2 = monthly_sales[3:6]\n",
    "Q3 = monthly_sales[6:9]\n",
    "Q4 = monthly_sales[9:12]\n",
    "\n",
    "# Display quarterly sales\n",
    "print(\"Quarterly Sales Data:\")\n",
    "\n",
    "print(\"Q1:\", Q1)\n",
    "print(\"Q2:\", Q2)\n",
    "print(\"Q3:\", Q3)\n",
    "print(\"Q4:\", Q4)\n"
   ]
  },
  {
   "cell_type": "code",
   "execution_count": null,
   "id": "32574231-6be9-4638-987d-fc62229bdecd",
   "metadata": {},
   "outputs": [],
   "source": [
    "#3.Suppose you have a dataset containing customer data, and you want to split this dat#into two groups: one group for customers who made a purchase in the last 30 days andanother group for customers who haven't made a purchase in the last 30 days.\n",
    "#Input:customer_ids = np.array([101, 102, 103, 104, 105, 106, 107, 108, 109, 110])\n",
    "#last_purchase_days_ago = np.array([5, 15, 20, 25, 30, 35, 40, 45, 50, 55]"
   ]
  },
  {
   "cell_type": "code",
   "execution_count": 5,
   "id": "e9dff487-439b-457c-bbb5-bead6fd48b5e",
   "metadata": {},
   "outputs": [
    {
     "name": "stdout",
     "output_type": "stream",
     "text": [
      "Customers who made a purchase in the last 30 days:\n",
      "[101 102 103 104 105]\n",
      "Customers who haven't made a purchase in the last 30 days:\n",
      "[106 107 108 109 110]\n"
     ]
    }
   ],
   "source": [
    "import numpy as np\n",
    "\n",
    "# Define the customer IDs and their last purchase days ago\n",
    "customer_ids = np.array([101, 102, 103, 104, 105, 106, 107, 108, 109, 110])\n",
    "last_purchase_days_ago = np.array([5, 15, 20, 25, 30, 35, 40, 45, 50, 55])\n",
    "\n",
    "# Identify customers who made a purchase in the last 30 days\n",
    "recent_purchase_indices = np.where(last_purchase_days_ago <= 30)[0]\n",
    "recent_customers = customer_ids[recent_purchase_indices]\n",
    "\n",
    "# Identify customers who haven't made a purchase in the last 30 days\n",
    "non_recent_purchase_indices = np.where(last_purchase_days_ago > 30)[0]\n",
    "non_recent_customers = customer_ids[non_recent_purchase_indices]\n",
    "\n",
    "# Display customers who made a purchase in the last 30 days\n",
    "print(\"Customers who made a purchase in the last 30 days:\")\n",
    "print(recent_customers)\n",
    "\n",
    "# Display customers who haven't made a purchase in the last 30 days\n",
    "print(\"Customers who haven't made a purchase in the last 30 days:\")\n",
    "print(non_recent_customers)\n"
   ]
  },
  {
   "cell_type": "code",
   "execution_count": null,
   "id": "bd3eefa2-9ef5-40a9-a4bf-a432d4bbc2e7",
   "metadata": {},
   "outputs": [],
   "source": [
    "#4..Suppose you have two sets of employee data—one containing information about#full-time employees and another containing information about part-time employees. You\n",
    "#want to combine this data to create a comprehensive employee dataset for HR analysis.\n",
    "#Input:\n",
    "# Employee data for full-time employees\n",
    "#full_time_employees = np.array([\n",
    "#[101, 'John Doe', 'Full-Time', 55000],\n",
    "#[102, 'Jane Smith', 'Full-Time', 60000],\n",
    "#[103, 'Mike Johnson', 'Full-Time', 52000]])\n",
    "# Employee data for part-time employees\n",
    "#part_time_employees = np.array([\n",
    "#[201, 'Alice Brown', 'Part-Time', 25000],\n",
    "#[202, 'Bob Wilson', 'Part-Time', 28000],\n",
    "#[203, 'Emily Davis', 'Part-Time', 22000]])\n"
   ]
  },
  {
   "cell_type": "code",
   "execution_count": 7,
   "id": "fbeb4ea0-cec8-48b6-af67-5e1c15cc8629",
   "metadata": {},
   "outputs": [
    {
     "name": "stdout",
     "output_type": "stream",
     "text": [
      "Comprehensive Employee Dataset:\n",
      "[['101' 'John Doe' 'Full-Time' '55000']\n",
      " ['102' 'Jane Smith' 'Full-Time' '60000']\n",
      " ['103' 'Mike Johnson' 'Full-Time' '52000']\n",
      " ['201' 'Alice Brown' 'Part-Time' '25000']\n",
      " ['202' 'Bob Wilson' 'Part-Time' '28000']\n",
      " ['203' 'Emily Davis' 'Part-Time' '22000']]\n"
     ]
    }
   ],
   "source": [
    "import numpy as np\n",
    "\n",
    "# Define the employee data for full-time employees\n",
    "full_time_employees = np.array([\n",
    "    [101, 'John Doe', 'Full-Time', 55000],\n",
    "    [102, 'Jane Smith', 'Full-Time', 60000],\n",
    "    [103, 'Mike Johnson', 'Full-Time', 52000]\n",
    "])\n",
    "\n",
    "# Define the employee data for part-time employees\n",
    "part_time_employees = np.array([\n",
    "    [201, 'Alice Brown', 'Part-Time', 25000],\n",
    "    [202, 'Bob Wilson', 'Part-Time', 28000],\n",
    "    [203, 'Emily Davis', 'Part-Time', 22000]\n",
    "])\n",
    "\n",
    "# Combine the two datasets\n",
    "comprehensive_employees = np.concatenate((full_time_employees, part_time_employees))\n",
    "\n",
    "# Display the combined dataset\n",
    "print(\"Comprehensive Employee Dataset:\")\n",
    "print(comprehensive_employees)\n"
   ]
  },
  {
   "cell_type": "code",
   "execution_count": null,
   "id": "5d75e869-e873-42d3-a105-62525ab77286",
   "metadata": {},
   "outputs": [],
   "source": [
    "#5..1. How to find the mean of every NumPy array in the given list?\n",
    "Input:\n",
    "#list = [\n",
    "#np.array([3, 2, 8, 9]),\n",
    "#np.array([4, 12, 34, 25, 78]),\n",
    "#np.array([23, 12, 67])]"
   ]
  },
  {
   "cell_type": "code",
   "execution_count": 11,
   "id": "f676ac06-7290-4089-90b3-09116d81a0da",
   "metadata": {},
   "outputs": [
    {
     "name": "stdout",
     "output_type": "stream",
     "text": [
      "Means of each array:\n",
      "Array 1: Mean = 5.5\n",
      "Array 2: Mean = 30.6\n",
      "Array 3: Mean = 34.0\n"
     ]
    }
   ],
   "source": [
    "import numpy as np\n",
    "\n",
    "array_list = [\n",
    "    np.array([3, 2, 8, 9]),\n",
    "    np.array([4, 12, 34, 25, 78]),\n",
    "    np.array([23, 12, 67])]\n",
    "means = [np.mean(arr) for arr in array_list]\n",
    "print(\"Means of each array:\")\n",
    "for i, mean in enumerate(means, start=1):\n",
    "    print(f\"Array {i}: Mean = {mean}\")"
   ]
  },
  {
   "cell_type": "code",
   "execution_count": 13,
   "id": "aed937bc-ac66-4a7c-9b48-de92ba94e054",
   "metadata": {},
   "outputs": [],
   "source": [
    "#6..Compute the median of the flattened NumPy array\n",
    "#Input: x_odd = np.array([1, 2, 3, 4, 5, 6, 7])"
   ]
  },
  {
   "cell_type": "code",
   "execution_count": 17,
   "id": "3f428bf1-bf2b-4dd9-a23b-d2f54071d15c",
   "metadata": {},
   "outputs": [
    {
     "name": "stdout",
     "output_type": "stream",
     "text": [
      "Median of the flattened array: 4.0\n"
     ]
    }
   ],
   "source": [
    "#import numpy as np\n",
    "\n",
    "x_odd = np.array([1, 2, 3, 4, 5, 6, 7])\n",
    "\n",
    "median = np.median(x_odd)\n",
    "\n",
    "print(f\"Median of the flattened array: {median}\")\n"
   ]
  },
  {
   "cell_type": "code",
   "execution_count": null,
   "id": "6b050273-9015-4a80-99e1-cb774a3f4b6a",
   "metadata": {},
   "outputs": [],
   "source": [
    "#7..Compute the standard deviation of the NumPy array\n",
    "#Input: arr = [20, 2, 7, 1, 34]"
   ]
  },
  {
   "cell_type": "code",
   "execution_count": 19,
   "id": "9ddb5047-2db6-4970-9614-5aab8a2285fe",
   "metadata": {},
   "outputs": [
    {
     "name": "stdout",
     "output_type": "stream",
     "text": [
      "Standard Deviation of the array: 12.576167937809991\n"
     ]
    }
   ],
   "source": [
    "import numpy as np\n",
    "\n",
    "arr = np.array([20, 2, 7, 1, 34])\n",
    "std_dev = np.std(arr)\n",
    "print(f\"Standard Deviation of the array: {std_dev}\")\n"
   ]
  },
  {
   "cell_type": "code",
   "execution_count": null,
   "id": "8c1d4b32-1747-4113-8809-2099c55f7a70",
   "metadata": {},
   "outputs": [],
   "source": []
  }
 ],
 "metadata": {
  "kernelspec": {
   "display_name": "Python 3 (ipykernel)",
   "language": "python",
   "name": "python3"
  },
  "language_info": {
   "codemirror_mode": {
    "name": "ipython",
    "version": 3
   },
   "file_extension": ".py",
   "mimetype": "text/x-python",
   "name": "python",
   "nbconvert_exporter": "python",
   "pygments_lexer": "ipython3",
   "version": "3.12.4"
  }
 },
 "nbformat": 4,
 "nbformat_minor": 5
}
