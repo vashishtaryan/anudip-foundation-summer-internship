{
 "cells": [
  {
   "cell_type": "code",
   "execution_count": null,
   "id": "0a6a0b0e-ac9a-4aee-a921-64f2625edd3b",
   "metadata": {},
   "outputs": [],
   "source": [
    "#axis (optional): The axis along which the array should be split. By default, it's 0 (split along rows).\n",
    "#Here are some examples of how to use np.split:"
   ]
  },
  {
   "cell_type": "code",
   "execution_count": 15,
   "id": "38aeaa54-e7e4-4243-ba9a-000e7beb957c",
   "metadata": {},
   "outputs": [
    {
     "name": "stdout",
     "output_type": "stream",
     "text": [
      "[1 2]\n",
      "[3 4]\n",
      "[5 6]\n"
     ]
    }
   ],
   "source": [
    "import numpy as np\n",
    "arr = np.array([1,2,3,4,5,6])\n",
    "# Split the array into 3 equal-sized sub-arrays\n",
    "sub_arrays = np.split(arr, 3)\n",
    "# Print the sub-arrays\n",
    "for sub_arr in sub_arrays:\n",
    "   print(sub_arr)"
   ]
  },
  {
   "cell_type": "code",
   "execution_count": 61,
   "id": "325489d9-d167-43cc-9ddf-0f637a9d26b7",
   "metadata": {},
   "outputs": [
    {
     "name": "stdout",
     "output_type": "stream",
     "text": [
      "Sorted array (ascending): [1 2 3 4 5]\n"
     ]
    }
   ],
   "source": [
    "import numpy as np\n",
    "arr = np.array([3, 1, 2, 4, 5])\n",
    "# Sort the array in ascending order (creates a new sorted array)\n",
    "sorted_arr = np.sort(arr)\n",
    "# Print the sorted array\n",
    "print(\"Sorted array (ascending):\", sorted_arr)\n",
    "# Sort the array in descending order\n",
    "sorted_arr_desc = np.sort(arr)[::-1]\n",
    "# Print the sorted array in descending orde"
   ]
  },
  {
   "cell_type": "code",
   "execution_count": null,
   "id": "90af95ee-51d8-4e45-a89e-f2cae4c76625",
   "metadata": {},
   "outputs": [],
   "source": [
    "#Sorting Along Specific Axis (For Multi-dimensional Arrays):When working with\n",
    "#multi-dimensional arrays, you can specify the axis along which you want to sort. Here's\n",
    "#an example:"
   ]
  },
  {
   "cell_type": "code",
   "execution_count": 63,
   "id": "cc236c31-91c9-46d4-b5fc-1ea40e178c41",
   "metadata": {},
   "outputs": [
    {
     "name": "stdout",
     "output_type": "stream",
     "text": [
      "Sorted matrix (ascending along rows):\n",
      "[[1 2 3]\n",
      " [4 5 6]]\n"
     ]
    }
   ],
   "source": [
    "import numpy as np\n",
    "matrix = np.array([[3, 1, 2],\n",
    "[6, 5, 4]])\n",
    "# Sort along rows (axis=1) in ascending order\n",
    "sorted_matrix = np.sort(matrix, axis=1)\n",
    "# Print the sorted matrix\n",
    "print(\"Sorted matrix (ascending along rows):\")\n",
    "print(sorted_matrix)"
   ]
  },
  {
   "cell_type": "code",
   "execution_count": null,
   "id": "4b6ad85d-ec7b-4c36-8aaf-73fd086e2317",
   "metadata": {},
   "outputs": [],
   "source": [
    "#np.concatenate():The np.concatenate() function is used to join arrays along a\n",
    "#specified axis. It takes a sequence of arrays as input and concatenates them along the\n",
    "#specified axis"
   ]
  },
  {
   "cell_type": "code",
   "execution_count": 65,
   "id": "2b391a76-5ead-4949-96bb-9c2e3a7624b3",
   "metadata": {},
   "outputs": [
    {
     "name": "stdout",
     "output_type": "stream",
     "text": [
      "[[1 2]\n",
      " [3 4]\n",
      " [5 6]]\n"
     ]
    }
   ],
   "source": [
    "import numpy as np\n",
    "arr1 = np.array([[1, 2], [3, 4]])\n",
    "arr2 = np.array([[5, 6]])\n",
    "# Concatenate arr1 and arr2 along rows (vertical)\n",
    "result = np.concatenate((arr1, arr2), axis=0)\n",
    "# Print the concatenated array\n",
    "print(result)"
   ]
  },
  {
   "cell_type": "code",
   "execution_count": null,
   "id": "d02038cc-e55e-4602-9e46-389004dd58f0",
   "metadata": {},
   "outputs": [],
   "source": [
    "#np.vstack(): Stacks arrays vertically (along rows)."
   ]
  },
  {
   "cell_type": "code",
   "execution_count": 69,
   "id": "df97c634-1a63-40da-98c5-9fcc6e26b0dc",
   "metadata": {},
   "outputs": [
    {
     "name": "stdout",
     "output_type": "stream",
     "text": [
      "[[1 2 3]\n",
      " [4 5 6]]\n"
     ]
    }
   ],
   "source": [
    "import numpy as np\n",
    "arr1 = np.array([1, 2, 3])\n",
    "arr2 = np.array([4, 5, 6])\n",
    "# Stack arr1 and arr2 vertically\n",
    "result = np.vstack((arr1, arr2))\n",
    "# Print the vertically stacked array\n",
    "print(result)"
   ]
  },
  {
   "cell_type": "code",
   "execution_count": null,
   "id": "ee9685c3-b4ff-4bba-b48b-bdd76fdfc650",
   "metadata": {},
   "outputs": [],
   "source": [
    "#np.hstack(): Stacks arrays horizontally (along columns)."
   ]
  },
  {
   "cell_type": "code",
   "execution_count": 71,
   "id": "73e82a5e-ebd8-4393-9894-a65fc9cbfe45",
   "metadata": {},
   "outputs": [
    {
     "name": "stdout",
     "output_type": "stream",
     "text": [
      "[1 2 3 4]\n"
     ]
    }
   ],
   "source": [
    "import numpy as np\n",
    "arr1 = np.array([1, 2])\n",
    "arr2 = np.array([3, 4])\n",
    "# Stack arr1 and arr2 horizontally\n",
    "result = np.hstack((arr1, arr2))\n",
    "# Print the horizontally stacked array\n",
    "print(result)"
   ]
  },
  {
   "cell_type": "code",
   "execution_count": null,
   "id": "5e34027e-30ee-4ffb-81f6-45964e0328d2",
   "metadata": {},
   "outputs": [],
   "source": [
    "#Numpy Filter\n",
    "#In NumPy, you can filter elements in an array based on a specified condition using\n",
    "#boolean indexing. Boolean indexing allows you to create a mask (a boolean array) that\n",
    "#selects elements from the original array that meet the specified condition. Here's how to\n",
    "#filter elements in a NumPy array:"
   ]
  },
  {
   "cell_type": "code",
   "execution_count": 73,
   "id": "8fb85a67-3d07-440b-83b2-ec7fac1765c5",
   "metadata": {},
   "outputs": [
    {
     "name": "stdout",
     "output_type": "stream",
     "text": [
      "Filtered Array: [4 5 6]\n"
     ]
    }
   ],
   "source": [
    "import numpy as np\n",
    "# Create a NumPy array\n",
    "arr = np.array([1, 2, 3, 4, 5, 6])\n",
    "# Create a boolean mask based on a condition (e.g., values greater than 3)\n",
    "mask = (arr > 3)\n",
    "# Use the mask to filter elements in the array\n",
    "filtered_array = arr[mask]\n",
    "# Print the filtered array\n",
    "print(\"Filtered Array:\", filtered_array)"
   ]
  },
  {
   "cell_type": "code",
   "execution_count": null,
   "id": "8779bd22-e939-4f83-b6a6-3ffb9b1dda89",
   "metadata": {},
   "outputs": [],
   "source": [
    "#standard deviation"
   ]
  },
  {
   "cell_type": "code",
   "execution_count": 77,
   "id": "165f51a7-a73a-4d91-bc93-9b40287b1e7a",
   "metadata": {},
   "outputs": [
    {
     "name": "stdout",
     "output_type": "stream",
     "text": [
      "Class A Score Average 90.0\n"
     ]
    }
   ],
   "source": [
    "import numpy as np\n",
    "# Score of Class A students\n",
    "classA= np.array([85, 88, 90, 92, 95])\n",
    "# Score of Class A students\n",
    "classB= np.array([70, 80, 85, 95, 100])\n",
    "classA_mean=np.mean(classA)\n",
    "classB_mean=np.mean(classB)\n",
    "print('Class A Score Average',classA_mean) "
   ]
  },
  {
   "cell_type": "code",
   "execution_count": 103,
   "id": "87e15407-9699-4ce2-9c9a-ec9808c76c4f",
   "metadata": {},
   "outputs": [
    {
     "name": "stdout",
     "output_type": "stream",
     "text": [
      "Class B Score Average 86.0\n",
      "Class B Variance is 114.0\n",
      "Class B Variance is 10.677078252031311\n"
     ]
    }
   ],
   "source": [
    "import numpy as np\n",
    "classB= np.array ([70, 80, 85, 95, 100])\n",
    "classB_mean=np.mean (classB)\n",
    "print ('Class B Score Average',classB_mean)\n",
    "var=np.var(classB)\n",
    "print ('Class B Variance is',var)\n",
    "std=np.std(classB)\n",
    "print('Class B Variance is', std)"
   ]
  },
  {
   "cell_type": "code",
   "execution_count": null,
   "id": "1ce671bc-1032-4a09-bb1d-e3cd33d9f385",
   "metadata": {},
   "outputs": [],
   "source": []
  }
 ],
 "metadata": {
  "kernelspec": {
   "display_name": "Python 3 (ipykernel)",
   "language": "python",
   "name": "python3"
  },
  "language_info": {
   "codemirror_mode": {
    "name": "ipython",
    "version": 3
   },
   "file_extension": ".py",
   "mimetype": "text/x-python",
   "name": "python",
   "nbconvert_exporter": "python",
   "pygments_lexer": "ipython3",
   "version": "3.12.4"
  }
 },
 "nbformat": 4,
 "nbformat_minor": 5
}
