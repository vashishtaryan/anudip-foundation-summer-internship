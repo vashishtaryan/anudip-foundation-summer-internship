{
 "cells": [
  {
   "cell_type": "code",
   "execution_count": 11,
   "id": "1f714dea-7d53-4d24-8249-f3bc3df8481d",
   "metadata": {},
   "outputs": [
    {
     "ename": "NameError",
     "evalue": "name 'name' is not defined",
     "output_type": "error",
     "traceback": [
      "\u001b[1;31m---------------------------------------------------------------------------\u001b[0m",
      "\u001b[1;31mNameError\u001b[0m                                 Traceback (most recent call last)",
      "Cell \u001b[1;32mIn[11], line 8\u001b[0m\n\u001b[0;32m      5\u001b[0m         \u001b[38;5;28mprint\u001b[39m(\u001b[38;5;124m\"\u001b[39m\u001b[38;5;124mstudy 3 hour\u001b[39m\u001b[38;5;124m\"\u001b[39m,name)\n\u001b[0;32m      7\u001b[0m obj\u001b[38;5;241m=\u001b[39mstudent()\n\u001b[1;32m----> 8\u001b[0m \u001b[43mobj\u001b[49m\u001b[38;5;241;43m.\u001b[39;49m\u001b[43mstudy\u001b[49m\u001b[43m(\u001b[49m\u001b[43m)\u001b[49m\n",
      "Cell \u001b[1;32mIn[11], line 5\u001b[0m, in \u001b[0;36mstudent.study\u001b[1;34m(self)\u001b[0m\n\u001b[0;32m      4\u001b[0m \u001b[38;5;28;01mdef\u001b[39;00m \u001b[38;5;21mstudy\u001b[39m(\u001b[38;5;28mself\u001b[39m) :\n\u001b[1;32m----> 5\u001b[0m    \u001b[38;5;28mprint\u001b[39m(\u001b[38;5;124m\"\u001b[39m\u001b[38;5;124mstudy 3 hour\u001b[39m\u001b[38;5;124m\"\u001b[39m,\u001b[43mname\u001b[49m)\n",
      "\u001b[1;31mNameError\u001b[0m: name 'name' is not defined"
     ]
    }
   ],
   "source": [
    "class student :\n",
    "     name=\"xyz\"\n",
    "     age=0\n",
    "     def study(self) :\n",
    "        print(\"study 3 hour\",name)\n",
    "\n",
    "obj=student()\n",
    "obj.study()"
   ]
  },
  {
   "cell_type": "code",
   "execution_count": 12,
   "id": "f9ff6d23-ac72-4f16-8397-21937932a0fa",
   "metadata": {},
   "outputs": [
    {
     "name": "stdout",
     "output_type": "stream",
     "text": [
      "study 3 hour xyz\n"
     ]
    }
   ],
   "source": [
    "class student :\n",
    "     name=\"xyz\"\n",
    "     age=0\n",
    "     def study(self) :\n",
    "        print(\"study 3 hour\",self.name)\n",
    "\n",
    "obj=student()\n",
    "obj.study()"
   ]
  },
  {
   "cell_type": "code",
   "execution_count": 19,
   "id": "1e5a620c-9c9e-4a24-947c-647bda977728",
   "metadata": {},
   "outputs": [
    {
     "name": "stdout",
     "output_type": "stream",
     "text": [
      "study 3 hour xyz\n"
     ]
    },
    {
     "ename": "NameError",
     "evalue": "name 'sleep' is not defined",
     "output_type": "error",
     "traceback": [
      "\u001b[1;31m---------------------------------------------------------------------------\u001b[0m",
      "\u001b[1;31mNameError\u001b[0m                                 Traceback (most recent call last)",
      "Cell \u001b[1;32mIn[19], line 11\u001b[0m\n\u001b[0;32m      8\u001b[0m          \u001b[38;5;28mprint\u001b[39m(\u001b[38;5;124m\"\u001b[39m\u001b[38;5;124msleep 1 hour\u001b[39m\u001b[38;5;124m\"\u001b[39m)\n\u001b[0;32m     10\u001b[0m obj\u001b[38;5;241m=\u001b[39mstudent()\n\u001b[1;32m---> 11\u001b[0m \u001b[43mobj\u001b[49m\u001b[38;5;241;43m.\u001b[39;49m\u001b[43mstudy\u001b[49m\u001b[43m(\u001b[49m\u001b[43m)\u001b[49m\n",
      "Cell \u001b[1;32mIn[19], line 6\u001b[0m, in \u001b[0;36mstudent.study\u001b[1;34m(self)\u001b[0m\n\u001b[0;32m      4\u001b[0m \u001b[38;5;28;01mdef\u001b[39;00m \u001b[38;5;21mstudy\u001b[39m(\u001b[38;5;28mself\u001b[39m) :\n\u001b[0;32m      5\u001b[0m    \u001b[38;5;28mprint\u001b[39m(\u001b[38;5;124m\"\u001b[39m\u001b[38;5;124mstudy 3 hour\u001b[39m\u001b[38;5;124m\"\u001b[39m,\u001b[38;5;28mself\u001b[39m\u001b[38;5;241m.\u001b[39mname)\n\u001b[1;32m----> 6\u001b[0m    \u001b[43msleep\u001b[49m()\n",
      "\u001b[1;31mNameError\u001b[0m: name 'sleep' is not defined"
     ]
    }
   ],
   "source": [
    "class student :\n",
    "     name=\"xyz\"\n",
    "     age=0\n",
    "     def study(self) :\n",
    "        print(\"study 3 hour\",self.name)\n",
    "        sleep()\n",
    "     def sleep(self):  \n",
    "         print(\"sleep 1 hour\")\n",
    "\n",
    "obj=student()\n",
    "obj.study()"
   ]
  },
  {
   "cell_type": "code",
   "execution_count": 18,
   "id": "de559600-8761-447c-b375-c6bbb183349c",
   "metadata": {},
   "outputs": [
    {
     "name": "stdout",
     "output_type": "stream",
     "text": [
      "study 3 hour xyz\n",
      "sleep 1 hour\n"
     ]
    }
   ],
   "source": [
    "class student :\n",
    "     name=\"xyz\"\n",
    "     age=0\n",
    "     def study(self) :\n",
    "        print(\"study 3 hour\",self.name)\n",
    "        self.sleep()\n",
    "     def sleep(self):  \n",
    "         print(\"sleep 1 hour\")\n",
    "\n",
    "obj=student()\n",
    "obj.study()"
   ]
  },
  {
   "cell_type": "code",
   "execution_count": 20,
   "id": "1c19c951-9f6b-427a-8a29-8a2c86443bda",
   "metadata": {},
   "outputs": [
    {
     "name": "stdout",
     "output_type": "stream",
     "text": [
      "study 3 hour xyz\n"
     ]
    }
   ],
   "source": [
    "class student :\n",
    "     name=\"xyz\"\n",
    "     age=0\n",
    "     def study(self) :\n",
    "        print(\"study 3 hour\",self.name)\n",
    "        \n",
    "     def sleep(self):  \n",
    "         print(\"sleep 1 hour\")\n",
    "         study()\n",
    "\n",
    "obj=student()\n",
    "obj.study()"
   ]
  },
  {
   "cell_type": "code",
   "execution_count": 21,
   "id": "0a8e3966-8276-4958-8e17-7b730a135b0a",
   "metadata": {},
   "outputs": [],
   "source": [
    "#inheritance"
   ]
  },
  {
   "cell_type": "code",
   "execution_count": 24,
   "id": "5cd0e81b-914b-4797-ae6f-570440b0a1ce",
   "metadata": {},
   "outputs": [],
   "source": [
    "#multilevel\n",
    "class A:\n",
    "    def show(self):\n",
    "        print(\"this is multilevel method\")\n",
    "\n",
    "class B(A):\n",
    "    pass\n",
    "\n",
    "class C(A):\n",
    "    pass\n",
    "\n",
    "class D(B,C):\n",
    "    pass\n"
   ]
  },
  {
   "cell_type": "code",
   "execution_count": 25,
   "id": "895d8ea1-7313-4e54-b725-7e6210b3e3fd",
   "metadata": {},
   "outputs": [
    {
     "name": "stdout",
     "output_type": "stream",
     "text": [
      "this is multilevel method\n"
     ]
    },
    {
     "ename": "AttributeError",
     "evalue": "'C' object has no attribute 'demo'",
     "output_type": "error",
     "traceback": [
      "\u001b[1;31m---------------------------------------------------------------------------\u001b[0m",
      "\u001b[1;31mAttributeError\u001b[0m                            Traceback (most recent call last)",
      "Cell \u001b[1;32mIn[25], line 18\u001b[0m\n\u001b[0;32m     16\u001b[0m obj\u001b[38;5;241m=\u001b[39mC()\n\u001b[0;32m     17\u001b[0m obj\u001b[38;5;241m.\u001b[39mshow()\n\u001b[1;32m---> 18\u001b[0m \u001b[43mobj\u001b[49m\u001b[38;5;241;43m.\u001b[39;49m\u001b[43mdemo\u001b[49m()\n",
      "\u001b[1;31mAttributeError\u001b[0m: 'C' object has no attribute 'demo'"
     ]
    }
   ],
   "source": [
    "#multilevel\n",
    "class A:\n",
    "    def show(self):\n",
    "        print(\"this is multilevel method\")\n",
    "\n",
    "class B(A):\n",
    "    def demo(self):\n",
    "        print(\"demo method\")\n",
    "\n",
    "class C(A):\n",
    "    pass\n",
    "\n",
    "class D(B,C):\n",
    "    pass\n",
    "    \n",
    "obj=C()\n",
    "obj.show()\n",
    "obj.demo() #error"
   ]
  },
  {
   "cell_type": "code",
   "execution_count": 26,
   "id": "bef40711-b020-4c53-81f9-432a49189396",
   "metadata": {},
   "outputs": [
    {
     "ename": "TypeError",
     "evalue": "setData() missing 1 required positional argument: 'age'",
     "output_type": "error",
     "traceback": [
      "\u001b[1;31m---------------------------------------------------------------------------\u001b[0m",
      "\u001b[1;31mTypeError\u001b[0m                                 Traceback (most recent call last)",
      "Cell \u001b[1;32mIn[26], line 9\u001b[0m\n\u001b[0;32m      6\u001b[0m \u001b[38;5;28;01mdef\u001b[39;00m \u001b[38;5;21msetData\u001b[39m(\u001b[38;5;28mid\u001b[39m,name,age):\n\u001b[0;32m      7\u001b[0m     \u001b[38;5;28mprint\u001b[39m(\u001b[38;5;124m\"\u001b[39m\u001b[38;5;124mid,name,age\u001b[39m\u001b[38;5;124m\"\u001b[39m)\n\u001b[1;32m----> 9\u001b[0m \u001b[43msetData\u001b[49m\u001b[43m(\u001b[49m\u001b[38;5;241;43m101\u001b[39;49m\u001b[43m,\u001b[49m\u001b[38;5;124;43m\"\u001b[39;49m\u001b[38;5;124;43mSanjay\u001b[39;49m\u001b[38;5;124;43m\"\u001b[39;49m\u001b[43m)\u001b[49m\n",
      "\u001b[1;31mTypeError\u001b[0m: setData() missing 1 required positional argument: 'age'"
     ]
    }
   ],
   "source": [
    "#polymorphism\n",
    "\n",
    "def setData(id,name):\n",
    "    print(\"id,name\")\n",
    "\n",
    "def setData(id,name,age):\n",
    "    print(\"id,name,age\")\n",
    "\n",
    "setData(101,\"Sanjay\")"
   ]
  },
  {
   "cell_type": "code",
   "execution_count": 27,
   "id": "f245492b-f51d-4447-a270-010e5dd86390",
   "metadata": {},
   "outputs": [
    {
     "name": "stdout",
     "output_type": "stream",
     "text": [
      "60\n"
     ]
    }
   ],
   "source": [
    "def sum(a,b,c):\n",
    "    print(a+b+c)\n",
    "\n",
    "sum(10,20,30)"
   ]
  },
  {
   "cell_type": "code",
   "execution_count": 28,
   "id": "cf568376-09a8-43ca-ad35-b7ebb9fb635c",
   "metadata": {},
   "outputs": [
    {
     "name": "stdout",
     "output_type": "stream",
     "text": [
      "60\n",
      "30\n"
     ]
    }
   ],
   "source": [
    "def sum(a,b,c=0):\n",
    "    print(a+b+c)\n",
    "\n",
    "sum(10,20,30)\n",
    "sum(10,20)"
   ]
  },
  {
   "cell_type": "code",
   "execution_count": 29,
   "id": "155d0a59-4755-4f20-a5a5-71f8b414b375",
   "metadata": {},
   "outputs": [],
   "source": [
    "#method overriding\n",
    "#polymorphism with inheritance:\n",
    "#polymorphism lets us define method in the child class tha thave the same name as the method in the present class.\n",
    "#in inheritance,the  child class inherits the merthod from the present class.howwever,it is possible to modify a method in a child class that it has inherited from the parent class.\n",
    "# this is particularly useful in cases where the method inherited from th eparent class doesn't quite fit the child class."
   ]
  },
  {
   "cell_type": "code",
   "execution_count": 32,
   "id": "ed31ec80-75f8-4a92-bdb5-d0e76445a0ee",
   "metadata": {},
   "outputs": [],
   "source": [
    "class Bird:\n",
    "    def intro(self):\n",
    "        print(\"there are many type of birds\")\n",
    "    def flight(self):\n",
    "        print(\"most of the bird fly but some cant\")\n",
    "\n",
    "class sparrow(Bird):\n",
    "    def flight(self):\n",
    "        print(\"i can fly\")\n",
    "\n",
    "class ostrich (Bird):\n",
    "    def flight (self):\n",
    "        print(\"i can't fly\")\n",
    "\n",
    "\n"
   ]
  },
  {
   "cell_type": "code",
   "execution_count": 36,
   "id": "4d43d8cb-ae44-4943-9940-476d55a399b9",
   "metadata": {},
   "outputs": [
    {
     "ename": "NameError",
     "evalue": "name 'name' is not defined",
     "output_type": "error",
     "traceback": [
      "\u001b[1;31m---------------------------------------------------------------------------\u001b[0m",
      "\u001b[1;31mNameError\u001b[0m                                 Traceback (most recent call last)",
      "Cell \u001b[1;32mIn[36], line 11\u001b[0m\n\u001b[0;32m      8\u001b[0m         \u001b[38;5;28mprint\u001b[39m(\u001b[38;5;124m\"\u001b[39m\u001b[38;5;124mthis is show method\u001b[39m\u001b[38;5;124m\"\u001b[39m,name)\n\u001b[0;32m     10\u001b[0m obj\u001b[38;5;241m=\u001b[39mB()\n\u001b[1;32m---> 11\u001b[0m \u001b[43mobj\u001b[49m\u001b[38;5;241;43m.\u001b[39;49m\u001b[43mshow\u001b[49m\u001b[43m(\u001b[49m\u001b[43m)\u001b[49m\n",
      "Cell \u001b[1;32mIn[36], line 8\u001b[0m, in \u001b[0;36mB.show\u001b[1;34m(self)\u001b[0m\n\u001b[0;32m      7\u001b[0m \u001b[38;5;28;01mdef\u001b[39;00m \u001b[38;5;21mshow\u001b[39m(\u001b[38;5;28mself\u001b[39m):\n\u001b[1;32m----> 8\u001b[0m     \u001b[38;5;28mprint\u001b[39m(\u001b[38;5;124m\"\u001b[39m\u001b[38;5;124mthis is show method\u001b[39m\u001b[38;5;124m\"\u001b[39m,\u001b[43mname\u001b[49m)\n",
      "\u001b[1;31mNameError\u001b[0m: name 'name' is not defined"
     ]
    }
   ],
   "source": [
    "#encapsulation\n",
    "\n",
    "class A:\n",
    "    name=\"abc\"\n",
    "\n",
    "class B(A):\n",
    "    def show(self):\n",
    "        print(\"this is show method\",name)\n",
    "\n",
    "obj=B()\n",
    "obj.show()\n",
    "        "
   ]
  },
  {
   "cell_type": "code",
   "execution_count": 37,
   "id": "2b02af41-49c2-41b4-bde3-8e6cece95c3a",
   "metadata": {},
   "outputs": [
    {
     "name": "stdout",
     "output_type": "stream",
     "text": [
      "this is show method abc\n"
     ]
    }
   ],
   "source": [
    "#encapsulation\n",
    "\n",
    "class A:\n",
    "    name=\"abc\"\n",
    "\n",
    "class B(A):\n",
    "    def show(self):\n",
    "        print(\"this is show method\",self.name)\n",
    "\n",
    "obj=B()\n",
    "obj.show()\n",
    "        "
   ]
  },
  {
   "cell_type": "code",
   "execution_count": 39,
   "id": "b9a5cf1e-1efa-4a53-8720-f3f85066aeab",
   "metadata": {},
   "outputs": [
    {
     "ename": "AttributeError",
     "evalue": "'B' object has no attribute 'name'",
     "output_type": "error",
     "traceback": [
      "\u001b[1;31m---------------------------------------------------------------------------\u001b[0m",
      "\u001b[1;31mAttributeError\u001b[0m                            Traceback (most recent call last)",
      "Cell \u001b[1;32mIn[39], line 9\u001b[0m\n\u001b[0;32m      6\u001b[0m         \u001b[38;5;28mprint\u001b[39m(\u001b[38;5;124m\"\u001b[39m\u001b[38;5;124mthis is show method\u001b[39m\u001b[38;5;124m\"\u001b[39m,\u001b[38;5;28mself\u001b[39m\u001b[38;5;241m.\u001b[39mname)\n\u001b[0;32m      8\u001b[0m obj\u001b[38;5;241m=\u001b[39mB()\n\u001b[1;32m----> 9\u001b[0m \u001b[43mobj\u001b[49m\u001b[38;5;241;43m.\u001b[39;49m\u001b[43mshow\u001b[49m\u001b[43m(\u001b[49m\u001b[43m)\u001b[49m\n",
      "Cell \u001b[1;32mIn[39], line 6\u001b[0m, in \u001b[0;36mB.show\u001b[1;34m(self)\u001b[0m\n\u001b[0;32m      5\u001b[0m \u001b[38;5;28;01mdef\u001b[39;00m \u001b[38;5;21mshow\u001b[39m(\u001b[38;5;28mself\u001b[39m):\n\u001b[1;32m----> 6\u001b[0m     \u001b[38;5;28mprint\u001b[39m(\u001b[38;5;124m\"\u001b[39m\u001b[38;5;124mthis is show method\u001b[39m\u001b[38;5;124m\"\u001b[39m,\u001b[38;5;28;43mself\u001b[39;49m\u001b[38;5;241;43m.\u001b[39;49m\u001b[43mname\u001b[49m)\n",
      "\u001b[1;31mAttributeError\u001b[0m: 'B' object has no attribute 'name'"
     ]
    }
   ],
   "source": [
    "class A:\n",
    "    _name=\"abc\"\n",
    "\n",
    "class B(A):\n",
    "    def show(self):\n",
    "        print(\"this is show method\",self.name)\n",
    "\n",
    "obj=B()\n",
    "obj.show()\n",
    "\n",
    "        "
   ]
  },
  {
   "cell_type": "code",
   "execution_count": 41,
   "id": "e528ba44-da37-4981-a303-09938b919490",
   "metadata": {},
   "outputs": [
    {
     "name": "stdout",
     "output_type": "stream",
     "text": [
      "line 1\n",
      "line 2\n",
      "line 3\n",
      "line 4\n"
     ]
    },
    {
     "name": "stdin",
     "output_type": "stream",
     "text": [
      "enter first number 12\n",
      "enter division muber 2\n"
     ]
    },
    {
     "ename": "TypeError",
     "evalue": "unsupported operand type(s) for /: 'str' and 'str'",
     "output_type": "error",
     "traceback": [
      "\u001b[1;31m---------------------------------------------------------------------------\u001b[0m",
      "\u001b[1;31mTypeError\u001b[0m                                 Traceback (most recent call last)",
      "Cell \u001b[1;32mIn[41], line 9\u001b[0m\n\u001b[0;32m      6\u001b[0m num1\u001b[38;5;241m=\u001b[39m\u001b[38;5;28minput\u001b[39m(\u001b[38;5;124m\"\u001b[39m\u001b[38;5;124menter first number\u001b[39m\u001b[38;5;124m\"\u001b[39m)\n\u001b[0;32m      7\u001b[0m num2\u001b[38;5;241m=\u001b[39m\u001b[38;5;28minput\u001b[39m(\u001b[38;5;124m\"\u001b[39m\u001b[38;5;124menter division muber\u001b[39m\u001b[38;5;124m\"\u001b[39m)\n\u001b[1;32m----> 9\u001b[0m \u001b[38;5;28mprint\u001b[39m(\u001b[43mnum1\u001b[49m\u001b[38;5;241;43m/\u001b[39;49m\u001b[43mnum2\u001b[49m)\n\u001b[0;32m     10\u001b[0m \u001b[38;5;28mprint\u001b[39m(\u001b[38;5;124m\"\u001b[39m\u001b[38;5;124mline 5\u001b[39m\u001b[38;5;124m\"\u001b[39m)\n\u001b[0;32m     11\u001b[0m \u001b[38;5;28mprint\u001b[39m(\u001b[38;5;124m\"\u001b[39m\u001b[38;5;124mline  6\u001b[39m\u001b[38;5;124m\"\u001b[39m)\n",
      "\u001b[1;31mTypeError\u001b[0m: unsupported operand type(s) for /: 'str' and 'str'"
     ]
    }
   ],
   "source": [
    "#exception handling\n",
    "print(\"line 1\")\n",
    "print(\"line 2\")\n",
    "print(\"line 3\")\n",
    "print(\"line 4\")\n",
    "num1=input(\"enter first number\")\n",
    "num2=input(\"enter division muber\")\n",
    "\n",
    "print(num1/num2)\n",
    "print(\"line 5\")\n",
    "print(\"line  6\")\n"
   ]
  },
  {
   "cell_type": "code",
   "execution_count": 43,
   "id": "dc46cdc3-7f49-41c9-817b-931ca638a3b1",
   "metadata": {},
   "outputs": [
    {
     "name": "stdout",
     "output_type": "stream",
     "text": [
      "line 1\n",
      "line 2\n",
      "line 3\n",
      "line 4\n"
     ]
    },
    {
     "name": "stdin",
     "output_type": "stream",
     "text": [
      "enter first number 12\n",
      "enter division muber 2\n"
     ]
    },
    {
     "name": "stdout",
     "output_type": "stream",
     "text": [
      "6.0\n",
      "line 5\n",
      "line  6\n"
     ]
    }
   ],
   "source": [
    "#exception handling\n",
    "print(\"line 1\")\n",
    "print(\"line 2\")\n",
    "print(\"line 3\")\n",
    "print(\"line 4\")\n",
    "num1=int(input(\"enter first number\"))\n",
    "num2=int(input(\"enter division muber\"))\n",
    "\n",
    "print(num1/num2)\n",
    "print(\"line 5\")\n",
    "print(\"line  6\")\n",
    "\n"
   ]
  },
  {
   "cell_type": "code",
   "execution_count": 51,
   "id": "e06b2e80-aac8-4278-af67-76b217b975cb",
   "metadata": {},
   "outputs": [
    {
     "name": "stdout",
     "output_type": "stream",
     "text": [
      "line 1\n",
      "line 2\n",
      "line 3\n",
      "line 4\n"
     ]
    },
    {
     "name": "stdin",
     "output_type": "stream",
     "text": [
      "enter first number 100\n",
      "enter division muber 0\n"
     ]
    },
    {
     "ename": "NameError",
     "evalue": "name 'ZeroDivisonError' is not defined",
     "output_type": "error",
     "traceback": [
      "\u001b[1;31m---------------------------------------------------------------------------\u001b[0m",
      "\u001b[1;31mZeroDivisionError\u001b[0m                         Traceback (most recent call last)",
      "Cell \u001b[1;32mIn[51], line 9\u001b[0m\n\u001b[0;32m      8\u001b[0m \u001b[38;5;28;01mtry\u001b[39;00m:\n\u001b[1;32m----> 9\u001b[0m   \u001b[38;5;28mprint\u001b[39m(\u001b[43mnum1\u001b[49m\u001b[38;5;241;43m/\u001b[39;49m\u001b[43mnum2\u001b[49m)\n\u001b[0;32m     10\u001b[0m   \u001b[38;5;28mprint\u001b[39m(\u001b[38;5;124m\"\u001b[39m\u001b[38;5;124minside a try \u001b[39m\u001b[38;5;124m\"\u001b[39m)\n",
      "\u001b[1;31mZeroDivisionError\u001b[0m: division by zero",
      "\nDuring handling of the above exception, another exception occurred:\n",
      "\u001b[1;31mNameError\u001b[0m                                 Traceback (most recent call last)",
      "Cell \u001b[1;32mIn[51], line 11\u001b[0m\n\u001b[0;32m      9\u001b[0m   \u001b[38;5;28mprint\u001b[39m(num1\u001b[38;5;241m/\u001b[39mnum2)\n\u001b[0;32m     10\u001b[0m   \u001b[38;5;28mprint\u001b[39m(\u001b[38;5;124m\"\u001b[39m\u001b[38;5;124minside a try \u001b[39m\u001b[38;5;124m\"\u001b[39m)\n\u001b[1;32m---> 11\u001b[0m \u001b[38;5;28;01mexcept\u001b[39;00m \u001b[43mZeroDivisonError\u001b[49m \u001b[38;5;28;01mas\u001b[39;00m e:\n\u001b[0;32m     12\u001b[0m    \u001b[38;5;28mprint\u001b[39m(e)\n\u001b[0;32m     13\u001b[0m \u001b[38;5;28mprint\u001b[39m(\u001b[38;5;124m\"\u001b[39m\u001b[38;5;124mline  6\u001b[39m\u001b[38;5;124m\"\u001b[39m)\n",
      "\u001b[1;31mNameError\u001b[0m: name 'ZeroDivisonError' is not defined"
     ]
    }
   ],
   "source": [
    "#exception handling\n",
    "print(\"line 1\")\n",
    "print(\"line 2\")\n",
    "print(\"line 3\")\n",
    "print(\"line 4\")\n",
    "num1=int(input(\"enter first number\"))\n",
    "num2=int(input(\"enter division muber\"))\n",
    "try:\n",
    "  print(num1/num2)\n",
    "  print(\"inside a try \")\n",
    "except ZeroDivisonError as e:\n",
    "   print(e)\n",
    "print(\"line  6\")\n",
    "\n"
   ]
  },
  {
   "cell_type": "code",
   "execution_count": 46,
   "id": "5baca091-1f33-450f-b801-d9172033ded9",
   "metadata": {},
   "outputs": [
    {
     "name": "stdout",
     "output_type": "stream",
     "text": [
      "line 1\n",
      "line 2\n",
      "line 3\n",
      "line 4\n"
     ]
    },
    {
     "name": "stdin",
     "output_type": "stream",
     "text": [
      "enter first number 100\n",
      "enter division muber 0\n"
     ]
    },
    {
     "name": "stdout",
     "output_type": "stream",
     "text": [
      "division by zero\n",
      "line  6\n"
     ]
    }
   ],
   "source": [
    "#exception handling\n",
    "print(\"line 1\")\n",
    "print(\"line 2\")\n",
    "print(\"line 3\")\n",
    "print(\"line 4\")\n",
    "num1=int(input(\"enter first number\"))\n",
    "num2=int(input(\"enter division muber\"))\n",
    "try:\n",
    "    print(num1/num2)\n",
    "    print(\"inside a try \")\n",
    "except ZeroDivisionError as e:\n",
    "    print(e)\n",
    "print(\"line  6\")"
   ]
  },
  {
   "cell_type": "code",
   "execution_count": 56,
   "id": "58f3b7d4-5fb7-40e1-b1e5-12ad79495969",
   "metadata": {},
   "outputs": [
    {
     "name": "stdout",
     "output_type": "stream",
     "text": [
      "line 1\n",
      "line 2\n",
      "line 3\n",
      "line 4\n"
     ]
    },
    {
     "name": "stdin",
     "output_type": "stream",
     "text": [
      "enter first number 783\n",
      "enter division muber 0\n"
     ]
    },
    {
     "name": "stdout",
     "output_type": "stream",
     "text": [
      "something went wrong\n",
      "line  6\n"
     ]
    }
   ],
   "source": [
    "print(\"line 1\")\n",
    "print(\"line 2\")\n",
    "print(\"line 3\")\n",
    "print(\"line 4\")\n",
    "num1=int(input(\"enter first number\"))\n",
    "num2=int(input(\"enter division muber\"))\n",
    "try:\n",
    "    print(num1/num2)\n",
    "    open(\"anudip.txt\")\n",
    "except (ZeroDivisionError,FileNotFoundError ):\n",
    "    print(\"something went wrong\")\n",
    "\n",
    "print(\"line  6\")"
   ]
  },
  {
   "cell_type": "code",
   "execution_count": 57,
   "id": "75a7752d-f17a-4aee-80ad-6289bc956ac8",
   "metadata": {},
   "outputs": [
    {
     "name": "stdout",
     "output_type": "stream",
     "text": [
      "line 1\n",
      "line 2\n",
      "line 3\n",
      "line 4\n"
     ]
    },
    {
     "name": "stdin",
     "output_type": "stream",
     "text": [
      "enter first number 100\n",
      "enter division muber 0\n"
     ]
    },
    {
     "name": "stdout",
     "output_type": "stream",
     "text": [
      "something went wrong\n",
      "line  6\n"
     ]
    }
   ],
   "source": [
    "print(\"line 1\")\n",
    "print(\"line 2\")\n",
    "print(\"line 3\")\n",
    "print(\"line 4\")\n",
    "num1=int(input(\"enter first number\"))\n",
    "num2=int(input(\"enter division muber\"))\n",
    "try:\n",
    "    print(num1/num2)\n",
    "    open(\"anudip.txt\")\n",
    "except :\n",
    "    print(\"something went wrong\")\n",
    "\n",
    "print(\"line  6\")"
   ]
  },
  {
   "cell_type": "code",
   "execution_count": 61,
   "id": "764d719b-6e23-41ab-a30d-2ae8527312d1",
   "metadata": {},
   "outputs": [
    {
     "name": "stdout",
     "output_type": "stream",
     "text": [
      "line 1\n",
      "line 2\n",
      "line 3\n",
      "line 4\n"
     ]
    },
    {
     "name": "stdin",
     "output_type": "stream",
     "text": [
      "enter first number 50\n",
      "enter division muber 5\n"
     ]
    },
    {
     "name": "stdout",
     "output_type": "stream",
     "text": [
      "10.0\n",
      "else block\n",
      "final block\n",
      "line  6\n"
     ]
    }
   ],
   "source": [
    "print(\"line 1\")\n",
    "print(\"line 2\")\n",
    "print(\"line 3\")\n",
    "print(\"line 4\")\n",
    "num1=int(input(\"enter first number\"))\n",
    "num2=int(input(\"enter division muber\"))\n",
    "try:\n",
    "    print(num1/num2)\n",
    "    open(\"anudip.txt\")\n",
    "except :\n",
    "    print(\"something went wrong\")\n",
    "else :\n",
    "    print(\"else block\")\n",
    "finally:\n",
    "    print(\"final block\")\n",
    "\n",
    "print(\"line  6\")"
   ]
  },
  {
   "cell_type": "code",
   "execution_count": null,
   "id": "dcfae695-eb66-4ee0-9e4a-7ed4eae350ab",
   "metadata": {},
   "outputs": [],
   "source": []
  },
  {
   "cell_type": "code",
   "execution_count": null,
   "id": "c72fd092-09a3-4982-a1f7-fd5ab344ae48",
   "metadata": {},
   "outputs": [],
   "source": []
  }
 ],
 "metadata": {
  "kernelspec": {
   "display_name": "Python 3 (ipykernel)",
   "language": "python",
   "name": "python3"
  },
  "language_info": {
   "codemirror_mode": {
    "name": "ipython",
    "version": 3
   },
   "file_extension": ".py",
   "mimetype": "text/x-python",
   "name": "python",
   "nbconvert_exporter": "python",
   "pygments_lexer": "ipython3",
   "version": "3.12.2"
  }
 },
 "nbformat": 4,
 "nbformat_minor": 5
}
