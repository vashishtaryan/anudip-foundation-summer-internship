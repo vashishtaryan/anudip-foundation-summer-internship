{
 "cells": [
  {
   "cell_type": "code",
   "execution_count": null,
   "id": "a12ddb1d-ba6a-493a-bef1-d6db084e1d27",
   "metadata": {},
   "outputs": [],
   "source": [
    "#Write a Python program to sum all the items in a list."
   ]
  },
  {
   "cell_type": "code",
   "execution_count": 1,
   "id": "08ed30a3-45ed-41bd-a93c-5e634ba5fff2",
   "metadata": {},
   "outputs": [
    {
     "name": "stdout",
     "output_type": "stream",
     "text": [
      "The sum of the list is: 15\n"
     ]
    }
   ],
   "source": [
    "def sum_of_list(lst):\n",
    "    total = 0\n",
    "    for item in lst:\n",
    "        total += item\n",
    "    return total\n",
    "\n",
    "numbers = [1, 2, 3, 4, 5]\n",
    "result = sum_of_list(numbers)\n",
    "print(f\"The sum of the list is: {result}\")\n"
   ]
  },
  {
   "cell_type": "code",
   "execution_count": null,
   "id": "f2e8711e-5d07-4fa7-9fd0-e60400956030",
   "metadata": {},
   "outputs": [],
   "source": [
    "#Write a Python program to get the largest and smallest number from a list without builtin function"
   ]
  },
  {
   "cell_type": "code",
   "execution_count": 3,
   "id": "cb5c9d92-9d00-43dc-aad8-c19c73b7c481",
   "metadata": {},
   "outputs": [
    {
     "name": "stdout",
     "output_type": "stream",
     "text": [
      "Largest number: 9\n",
      "Smallest number: 1\n"
     ]
    }
   ],
   "source": [
    "def find_largest_and_smallest(numbers):\n",
    "    if len(numbers) == 0:\n",
    "        raise ValueError(\"The list is empty and has no largest or smallest number.\")\n",
    "    \n",
    "    largest = smallest = numbers[0]\n",
    "\n",
    "    for number in numbers[1:]:\n",
    "        if number > largest:\n",
    "            largest = number\n",
    "        if number < smallest:\n",
    "            smallest = number\n",
    "    \n",
    "    return largest, smallest\n",
    "\n",
    "numbers = [3, 1, 4, 1, 5, 9, 2, 6, 5, 3, 5]\n",
    "largest, smallest = find_largest_and_smallest(numbers)\n",
    "print(f\"Largest number: {largest}\")\n",
    "print(f\"Smallest number: {smallest}\")\n"
   ]
  },
  {
   "cell_type": "code",
   "execution_count": null,
   "id": "3e78b920-e806-45cd-8258-7405b49dccad",
   "metadata": {},
   "outputs": [],
   "source": [
    "# Write a Python program to find duplicate values from a list and display those."
   ]
  },
  {
   "cell_type": "code",
   "execution_count": 5,
   "id": "ebbbdb13-92c4-4c89-aaac-3f0e4d773836",
   "metadata": {},
   "outputs": [
    {
     "name": "stdout",
     "output_type": "stream",
     "text": [
      "Duplicate values: [3, 5, 2]\n"
     ]
    }
   ],
   "source": [
    "def find_duplicates(numbers):\n",
    "    # Dictionary to keep track of occurrences\n",
    "    occurrences = {}\n",
    "    \n",
    "    # List to store duplicate values\n",
    "    duplicates = []\n",
    "    \n",
    "    # Traverse through the list to count occurrences\n",
    "    for number in numbers:\n",
    "        if number in occurrences:\n",
    "            occurrences[number] += 1\n",
    "        else:\n",
    "            occurrences[number] = 1\n",
    "    \n",
    "    # Find duplicates based on occurrences\n",
    "    for number, count in occurrences.items():\n",
    "        if count > 1:\n",
    "            duplicates.append(number)\n",
    "    \n",
    "    return duplicates\n",
    "\n",
    "# Example usage\n",
    "numbers = [3, 5, 7, 3, 2, 8, 5, 1, 9, 2]\n",
    "duplicates = find_duplicates(numbers)\n",
    "print(f\"Duplicate values: {duplicates}\")\n",
    "\n"
   ]
  },
  {
   "cell_type": "code",
   "execution_count": null,
   "id": "c8c88d3a-0470-4bdc-b5fe-4ab827f021f4",
   "metadata": {},
   "outputs": [],
   "source": [
    "# Write a Python program to split a given list into two parts where the length of the first\n",
    "# part of the list is given.\n",
    "# Original list:\n",
    "# [1, 1, 2, 3, 4, 4, 5, 1]\n",
    "# Length of the first part of the list: 3\n",
    "# Splitted the said list into two parts:\n",
    "# ([1, 1, 2], [3, 4, 4, 5, 1])"
   ]
  },
  {
   "cell_type": "code",
   "execution_count": 7,
   "id": "ea71eb0e-0faa-4c79-94c8-08873b9c6cce",
   "metadata": {},
   "outputs": [
    {
     "name": "stdout",
     "output_type": "stream",
     "text": [
      "Original list: [1, 1, 2, 3, 4, 4, 5, 1]\n",
      "Length of the first part of the list: 3\n",
      "Splitted the said list into two parts: ([1, 1, 2], [3, 4, 4, 5, 1])\n"
     ]
    }
   ],
   "source": [
    "def split_list(original_list, first_part_length):\n",
    "    if first_part_length > len(original_list):\n",
    "        raise ValueError(\"Length of the first part is greater than the length of the original list.\")\n",
    "    \n",
    "    first_part = original_list[:first_part_length]\n",
    "    second_part = original_list[first_part_length:]\n",
    "    \n",
    "    return first_part, second_part\n",
    "original_list = [1, 1, 2, 3, 4, 4, 5, 1]\n",
    "first_part_length = 3\n",
    "\n",
    "first_part, second_part = split_list(original_list, first_part_length)\n",
    "print(f\"Original list: {original_list}\")\n",
    "print(f\"Length of the first part of the list: {first_part_length}\")\n",
    "print(f\"Splitted the said list into two parts: ({first_part}, {second_part})\")\n"
   ]
  },
  {
   "cell_type": "code",
   "execution_count": null,
   "id": "3ff42c30-1d6e-4043-a0cd-4b1a02f4929c",
   "metadata": {},
   "outputs": [],
   "source": [
    "# Write a Python program to traverse a given list in reverse order, and print the\n",
    "# elements with the original index.\n",
    "# Original list:\n",
    "# ['red', 'green', 'white', 'black']\n",
    "# Traverse the said list in reverse order:\n",
    "# black\n",
    "# white\n",
    "# green\n",
    "# red"
   ]
  },
  {
   "cell_type": "code",
   "execution_count": 9,
   "id": "a72ce6f5-cb9b-49b9-b8d8-b3569eeee3cf",
   "metadata": {},
   "outputs": [
    {
     "name": "stdout",
     "output_type": "stream",
     "text": [
      "Traverse the said list in reverse order with original index:\n",
      "Element: black, Original Index: 3\n",
      "Element: white, Original Index: 2\n",
      "Element: green, Original Index: 1\n",
      "Element: red, Original Index: 0\n"
     ]
    }
   ],
   "source": [
    "def traverse_reverse_with_index(original_list):\n",
    "    for index in range(len(original_list) - 1, -1, -1):\n",
    "        print(f\"Element: {original_list[index]}, Original Index: {index}\")\n",
    "\n",
    "original_list = ['red', 'green', 'white', 'black']\n",
    "\n",
    "print(\"Traverse the said list in reverse order with original index:\")\n",
    "traverse_reverse_with_index(original_list)\n"
   ]
  },
  {
   "cell_type": "code",
   "execution_count": null,
   "id": "28f27aee-3def-4689-b17c-f844a183434a",
   "metadata": {},
   "outputs": [],
   "source": [
    "# Write a Python program and calculate the mean of the below dictionary.\n",
    "\n",
    "# test_dict = {\"A\" : 6, \"B\" : 9, \"C\" : 5, \"D\" : 7, \"E\" : 4}"
   ]
  },
  {
   "cell_type": "code",
   "execution_count": 11,
   "id": "302cc36a-2585-4d1d-a83c-7232c5bc11e0",
   "metadata": {},
   "outputs": [
    {
     "name": "stdout",
     "output_type": "stream",
     "text": [
      "The mean of the dictionary values is: 6.2\n"
     ]
    }
   ],
   "source": [
    "def calculate_mean(dictionary):\n",
    "    values = dictionary.values()\n",
    "    \n",
    "    total_sum = sum(values)\n",
    "    \n",
    "    num_values = len(values)\n",
    "    \n",
    "    mean = total_sum / num_values\n",
    "    \n",
    "    return mean\n",
    "\n",
    "test_dict = {\"A\": 6, \"B\": 9, \"C\": 5, \"D\": 7, \"E\": 4}\n",
    "\n",
    "mean_value = calculate_mean(test_dict)\n",
    "print(f\"The mean of the dictionary values is: {mean_value:.1f}\")\n"
   ]
  },
  {
   "cell_type": "code",
   "execution_count": null,
   "id": "f11d8e26-3779-45b1-97cc-77630b8fce95",
   "metadata": {},
   "outputs": [],
   "source": [
    "# Write a Python script to concatenate the following dictionaries to create a new one.\n",
    "# Sample Dictionary :\n",
    "# dic1={1:10, 2:20}\n",
    "# dic2={3:30, 4:40}\n",
    "# dic3={5:50,6:60}\n",
    "# Expected Result : {1: 10, 2: 20, 3: 30, 4: 40, 5: 50, 6: 60}"
   ]
  },
  {
   "cell_type": "code",
   "execution_count": 13,
   "id": "bad28d83-7af7-4fe0-802b-abd588818c3a",
   "metadata": {},
   "outputs": [
    {
     "name": "stdout",
     "output_type": "stream",
     "text": [
      "Concatenated Dictionary: {1: 10, 2: 20, 3: 30, 4: 40, 5: 50, 6: 60}\n"
     ]
    }
   ],
   "source": [
    "\n",
    "dic1 = {1: 10, 2: 20}\n",
    "dic2 = {3: 30, 4: 40}\n",
    "dic3 = {5: 50, 6: 60}\n",
    "\n",
    "result = {**dic1, **dic2, **dic3}\n",
    "\n",
    "print(\"Concatenated Dictionary:\", result)\n"
   ]
  },
  {
   "cell_type": "code",
   "execution_count": null,
   "id": "3dc6f55a-3cc0-4322-96e0-71f1441e7b29",
   "metadata": {},
   "outputs": [],
   "source": [
    "# Write a Python program to get the key, value and item in a dictionary.\n",
    "# input:dict_num = {1: 10, 2: 20, 3: 30, 4: 40, 5: 50, 6: 60}"
   ]
  },
  {
   "cell_type": "code",
   "execution_count": 15,
   "id": "e13d4118-dbbd-4629-a086-91c3d33440e8",
   "metadata": {},
   "outputs": [
    {
     "name": "stdout",
     "output_type": "stream",
     "text": [
      "Key\tValue\n",
      "1\t10\n",
      "2\t20\n",
      "3\t30\n",
      "4\t40\n",
      "5\t50\n",
      "6\t60\n"
     ]
    }
   ],
   "source": [
    "def print_dict_keys_values(dictionary):\n",
    "    print(\"Key\\tValue\")\n",
    "    \n",
    "    for key, value in dictionary.items():\n",
    "        print(f\"{key}\\t{value}\")\n",
    "dict_num = {1: 10, 2: 20, 3: 30, 4: 40, 5: 50, 6: 60}\n",
    "\n",
    "print_dict_keys_values(dict_num)\n"
   ]
  },
  {
   "cell_type": "code",
   "execution_count": null,
   "id": "11ba40dd-f325-496b-b0b8-5ff495bd3043",
   "metadata": {},
   "outputs": [],
   "source": [
    "# Write a Python program to get the key, value and item in a dictionary.\n",
    "# Input: input_dict = {1: 10, 2: 20, 3:None, 4: 40, 5: None, 6: 60}"
   ]
  },
  {
   "cell_type": "code",
   "execution_count": 19,
   "id": "f9ba8186-77df-46a0-b35f-6ed399e6983a",
   "metadata": {},
   "outputs": [
    {
     "name": "stdout",
     "output_type": "stream",
     "text": [
      "Key   Value Item\n",
      "--------------------\n",
      "1     10    1: 10\n",
      "2     20    2: 20\n",
      "3     None  3: None\n",
      "4     40    4: 40\n",
      "5     None  5: None\n",
      "6     60    6: 60\n"
     ]
    }
   ],
   "source": [
    "def print_dict_details(dictionary):\n",
    "    print(f\"{'Key':<5} {'Value':<5} {'Item'}\")\n",
    "    print('-' * 20)  # Separator line for better readability\n",
    "    \n",
    "    for key, value in dictionary.items():\n",
    "        value_str = 'None' if value is None else str(value)\n",
    "        item = f\"{key}: {value_str}\"\n",
    "        print(f\"{key:<5} {value_str:<5} {item}\")\n",
    "input_dict = {1: 10, 2: 20, 3: None, 4: 40, 5: None, 6: 60}\n",
    "print_dict_details(input_dict)\n"
   ]
  },
  {
   "cell_type": "code",
   "execution_count": null,
   "id": "3bdf0998-1ad8-4de3-b964-9068199e7314",
   "metadata": {},
   "outputs": [],
   "source": [
    "# Write a Python program to find the number of times 4 appears in the tuple.\n",
    "\n",
    "# Input:\n",
    "\n",
    "# # tuplex = (2, 4, 5, 6, 2, 3, 4, 4, 7 )"
   ]
  },
  {
   "cell_type": "code",
   "execution_count": 21,
   "id": "521afb6f-fdac-43a8-8f87-b93c96134fbb",
   "metadata": {},
   "outputs": [
    {
     "name": "stdout",
     "output_type": "stream",
     "text": [
      "The number 4 appears 3 times in the tuple.\n"
     ]
    }
   ],
   "source": [
    "def count_occurrences(tup, value):\n",
    "    return tup.count(value)\n",
    "\n",
    "tuplex = (2, 4, 5, 6, 2, 3, 4, 4, 7)\n",
    "\n",
    "value_to_find = 4\n",
    "\n",
    "count = count_occurrences(tuplex, value_to_find)\n",
    "\n",
    "print(f\"The number {value_to_find} appears {count} times in the tuple.\")\n"
   ]
  },
  {
   "cell_type": "code",
   "execution_count": null,
   "id": "c0ed5665-de87-4cb1-b3a8-f96f57ab6508",
   "metadata": {},
   "outputs": [],
   "source": [
    "# Write a Python program to convert a list to a tuple.\n",
    "\n",
    "# Input: listx = [5, 10, 7, 4, 15, 3]"
   ]
  },
  {
   "cell_type": "code",
   "execution_count": 23,
   "id": "2a8cf096-6b79-4ae8-ae1d-c34d9181b220",
   "metadata": {},
   "outputs": [
    {
     "name": "stdout",
     "output_type": "stream",
     "text": [
      "The converted tuple is: (5, 10, 7, 4, 15, 3)\n"
     ]
    }
   ],
   "source": [
    "def list_to_tuple(lst):\n",
    "    return tuple(lst)\n",
    "\n",
    "listx = [5, 10, 7, 4, 15, 3]\n",
    "\n",
    "tuplex = list_to_tuple(listx)\n",
    "\n",
    "print(\"The converted tuple is:\", tuplex)\n"
   ]
  },
  {
   "cell_type": "code",
   "execution_count": null,
   "id": "f7f5cf0f-a264-4425-9000-74755c95b1d6",
   "metadata": {},
   "outputs": [],
   "source": [
    "# Write a Python program to calculate the sum of the numbers in a given tuple.\n",
    "# Input: tuples_list = [(1, 2), (3, 4), (5, 6)]"
   ]
  },
  {
   "cell_type": "code",
   "execution_count": 25,
   "id": "887caae1-c6b3-4ea4-a61e-c07aef85e381",
   "metadata": {},
   "outputs": [
    {
     "name": "stdout",
     "output_type": "stream",
     "text": [
      "The sum of the numbers in the given tuples is: 21\n"
     ]
    }
   ],
   "source": [
    "def sum_of_tuple_elements(tuples_list):\n",
    "    total_sum = 0\n",
    "    for tup in tuples_list:\n",
    "        total_sum += sum(tup)\n",
    "    \n",
    "    return total_sum\n",
    "\n",
    "tuples_list = [(1, 2), (3, 4), (5, 6)]\n",
    "\n",
    "result = sum_of_tuple_elements(tuples_list)\n",
    "\n",
    "print(f\"The sum of the numbers in the given tuples is: {result}\")\n"
   ]
  },
  {
   "cell_type": "code",
   "execution_count": null,
   "id": "19efd3ad-89ee-4ce1-9663-e80ff6c09864",
   "metadata": {},
   "outputs": [],
   "source": [
    "# Write a python program and iterate the given tuples\n",
    "# Input:\n",
    "# employee1 = (\"John Doe\", 101, \"Human Resources\", 60000)\n",
    "# employee2 = (\"Alice Smith\", 102, \"Marketing\", 55000)\n",
    "# employee3 = (\"Bob Johnson\", 103, \"Engineering\", 75000)"
   ]
  },
  {
   "cell_type": "code",
   "execution_count": 27,
   "id": "212584e6-acde-4581-8dbd-24d162d78de7",
   "metadata": {},
   "outputs": [
    {
     "name": "stdout",
     "output_type": "stream",
     "text": [
      "Employee Records:\n",
      "\n",
      "Name        : John Doe\n",
      "Employee ID : 101\n",
      "Department  : Human Resources\n",
      "Salary      : 60000\n",
      "\n",
      "Name        : Alice Smith\n",
      "Employee ID : 102\n",
      "Department  : Marketing\n",
      "Salary      : 55000\n",
      "\n",
      "Name        : Bob Johnson\n",
      "Employee ID : 103\n",
      "Department  : Engineering\n",
      "Salary      : 75000\n",
      "\n"
     ]
    }
   ],
   "source": [
    "def print_employee_records(employee_list):\n",
    "    print(\"Employee Records:\\n\")\n",
    "    \n",
    "    for employee in employee_list:\n",
    "        name, emp_id, department, salary = employee\n",
    "        print(f\"Name        : {name}\")\n",
    "        print(f\"Employee ID : {emp_id}\")\n",
    "        print(f\"Department  : {department}\")\n",
    "        print(f\"Salary      : {salary}\")\n",
    "        print()  \n",
    "employee1 = (\"John Doe\", 101, \"Human Resources\", 60000)\n",
    "employee2 = (\"Alice Smith\", 102, \"Marketing\", 55000)\n",
    "employee3 = (\"Bob Johnson\", 103, \"Engineering\", 75000)\n",
    "\n",
    "employees = [employee1, employee2, employee3]\n",
    "\n",
    "print_employee_records(employees)\n"
   ]
  },
  {
   "cell_type": "code",
   "execution_count": null,
   "id": "7c031f25-e9e9-4261-a66d-38fc1a7003f4",
   "metadata": {},
   "outputs": [],
   "source": [
    "# Write a Python program to Get Only unique items from two sets.\n",
    "# Input:\n",
    "# set1 = {10, 20, 30, 40, 50}\n",
    "# set2 = {30, 40, 50, 60, 70}"
   ]
  },
  {
   "cell_type": "code",
   "execution_count": 31,
   "id": "c43072aa-0b4e-459f-84af-6b030b1df3e6",
   "metadata": {},
   "outputs": [
    {
     "name": "stdout",
     "output_type": "stream",
     "text": [
      "Unique items from both sets: [60, 70, 10, 20]\n"
     ]
    }
   ],
   "source": [
    "def unique_items_from_sets(set1, set2):\n",
    "    unique_items = set1.symmetric_difference(set2)\n",
    "    return sorted(unique_items, key=lambda x: (x in set1, x))\n",
    "\n",
    "set1 = {10, 20, 30, 40, 50}\n",
    "set2 = {30, 40, 50, 60, 70}\n",
    "\n",
    "unique_items = unique_items_from_sets(set1, set2)\n",
    "\n",
    "print(\"Unique items from both sets:\", unique_items)\n",
    "\n"
   ]
  },
  {
   "cell_type": "code",
   "execution_count": null,
   "id": "7e4627ec-812f-46c7-9f1d-315b960608d5",
   "metadata": {},
   "outputs": [],
   "source": [
    "# Write a Python program to Return a set of elements present in Set A or B, but not both.\n",
    "# Input:\n",
    "# set1 = {10, 20, 30, 40, 50}\n",
    "# set2 = {30, 40, 50, 60, 70}"
   ]
  },
  {
   "cell_type": "code",
   "execution_count": 34,
   "id": "55291905-ddd4-476c-8dcb-3c1365125cda",
   "metadata": {},
   "outputs": [
    {
     "name": "stdout",
     "output_type": "stream",
     "text": [
      "Elements present in Set A or B, but not both: {20, 70, 10, 60}\n"
     ]
    }
   ],
   "source": [
    "def symmetric_difference(set1, set2):\n",
    "    result = set1.symmetric_difference(set2)\n",
    "    return result\n",
    "    \n",
    "set1 = {10, 20, 30, 40, 50}\n",
    "set2 = {30, 40, 50, 60, 70}\n",
    "\n",
    "result_set = symmetric_difference(set1, set2)\n",
    "print(\"Elements present in Set A or B, but not both:\", result_set)\n"
   ]
  },
  {
   "cell_type": "code",
   "execution_count": null,
   "id": "4053232e-ea24-434f-a83a-5f40c466eaeb",
   "metadata": {},
   "outputs": [],
   "source": [
    "# Write a Python program to Check if two sets have any elements in common. If yes, display the common elements.\n",
    "# Input:\n",
    "# set1 = {10, 20, 30, 40, 50}\n",
    "# set2 = {60, 70, 80, 90, 10}"
   ]
  },
  {
   "cell_type": "code",
   "execution_count": 36,
   "id": "4498aa20-b299-4fbd-aaaf-fc1a54def2fa",
   "metadata": {},
   "outputs": [
    {
     "name": "stdout",
     "output_type": "stream",
     "text": [
      "Common elements: {10}\n"
     ]
    }
   ],
   "source": [
    "def common_elements(set1, set2):\n",
    "    common = set1.intersection(set2)\n",
    "    return common\n",
    "\n",
    "# Input sets\n",
    "set1 = {10, 20, 30, 40, 50}\n",
    "set2 = {60, 70, 80, 90, 10}\n",
    "common_set = common_elements(set1, set2)\n",
    "\n",
    "if common_set:\n",
    "    print(\"Common elements:\", common_set)\n",
    "else:\n",
    "    print(\"No common elements.\")\n"
   ]
  },
  {
   "cell_type": "code",
   "execution_count": null,
   "id": "0ab37c81-f6bf-4bbd-9870-9aa8b53aaa2d",
   "metadata": {},
   "outputs": [],
   "source": [
    "# Write a Python program to Remove items from set1 that are not common to both set1 and set2.\n",
    "# Input:\n",
    "# set1 = {10, 20, 30, 40, 50}\n",
    "# set2 = {30, 40, 50, 60, 70}"
   ]
  },
  {
   "cell_type": "code",
   "execution_count": 38,
   "id": "de530e4d-b696-4e92-bab8-4ce51f4d7e36",
   "metadata": {},
   "outputs": [
    {
     "name": "stdout",
     "output_type": "stream",
     "text": [
      "Updated set1 with only common elements: {40, 50, 30}\n"
     ]
    }
   ],
   "source": [
    "def retain_common_elements(set1, set2):\n",
    "    common_elements = set1.intersection(set2)\n",
    "    set1.intersection_update(set2)\n",
    "    return set1\n",
    "\n",
    "set1 = {10, 20, 30, 40, 50}\n",
    "set2 = {30, 40, 50, 60, 70}\n",
    "updated_set1 = retain_common_elements(set1, set2)\n",
    "\n",
    "print(\"Updated set1 with only common elements:\", updated_set1)\n"
   ]
  },
  {
   "cell_type": "code",
   "execution_count": null,
   "id": "d4aaa558-fbc0-426f-a304-a8bd4b098a32",
   "metadata": {},
   "outputs": [],
   "source": []
  }
 ],
 "metadata": {
  "kernelspec": {
   "display_name": "Python 3 (ipykernel)",
   "language": "python",
   "name": "python3"
  },
  "language_info": {
   "codemirror_mode": {
    "name": "ipython",
    "version": 3
   },
   "file_extension": ".py",
   "mimetype": "text/x-python",
   "name": "python",
   "nbconvert_exporter": "python",
   "pygments_lexer": "ipython3",
   "version": "3.12.4"
  }
 },
 "nbformat": 4,
 "nbformat_minor": 5
}
