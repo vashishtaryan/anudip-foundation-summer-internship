{
 "cells": [
  {
   "cell_type": "code",
   "execution_count": 25,
   "id": "2e2a837c-3122-444e-bb03-49f6519b5790",
   "metadata": {},
   "outputs": [
    {
     "name": "stdout",
     "output_type": "stream",
     "text": [
      "   studentID   Name  Age Grade      Major   GPA city\n",
      "0         99  Alice   19      c  History   2.98  TFB\n",
      "1        100    Bob   18      f   biology  3.56  WFJ\n",
      "2         99  Alice   19      c   History  2.98  TFB\n",
      "3        100    Bob   18      f   biology  3.56  WFJ\n",
      "4         99  Alice   19      c   History  2.98  TFB\n",
      "5        100    Bob   18      f   Biology  3.56  WFJ\n",
      "Data has been written toStudent_data.csv\n"
     ]
    }
   ],
   "source": [
    "import pandas as pd \n",
    "# Create a sample employee DataFrame\n",
    "data = { 'studentID': [99,100,99,100,99,100], 'Name': ['Alice', 'Bob','Alice', 'Bob','Alice', 'Bob' ],'Age': [19,18,19,18,19,18], 'Grade ': ['c','f','c','f','c','f'] ,'Major': ['History ','biology','History','biology','History','Biology'],'GPA':['2.98','3.56','2.98','3.56','2.98','3.56'],'city':['TFB','WFJ','TFB','WFJ','TFB','WFJ']}\n",
    "df = pd.DataFrame(data)\n",
    "print (df)\n",
    "csv_file_path='Student_data.csv'\n",
    "#WritetheDataFrametoaCSVfile\n",
    "df.to_csv(csv_file_path, index=False)\n",
    "#thiswillcreateanewfileinthecurrent folder \n",
    "print(f'Data has been written to{csv_file_path}')"
   ]
  },
  {
   "cell_type": "code",
   "execution_count": 27,
   "id": "40c10655-134b-4b2a-a22e-c17a1d3e57f1",
   "metadata": {},
   "outputs": [
    {
     "name": "stdout",
     "output_type": "stream",
     "text": [
      "Before Removing Number of duplicate rows: 2\n",
      "   Student ID   Name  Age Grade    Major   GPA City\n",
      "3         100    Bob   18     f  biology  3.56  WFJ\n",
      "4          99  Alice   19     c  History  2.98  TFB\n",
      "After Removing Number of duplicate rows: 0\n",
      "Empty DataFrame\n",
      "Columns: [Student ID, Name, Age, Grade, Major, GPA, City]\n",
      "Index: []\n"
     ]
    }
   ],
   "source": [
    "import pandas as pd\n",
    "#list the columns name\n",
    "column_names = ['Student ID','Name','Age','Grade','Major','GPA','City'] \n",
    "#read the data from the csv file \n",
    "data = pd.read_csv('Student_data.csv', names= column_names, header=0) \n",
    "#Find the duplicate values\n",
    "duplicate_rows = data.duplicated() \n",
    "#Printing the no of duplicate rows\n",
    "print(\"Before Removing Number of duplicate rows:\", duplicate_rows.sum())\n",
    "print(data[duplicate_rows]) \n",
    "#Removing duplicate values \n",
    "data.drop_duplicates(inplace=True) \n",
    "#Find the duplicate values\n",
    "duplicate_rows = data.duplicated() \n",
    "#Printing the no of duplicate rows \n",
    "print(\"After Removing Number of duplicate rows:\", duplicate_rows.sum())\n",
    "print(data[duplicate_rows]) \n",
    "data.to_csv('after_drop.csv',index=False)"
   ]
  },
  {
   "cell_type": "code",
   "execution_count": 35,
   "id": "9399077d-548d-479a-bbc8-40c1f7ea3b65",
   "metadata": {},
   "outputs": [
    {
     "name": "stdout",
     "output_type": "stream",
     "text": [
      " Mean of Age : 18.5\n",
      " Median of Age : 18.5\n",
      " Mode of Age : 18\n",
      " Standard deviation of Age : 0.55\n",
      " Maximum of Age : 19\n",
      " Minimum of Age : 18\n"
     ]
    }
   ],
   "source": [
    "import pandas as pd \n",
    "#ProvidethepathtoyourCSVfile\n",
    "csv_file_path='Student_data.csv'\n",
    "#ReplacewiththeactualpathtoyourCSVfile\n",
    "#Useread_csvtoreadthedatafromtheCSVfileintoaDataFrame \n",
    "df=pd.read_csv(csv_file_path) \n",
    "#CalculateMean \n",
    "mean=df['Age'].mean() \n",
    "#CalculateMedian \n",
    "median=df['Age'].median()\n",
    "#CalculateMode\n",
    "mode=df['Age'].mode().iloc[0]\n",
    "#Calculatestandarddeviation\n",
    "std=df['Age'].std()\n",
    "#CalculateMinimumvalues \n",
    "minimum=df['Age'].min()\n",
    "#CalculateMaximumvalues\n",
    "maximum=df.Age.max()\n",
    "print(f\" Mean of Age : {mean}\")\n",
    "print(f\" Median of Age : {median}\") \n",
    "print(f\" Mode of Age : {mode}\")\n",
    "print(f\" Standard deviation of Age : {std:.2f}\")\n",
    "print(f\" Maximum of Age : {maximum}\")\n",
    "print(f\" Minimum of Age : {minimum}\")"
   ]
  },
  {
   "cell_type": "code",
   "execution_count": 43,
   "id": "d06dda1e-c05a-4633-abca-496573695bbc",
   "metadata": {},
   "outputs": [
    {
     "name": "stdout",
     "output_type": "stream",
     "text": [
      "['Alice' 'Bob']\n"
     ]
    }
   ],
   "source": [
    "import pandas as pd\n",
    "# Provide the path to your CSV file \n",
    "csv_file_path = 'Student_data.csv' \n",
    "# Replace with the actual path to your CSV file \n",
    "# Use read_csv to read the data from the CSV file into a DataFrame \n",
    "df = pd.read_csv(csv_file_path) \n",
    "# Printing Unique values\n",
    "print(df['Name'].unique())"
   ]
  },
  {
   "cell_type": "code",
   "execution_count": 45,
   "id": "da3a6102-3522-45bc-ab2c-5fbc87674851",
   "metadata": {},
   "outputs": [
    {
     "name": "stdout",
     "output_type": "stream",
     "text": [
      "2\n"
     ]
    }
   ],
   "source": [
    "import pandas as pd\n",
    "# Provide the path to your CSV file \n",
    "csv_file_path = 'Student_data.csv' \n",
    "# Replace with the actual path to your CSV file \n",
    "# Use read_csv to read the data from the CSV file into a DataFrame \n",
    "df = pd.read_csv(csv_file_path) \n",
    "# Printing Unique values\n",
    "print(df['Name'].nunique())"
   ]
  },
  {
   "cell_type": "code",
   "execution_count": 51,
   "id": "ea55e041-590b-4a08-908c-6a6a62a004f3",
   "metadata": {},
   "outputs": [
    {
     "name": "stdout",
     "output_type": "stream",
     "text": [
      "Age\n",
      "19    3\n",
      "18    3\n",
      "Name: count, dtype: int64\n"
     ]
    }
   ],
   "source": [
    "import pandas as pd \n",
    "# Provide the path to your CSV file\n",
    "csv_file_path = 'Student_data.csv' \n",
    "# Replace with the actual path to your CSV file\n",
    "# Use read_csv to read the data from the CSV file into a DataFrame \n",
    "df = pd.read_csv(csv_file_path) \n",
    "# Counts of unique values\n",
    "print(df['Age'].value_counts())"
   ]
  },
  {
   "cell_type": "code",
   "execution_count": 111,
   "id": "035c711f-5079-48a2-b14e-4c2725d533da",
   "metadata": {},
   "outputs": [
    {
     "name": "stdout",
     "output_type": "stream",
     "text": [
      "   studentID Name  Age city\n",
      "1        100  Bob   18  WFJ\n",
      "3        100  Bob   18  WFJ\n",
      "5        100  Bob   18  WFJ\n"
     ]
    }
   ],
   "source": [
    "import pandas as pd \n",
    "# Provide the path to your CSV file\n",
    "csv_file_path = 'Student_data.csv'\n",
    "# Replace with the actual path to your CSV file\n",
    "col=['studentID','Name','Age','city'] \n",
    "# Use read_csv to read the data from the CSV file into a DataFrame\n",
    "df = pd.read_csv(csv_file_path,usecols=col)\n",
    "# Sort Values by State Names\n",
    "print(df.sort_values(by=['Age']).head(3))\n"
   ]
  },
  {
   "cell_type": "code",
   "execution_count": 115,
   "id": "decd6702-7031-491f-980b-92760c5c26ce",
   "metadata": {},
   "outputs": [
    {
     "name": "stdout",
     "output_type": "stream",
     "text": [
      "   studentID   Name  Age city\n",
      "0         99  Alice   19  TFB\n",
      "2         99  Alice   19  TFB\n",
      "4         99  Alice   19  TFB\n",
      "1        100    Bob   18  WFJ\n",
      "3        100    Bob   18  WFJ\n",
      "5        100    Bob   18  WFJ\n"
     ]
    }
   ],
   "source": [
    "import pandas as pd \n",
    "# Provide the path to your CSV file\n",
    "csv_file_path = 'Student_data.csv'\n",
    "# Replace with the actual path to your CSV file\n",
    "col=['studentID','Name','Age','city'] \n",
    "# Use read_csv to read the data from the CSV file into a DataFrame\n",
    "df = pd.read_csv(csv_file_path,usecols=col)\n",
    "# Sort Values by State Names\n",
    "print(df.sort_values(by=['Age'],ascending=False).head(6))\n"
   ]
  },
  {
   "cell_type": "code",
   "execution_count": 119,
   "id": "c300fe75-63ac-48b5-b89a-5446d80762e0",
   "metadata": {},
   "outputs": [
    {
     "name": "stdout",
     "output_type": "stream",
     "text": [
      "   studentID   Name  Age city\n",
      "1        100    Bob   18  WFJ\n",
      "3        100    Bob   18  WFJ\n",
      "5        100    Bob   18  WFJ\n",
      "0         99  Alice   19  TFB\n",
      "2         99  Alice   19  TFB\n",
      "4         99  Alice   19  TFB\n"
     ]
    }
   ],
   "source": [
    "import pandas as pd \n",
    "# Provide the path to your CSV file\n",
    "csv_file_path = 'Student_data.csv'\n",
    "# Replace with the actual path to your CSV file\n",
    "col=['studentID','Name','Age','city'] \n",
    "# Use read_csv to read the data from the CSV file into a DataFrame\n",
    "df = pd.read_csv(csv_file_path,usecols=col)\n",
    "# Sort Values by State Names\n",
    "print(df.sort_values(by=['Age']).tail(6))\n"
   ]
  },
  {
   "cell_type": "code",
   "execution_count": 127,
   "id": "3fe50ad3-4ae2-405a-b6ac-6c25df221eb7",
   "metadata": {},
   "outputs": [
    {
     "name": "stdout",
     "output_type": "stream",
     "text": [
      "   studentID   Name  Age\n",
      "1        100    Bob   18\n",
      "3        100    Bob   18\n",
      "5        100    Bob   18\n",
      "0         99  Alice   19\n"
     ]
    }
   ],
   "source": [
    "import pandas as pd\n",
    "#ProvidethepathtoyourCSVfile\n",
    "csv_file_path='Student_data.csv'\n",
    "#ReplacewiththeactualpathtoyourCSVfile\n",
    "col=['studentID','Name','Age'] \n",
    "#Useread_csvtoreadthedatafromtheCSVfileintoaDataFrame\n",
    "df=pd.read_csv(csv_file_path,usecols=col)\n",
    "#nlargest\n",
    "print(df.nlargest(4, 'studentID'))\n",
    "#firstargumentishowmanyrowsyouwant to displayandsecondoneiscolumnsname"
   ]
  },
  {
   "cell_type": "code",
   "execution_count": 131,
   "id": "058e2745-3d40-4559-99ef-3c1384bdfc23",
   "metadata": {},
   "outputs": [
    {
     "name": "stdout",
     "output_type": "stream",
     "text": [
      "   studentID   Name  Age\n",
      "0         99  Alice   19\n",
      "2         99  Alice   19\n",
      "4         99  Alice   19\n",
      "1        100    Bob   18\n"
     ]
    }
   ],
   "source": [
    "import pandas as pd\n",
    "#ProvidethepathtoyourCSVfile\n",
    "csv_file_path='Student_data.csv'\n",
    "#ReplacewiththeactualpathtoyourCSVfile\n",
    "col=['studentID','Name','Age'] \n",
    "#Useread_csvtoreadthedatafromtheCSVfileintoaDataFrame\n",
    "df=pd.read_csv(csv_file_path,usecols=col)\n",
    "#nlargest\n",
    "print(df.nsmallest(4, 'studentID'))\n",
    "#firstargumentishowmanyrowsyouwant to displayandsecondoneiscolumnsname"
   ]
  },
  {
   "cell_type": "code",
   "execution_count": 147,
   "id": "cb43bf7b-d7fa-44c0-a5eb-f0bace3c4733",
   "metadata": {},
   "outputs": [
    {
     "name": "stdout",
     "output_type": "stream",
     "text": [
      "   studentID   Name  Age\n",
      "0         99  Alice   19\n",
      "2         99  Alice   19\n",
      "4         99  Alice   19\n"
     ]
    }
   ],
   "source": [
    "csv_file_path='Student_data.csv'\n",
    "#ReplacewiththeactualpathtoyourCSVfile \n",
    "col=['studentID','Name','Age']\n",
    "#Useread_csvtoreadthedatafromtheCSVfileintoaDataFrame \n",
    "df=pd.read_csv(csv_file_path,usecols=col)\n",
    "#filtering-OnlyshowPaypalusers \n",
    "condition=df['Age']==19\n",
    "#displaytop4rows\n",
    "print(df[condition].head(4))"
   ]
  },
  {
   "cell_type": "code",
   "execution_count": 161,
   "id": "9c3350d6-65c7-4e54-9d92-8f4c0651ca60",
   "metadata": {},
   "outputs": [
    {
     "name": "stdout",
     "output_type": "stream",
     "text": [
      "Empty DataFrame\n",
      "Columns: [studentID, Name, Age]\n",
      "Index: []\n"
     ]
    }
   ],
   "source": [
    "csv_file_path='Student_data.csv'\n",
    "#ReplacewiththeactualpathtoyourCSVfile \n",
    "col=['studentID','Name','Age']\n",
    "#Useread_csvtoreadthedatafromtheCSVfileintoaDataFrame \n",
    "df=pd.read_csv(csv_file_path,usecols=col)\n",
    "#filtering-OnlyshowPaypalusers \n",
    "age=df['Age']==18\n",
    "id=df['studentID']==100\n",
    "name=df['Name']=='Bob'\n",
    "#displaytop4rows\n",
    "print(df[age & id & name].head(4))"
   ]
  },
  {
   "cell_type": "code",
   "execution_count": 171,
   "id": "932c9840-73c2-487e-9a15-8edb84d478a4",
   "metadata": {},
   "outputs": [
    {
     "name": "stdout",
     "output_type": "stream",
     "text": [
      "           Age\n",
      "studentID     \n",
      "99          57\n",
      "100         54\n"
     ]
    }
   ],
   "source": [
    "import pandas as pd \n",
    "# Provide the path to your CSV file \n",
    "csv_file_path = 'Student_data.csv'\n",
    "# Replace with the actual path to your CSV file \n",
    "# Use read_csv to read the data from the CSV file into a DataFrame\n",
    "df = pd.read_csv(csv_file_path) \n",
    "print(df[['Age']].groupby(df['studentID']).sum())"
   ]
  },
  {
   "cell_type": "code",
   "execution_count": null,
   "id": "f760bdcf-4520-4e41-bac4-a5ec614e2973",
   "metadata": {},
   "outputs": [],
   "source": []
  }
 ],
 "metadata": {
  "kernelspec": {
   "display_name": "Python 3 (ipykernel)",
   "language": "python",
   "name": "python3"
  },
  "language_info": {
   "codemirror_mode": {
    "name": "ipython",
    "version": 3
   },
   "file_extension": ".py",
   "mimetype": "text/x-python",
   "name": "python",
   "nbconvert_exporter": "python",
   "pygments_lexer": "ipython3",
   "version": "3.12.4"
  }
 },
 "nbformat": 4,
 "nbformat_minor": 5
}
