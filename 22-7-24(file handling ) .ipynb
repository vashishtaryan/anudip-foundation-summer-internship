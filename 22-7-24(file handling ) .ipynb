{
 "cells": [
  {
   "cell_type": "code",
   "execution_count": 1,
   "id": "e77d6fb6-9b04-4dcb-8305-bb0d99d1e703",
   "metadata": {},
   "outputs": [
    {
     "ename": "FileNotFoundError",
     "evalue": "[Errno 2] No such file or directory: 'anudip.txt'",
     "output_type": "error",
     "traceback": [
      "\u001b[1;31m---------------------------------------------------------------------------\u001b[0m",
      "\u001b[1;31mFileNotFoundError\u001b[0m                         Traceback (most recent call last)",
      "Cell \u001b[1;32mIn[1], line 1\u001b[0m\n\u001b[1;32m----> 1\u001b[0m file\u001b[38;5;241m=\u001b[39m\u001b[38;5;28mopen\u001b[39m(\u001b[38;5;124m\"\u001b[39m\u001b[38;5;124manudip.txt\u001b[39m\u001b[38;5;124m\"\u001b[39m)\n",
      "File \u001b[1;32m~\\anaconda3\\Lib\\site-packages\\IPython\\core\\interactiveshell.py:324\u001b[0m, in \u001b[0;36m_modified_open\u001b[1;34m(file, *args, **kwargs)\u001b[0m\n\u001b[0;32m    317\u001b[0m \u001b[38;5;28;01mif\u001b[39;00m file \u001b[38;5;129;01min\u001b[39;00m {\u001b[38;5;241m0\u001b[39m, \u001b[38;5;241m1\u001b[39m, \u001b[38;5;241m2\u001b[39m}:\n\u001b[0;32m    318\u001b[0m     \u001b[38;5;28;01mraise\u001b[39;00m \u001b[38;5;167;01mValueError\u001b[39;00m(\n\u001b[0;32m    319\u001b[0m         \u001b[38;5;124mf\u001b[39m\u001b[38;5;124m\"\u001b[39m\u001b[38;5;124mIPython won\u001b[39m\u001b[38;5;124m'\u001b[39m\u001b[38;5;124mt let you open fd=\u001b[39m\u001b[38;5;132;01m{\u001b[39;00mfile\u001b[38;5;132;01m}\u001b[39;00m\u001b[38;5;124m by default \u001b[39m\u001b[38;5;124m\"\u001b[39m\n\u001b[0;32m    320\u001b[0m         \u001b[38;5;124m\"\u001b[39m\u001b[38;5;124mas it is likely to crash IPython. If you know what you are doing, \u001b[39m\u001b[38;5;124m\"\u001b[39m\n\u001b[0;32m    321\u001b[0m         \u001b[38;5;124m\"\u001b[39m\u001b[38;5;124myou can use builtins\u001b[39m\u001b[38;5;124m'\u001b[39m\u001b[38;5;124m open.\u001b[39m\u001b[38;5;124m\"\u001b[39m\n\u001b[0;32m    322\u001b[0m     )\n\u001b[1;32m--> 324\u001b[0m \u001b[38;5;28;01mreturn\u001b[39;00m io_open(file, \u001b[38;5;241m*\u001b[39margs, \u001b[38;5;241m*\u001b[39m\u001b[38;5;241m*\u001b[39mkwargs)\n",
      "\u001b[1;31mFileNotFoundError\u001b[0m: [Errno 2] No such file or directory: 'anudip.txt'"
     ]
    }
   ],
   "source": [
    "#text file \n",
    "file=open(\"anudip.txt\")"
   ]
  },
  {
   "cell_type": "code",
   "execution_count": 3,
   "id": "23057736-8a60-43a8-93fd-725a5a878072",
   "metadata": {},
   "outputs": [],
   "source": [
    "#file=open(\"anudip.txt\",'w')"
   ]
  },
  {
   "cell_type": "code",
   "execution_count": 11,
   "id": "fcde7f2e-18c0-469c-aa22-f985646bf6f9",
   "metadata": {},
   "outputs": [],
   "source": [
    "file=open(\"anudip.txt\",'w')"
   ]
  },
  {
   "cell_type": "code",
   "execution_count": 13,
   "id": "588af31a-7489-4b1c-95a1-e9e5c75b8f55",
   "metadata": {},
   "outputs": [
    {
     "name": "stdout",
     "output_type": "stream",
     "text": [
      "data inserted succesfuly \n"
     ]
    }
   ],
   "source": [
    "file.write(\"welcome to anudip class \")\n",
    "file.close()\n",
    "print(\"data inserted succesfuly \")"
   ]
  },
  {
   "cell_type": "code",
   "execution_count": 15,
   "id": "9259480b-480c-4efd-9208-5ffba7831480",
   "metadata": {},
   "outputs": [
    {
     "name": "stdout",
     "output_type": "stream",
     "text": [
      "welco\n"
     ]
    }
   ],
   "source": [
    "file=open(\"anudip.txt\",'r')\n",
    "data=file.read(5)\n",
    "print(data)\n",
    "file.close()"
   ]
  },
  {
   "cell_type": "code",
   "execution_count": 21,
   "id": "5d54420a-2c7d-49af-89cb-493e1ae6ea59",
   "metadata": {},
   "outputs": [
    {
     "name": "stdout",
     "output_type": "stream",
     "text": [
      "0\n",
      "welco\n",
      "5\n"
     ]
    }
   ],
   "source": [
    "file=open(\"anudip.txt\",'r')\n",
    "print(file.tell())\n",
    "data=file.read(5)\n",
    "print(data)\n",
    "print(file.tell())\n",
    "file.close()"
   ]
  },
  {
   "cell_type": "code",
   "execution_count": 23,
   "id": "7f6eff7e-141b-484b-a239-ad447b64964f",
   "metadata": {},
   "outputs": [
    {
     "name": "stdout",
     "output_type": "stream",
     "text": [
      "0\n",
      "nudip\n",
      "17\n"
     ]
    }
   ],
   "source": [
    "file=open(\"anudip.txt\",'r')\n",
    "print(file.tell())\n",
    "file.seek(12)\n",
    "data=file.read(5)\n",
    "print(data)\n",
    "print(file.tell())\n",
    "file.close()"
   ]
  },
  {
   "cell_type": "code",
   "execution_count": 56,
   "id": "177f44bf-fc80-4c80-8100-ff8ba889c2ab",
   "metadata": {},
   "outputs": [],
   "source": [
    "# binary file "
   ]
  },
  {
   "cell_type": "code",
   "execution_count": 58,
   "id": "b6839aa4-3ec7-40d7-86ca-3f949bcc6856",
   "metadata": {},
   "outputs": [],
   "source": [
    "#it stores data structure \n",
    "# pickle module is used to r/w from binary file \n",
    "# stores data in same format in the memory \n",
    "# binary files are faster to read/write data than text file. it is not readable by user \n",
    "\n",
    "# here are 2 function  \n",
    "# pickle.dump(file handle , data ):- writes data structure into the file \n",
    "# pickle .load(file handle ):- reads data structure from the file \n"
   ]
  },
  {
   "cell_type": "code",
   "execution_count": 68,
   "id": "2de0c17b-716c-4ee5-b343-48a45c1b06df",
   "metadata": {},
   "outputs": [],
   "source": [
    "import pickle \n",
    "f=open(\"rahul.dat\",'wb')\n",
    "li=[1,2,3,4,5]\n",
    "pickle.dump(li,f)\n",
    "f.close()"
   ]
  },
  {
   "cell_type": "code",
   "execution_count": 70,
   "id": "f602cb0a-3930-4bae-8eb5-1a6e3609f70a",
   "metadata": {},
   "outputs": [],
   "source": [
    "# csv file "
   ]
  },
  {
   "cell_type": "code",
   "execution_count": 72,
   "id": "f8edb0de-ee09-41a7-b1b0-591d1ab36c1b",
   "metadata": {},
   "outputs": [],
   "source": [
    "# comma separated value file \n",
    "# each value in a line is separated by delimiter (',')\n",
    "# csv is used to store tabular data, such as a spreadsheet or database\n",
    "# csv file uses comma as delimiter but python can r/w file with any types of delimiter \n",
    "# csv file can be imported to and exported from program that store data in tables , eg - ms excel "
   ]
  },
  {
   "cell_type": "code",
   "execution_count": 74,
   "id": "3b155d7a-17c4-44ac-9483-01e60bdaf026",
   "metadata": {},
   "outputs": [],
   "source": [
    "import csv \n",
    "f=open(\"varsha.csv\",'a',newline=\"\")\n",
    "wo=csv.writer(f)\n",
    "data=[[\"a\",\"b\",\"c\",\"d\"],[12,34,56,78,45],[34,29,74,37]]\n",
    "wo.writerow(data)\n",
    "f.close()"
   ]
  },
  {
   "cell_type": "code",
   "execution_count": 76,
   "id": "f51c528b-f27e-4366-b315-81bc58fd2d8f",
   "metadata": {},
   "outputs": [
    {
     "name": "stdout",
     "output_type": "stream",
     "text": [
      "[\"['a', 'b', 'c', 'd']\", '[12, 34, 56, 78, 45]', '[34, 29, 74, 37]']\n"
     ]
    }
   ],
   "source": [
    "import csv \n",
    "f=open(\"varsha.csv\",'r')\n",
    "re=csv.reader(f)\n",
    "li=list(re)\n",
    "for row in li :\n",
    "    print(row)"
   ]
  },
  {
   "cell_type": "code",
   "execution_count": null,
   "id": "6f767101-a25a-463b-b67b-5fca65e9f1a9",
   "metadata": {},
   "outputs": [],
   "source": []
  }
 ],
 "metadata": {
  "kernelspec": {
   "display_name": "Python 3 (ipykernel)",
   "language": "python",
   "name": "python3"
  },
  "language_info": {
   "codemirror_mode": {
    "name": "ipython",
    "version": 3
   },
   "file_extension": ".py",
   "mimetype": "text/x-python",
   "name": "python",
   "nbconvert_exporter": "python",
   "pygments_lexer": "ipython3",
   "version": "3.12.4"
  }
 },
 "nbformat": 4,
 "nbformat_minor": 5
}
