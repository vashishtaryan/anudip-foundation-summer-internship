{
 "cells": [
  {
   "cell_type": "code",
   "execution_count": null,
   "id": "c8e8490e-a4e6-43db-b38d-3e0b74669a11",
   "metadata": {},
   "outputs": [],
   "source": [
    "#Raising exceptions\n",
    "#an exception acn be raised forcefully by using the raise clause in python.\n",
    "#it is useful in that scenario where we need to raise an exception to stop the xecution of the program \n",
    "\n"
   ]
  },
  {
   "cell_type": "code",
   "execution_count": 1,
   "id": "525105da-3138-4937-acba-86651aac928f",
   "metadata": {},
   "outputs": [
    {
     "ename": "ValueError",
     "evalue": "",
     "output_type": "error",
     "traceback": [
      "\u001b[1;31m---------------------------------------------------------------------------\u001b[0m",
      "\u001b[1;31mValueError\u001b[0m                                Traceback (most recent call last)",
      "Cell \u001b[1;32mIn[1], line 7\u001b[0m\n\u001b[0;32m      4\u001b[0m     \u001b[38;5;28;01melse\u001b[39;00m:\n\u001b[0;32m      5\u001b[0m         \u001b[38;5;28;01mraise\u001b[39;00m \u001b[38;5;167;01mValueError\u001b[39;00m\n\u001b[1;32m----> 7\u001b[0m ageCheck(\u001b[38;5;241m15\u001b[39m)\n",
      "Cell \u001b[1;32mIn[1], line 5\u001b[0m, in \u001b[0;36mageCheck\u001b[1;34m(age)\u001b[0m\n\u001b[0;32m      3\u001b[0m     \u001b[38;5;28mprint\u001b[39m(\u001b[38;5;124m\"\u001b[39m\u001b[38;5;124myou can vote\u001b[39m\u001b[38;5;124m\"\u001b[39m)\n\u001b[0;32m      4\u001b[0m \u001b[38;5;28;01melse\u001b[39;00m:\n\u001b[1;32m----> 5\u001b[0m     \u001b[38;5;28;01mraise\u001b[39;00m \u001b[38;5;167;01mValueError\u001b[39;00m\n",
      "\u001b[1;31mValueError\u001b[0m: "
     ]
    }
   ],
   "source": [
    "def ageCheck(age):\n",
    "    if age>=18:\n",
    "        print(\"you can vote\")\n",
    "    else:\n",
    "        raise ValueError\n",
    "\n",
    "ageCheck(15)\n"
   ]
  },
  {
   "cell_type": "code",
   "execution_count": 3,
   "id": "06dafdf9-1dc5-4cd3-aca3-331d0c834948",
   "metadata": {},
   "outputs": [
    {
     "ename": "ValueError",
     "evalue": "wait some year",
     "output_type": "error",
     "traceback": [
      "\u001b[1;31m---------------------------------------------------------------------------\u001b[0m",
      "\u001b[1;31mValueError\u001b[0m                                Traceback (most recent call last)",
      "Cell \u001b[1;32mIn[3], line 7\u001b[0m\n\u001b[0;32m      4\u001b[0m     \u001b[38;5;28;01melse\u001b[39;00m:\n\u001b[0;32m      5\u001b[0m         \u001b[38;5;28;01mraise\u001b[39;00m \u001b[38;5;167;01mValueError\u001b[39;00m(\u001b[38;5;124m\"\u001b[39m\u001b[38;5;124mwait some year\u001b[39m\u001b[38;5;124m\"\u001b[39m)\n\u001b[1;32m----> 7\u001b[0m ageCheck(\u001b[38;5;241m15\u001b[39m)\n",
      "Cell \u001b[1;32mIn[3], line 5\u001b[0m, in \u001b[0;36mageCheck\u001b[1;34m(age)\u001b[0m\n\u001b[0;32m      3\u001b[0m     \u001b[38;5;28mprint\u001b[39m(\u001b[38;5;124m\"\u001b[39m\u001b[38;5;124myou can vote\u001b[39m\u001b[38;5;124m\"\u001b[39m)\n\u001b[0;32m      4\u001b[0m \u001b[38;5;28;01melse\u001b[39;00m:\n\u001b[1;32m----> 5\u001b[0m     \u001b[38;5;28;01mraise\u001b[39;00m \u001b[38;5;167;01mValueError\u001b[39;00m(\u001b[38;5;124m\"\u001b[39m\u001b[38;5;124mwait some year\u001b[39m\u001b[38;5;124m\"\u001b[39m)\n",
      "\u001b[1;31mValueError\u001b[0m: wait some year"
     ]
    }
   ],
   "source": [
    "def ageCheck(age):\n",
    "    if age>=18:\n",
    "        print(\"you can vote\")\n",
    "    else:\n",
    "        raise ValueError(\"wait some year\")\n",
    "\n",
    "ageCheck(15)"
   ]
  },
  {
   "cell_type": "code",
   "execution_count": 5,
   "id": "7ad45130-0dde-4cde-a045-419409be79b1",
   "metadata": {},
   "outputs": [
    {
     "name": "stdout",
     "output_type": "stream",
     "text": [
      "you cant vote\n"
     ]
    }
   ],
   "source": [
    "def ageCheck(age):\n",
    "    if age>=18:\n",
    "        print(\"you can vote\")\n",
    "    else:\n",
    "        raise ValueError(\"you cant vote\")\n",
    "try:\n",
    "    ageCheck(15)\n",
    "except ValueError as e:\n",
    "    print(e)\n"
   ]
  },
  {
   "cell_type": "code",
   "execution_count": null,
   "id": "cfd39db3-3cc4-4cea-bfb2-e20fcbbf7aba",
   "metadata": {},
   "outputs": [],
   "source": [
    "#numpy\n"
   ]
  },
  {
   "cell_type": "code",
   "execution_count": 9,
   "id": "67343a7a-aa6d-45db-bae8-b2f9786522fe",
   "metadata": {},
   "outputs": [
    {
     "data": {
      "text/plain": [
       "array([10, 30, 25, 43, 21])"
      ]
     },
     "execution_count": 9,
     "metadata": {},
     "output_type": "execute_result"
    }
   ],
   "source": [
    "import numpy as np\n",
    "l= [10,30,25,43,21]\n",
    "np.array(l)"
   ]
  },
  {
   "cell_type": "code",
   "execution_count": 19,
   "id": "1400821f-d2b2-41ac-a503-7fe4af18fe34",
   "metadata": {},
   "outputs": [
    {
     "name": "stdout",
     "output_type": "stream",
     "text": [
      "a array 42\n",
      "b array [1 2 3 4 5]\n",
      "c array  [[1 2 3]\n",
      " [4 5 6]]\n",
      "d array [[[1 2 3]\n",
      "  [4 5 6]]\n",
      "\n",
      " [[1 2 3]\n",
      "  [4 5 6]]]\n"
     ]
    }
   ],
   "source": [
    "a = np.array (42)\n",
    "b = np.array ([1, 2, 3, 4, 5])\n",
    "c = np.array ([[1, 2, 3], [4, 5, 6]])\n",
    "d = np.array ([[[1, 2, 3], [4, 5, 6]], [[1, 2, 3], [4, 5, 6]]])\n",
    "print (\"a array\", a)\n",
    "print (\"b array\", b)\n",
    "print (\"c array \", c)\n",
    "print(\"d array\",d)"
   ]
  },
  {
   "cell_type": "code",
   "execution_count": 25,
   "id": "dfa1b090-0912-4c5d-b2e6-865a7ad4058f",
   "metadata": {},
   "outputs": [
    {
     "name": "stdout",
     "output_type": "stream",
     "text": [
      "a array 42\n",
      "b array [1 2 3 4 5]\n",
      "c array  [[1 2 3]\n",
      " [4 5 6]]\n",
      "d array [[[1 2 3]\n",
      "  [4 5 6]]\n",
      "\n",
      " [[1 2 3]\n",
      "  [4 5 6]]]\n",
      "a array dimen  0\n",
      "b array dimen 1\n",
      "c array dimen 2\n",
      "d array dimen 3\n"
     ]
    }
   ],
   "source": [
    "a = np.array (42)\n",
    "b = np.array ([1, 2, 3, 4, 5])\n",
    "c = np.array ([[1, 2, 3], [4, 5, 6]])\n",
    "d = np.array ([[[1, 2, 3], [4, 5, 6]], [[1, 2, 3], [4, 5, 6]]])\n",
    "print (\"a array\", a)\n",
    "print (\"b array\", b)\n",
    "print (\"c array \", c)\n",
    "print(\"d array\",d)\n",
    "print (\"a array dimen \",a.ndim)\n",
    "print (\"b array dimen\",b.ndim)\n",
    "print (\"c array dimen\",c.ndim)\n",
    "print(\"d array dimen\",d.ndim)"
   ]
  },
  {
   "cell_type": "code",
   "execution_count": null,
   "id": "ffb87833-1c38-4f74-8952-204e1298246e",
   "metadata": {},
   "outputs": [],
   "source": [
    "#shape\n",
    "#1d array: vector\n",
    "#2d array:metrix\n",
    "#3d array:tensor"
   ]
  },
  {
   "cell_type": "code",
   "execution_count": 50,
   "id": "32ad1436-af4b-414c-8c50-3b87767405fc",
   "metadata": {},
   "outputs": [
    {
     "name": "stdout",
     "output_type": "stream",
     "text": [
      "arr array shape (7,)\n",
      "arr array shape (2, 3)\n"
     ]
    }
   ],
   "source": [
    "arr= np.array([1,2,3,4,5,6,7])\n",
    "print(\"arr array shape\",arr.shape)\n",
    "arr=np.array ([[1, 2, 3], [4, 5, 6]])\n",
    "print(\"arr array shape\",arr.shape)"
   ]
  },
  {
   "cell_type": "code",
   "execution_count": null,
   "id": "4ebbcd66-180e-4ed8-99ca-99f347facadb",
   "metadata": {},
   "outputs": [],
   "source": [
    "#slicing\n",
    "#aceesing subset of sequences"
   ]
  },
  {
   "cell_type": "code",
   "execution_count": 31,
   "id": "0e11de57-2d53-4a7b-9b7f-dd8e2ad7b1e8",
   "metadata": {},
   "outputs": [
    {
     "name": "stdout",
     "output_type": "stream",
     "text": [
      "[2 4]\n"
     ]
    }
   ],
   "source": [
    "arr= np.array([1,2,3,4,5,6,7])\n",
    "print(arr[1:5:2])"
   ]
  },
  {
   "cell_type": "code",
   "execution_count": 44,
   "id": "340112b3-ed70-4209-9383-6886179ce791",
   "metadata": {},
   "outputs": [
    {
     "name": "stdout",
     "output_type": "stream",
     "text": [
      "[2 4]\n",
      "[1 2 3 4 5 6 7]\n",
      "[2 3 4 5]\n",
      "[  1   2   3 100   5   6   7]\n",
      "[  2   3 100   5]\n"
     ]
    }
   ],
   "source": [
    "arr= np.array([1,2,3,4,5,6,7])\n",
    "print(arr[1:5:2])\n",
    "sarr=arr[1:5]\n",
    "print(arr)\n",
    "print(sarr)\n",
    "sarr[2]=100\n",
    "print(arr)\n",
    "print(sarr)\n",
    "\n"
   ]
  },
  {
   "cell_type": "code",
   "execution_count": null,
   "id": "4a9a555d-1e1d-470a-8b2c-3c5b445f4e42",
   "metadata": {},
   "outputs": [],
   "source": [
    "#copy\n",
    "#no changes in original array"
   ]
  },
  {
   "cell_type": "code",
   "execution_count": 56,
   "id": "9c71ec38-945d-44f3-aecb-9058abc1f94e",
   "metadata": {},
   "outputs": [
    {
     "name": "stdout",
     "output_type": "stream",
     "text": [
      "[42  2  3  4  5]\n",
      "[1 2 3 4 5]\n"
     ]
    }
   ],
   "source": [
    "arr = np.array ([1, 2, 3, 4, 5])\n",
    "arr2= arr. copy ()\n",
    "arr[0]= 42\n",
    "print(arr)\n",
    "print(arr2)"
   ]
  },
  {
   "cell_type": "code",
   "execution_count": null,
   "id": "3d319faa-ee69-418d-9df2-c4c0f64b4e74",
   "metadata": {},
   "outputs": [],
   "source": [
    "#view\n",
    "#change in original array too"
   ]
  },
  {
   "cell_type": "code",
   "execution_count": 58,
   "id": "f77f2160-6332-4282-9148-1bc2bced8fd4",
   "metadata": {},
   "outputs": [
    {
     "name": "stdout",
     "output_type": "stream",
     "text": [
      "[42  2  3  4  5]\n",
      "[42  2  3  4  5]\n"
     ]
    }
   ],
   "source": [
    "arr = np.array ([1, 2, 3, 4, 5])\n",
    "arr2= arr. view ()\n",
    "arr[0]= 42\n",
    "print(arr)\n",
    "print(arr2)"
   ]
  },
  {
   "cell_type": "code",
   "execution_count": null,
   "id": "0f4c35e1-ecab-48b0-a1f6-890a2722d057",
   "metadata": {},
   "outputs": [],
   "source": [
    "#numpy zeros() in Python\n",
    "#The numpy.zeros) function is one of the most significant functions which is used in machine learning programs widely. This function is used to generate an array containing zeros.\n",
    "#The numpy.zeros() function provide a new array of given shape and type, which is filled with zeros. numpy. zeros () without dtype and order import numpy as np a=np. zeros (6)\n",
    "#2: numpy.zeros() without order import numpy as np a=np. zeros ((6, ), dtype=int)\n",
    "#3: numpy.zeros() with shape import numpy as np a=np. zeros ( (6,2))\n",
    "#4: numpy.zeros with the shape"
   ]
  },
  {
   "cell_type": "code",
   "execution_count": 60,
   "id": "8cb205af-e50b-4c60-82ea-e8fd01380d1e",
   "metadata": {},
   "outputs": [
    {
     "data": {
      "text/plain": [
       "array([[0., 0.],\n",
       "       [0., 0.],\n",
       "       [0., 0.],\n",
       "       [0., 0.],\n",
       "       [0., 0.]])"
      ]
     },
     "execution_count": 60,
     "metadata": {},
     "output_type": "execute_result"
    }
   ],
   "source": [
    "a=np.zeros((5,2))\n",
    "a"
   ]
  },
  {
   "cell_type": "code",
   "execution_count": null,
   "id": "4f25a51a-8dde-451d-924c-181b1166c799",
   "metadata": {},
   "outputs": [],
   "source": [
    "#numpy ones() in python"
   ]
  },
  {
   "cell_type": "code",
   "execution_count": 72,
   "id": "0585294f-426a-4e8b-bbf2-901b2a33fdd8",
   "metadata": {},
   "outputs": [
    {
     "data": {
      "text/plain": [
       "array([[1., 1.],\n",
       "       [1., 1.],\n",
       "       [1., 1.],\n",
       "       [1., 1.],\n",
       "       [1., 1.]])"
      ]
     },
     "execution_count": 72,
     "metadata": {},
     "output_type": "execute_result"
    }
   ],
   "source": [
    "a=np.ones((5,2))\n",
    "a"
   ]
  },
  {
   "cell_type": "code",
   "execution_count": 79,
   "id": "b317aba8-3c12-483e-83c4-80e03b11c263",
   "metadata": {},
   "outputs": [
    {
     "data": {
      "text/plain": [
       "array([[10., 10.],\n",
       "       [10., 10.],\n",
       "       [10., 10.],\n",
       "       [10., 10.],\n",
       "       [10., 10.]])"
      ]
     },
     "execution_count": 79,
     "metadata": {},
     "output_type": "execute_result"
    }
   ],
   "source": [
    "a=np.ones((5,2))*10\n",
    "a"
   ]
  },
  {
   "cell_type": "code",
   "execution_count": 81,
   "id": "75269d4e-6ede-4c7b-89da-863973f3184a",
   "metadata": {},
   "outputs": [
    {
     "data": {
      "text/plain": [
       "array([1, 1, 1, 1, 1])"
      ]
     },
     "execution_count": 81,
     "metadata": {},
     "output_type": "execute_result"
    }
   ],
   "source": [
    "a=np.ones(5,dtype=int)\n",
    "a"
   ]
  },
  {
   "cell_type": "code",
   "execution_count": null,
   "id": "06d9032d-6215-4831-be44-8f577ff01043",
   "metadata": {},
   "outputs": [],
   "source": [
    "#The eye tool returns a 2-D array with 1's as the diagonal and0's elsewhere. \n",
    "#The diagonal can be main,upper, or lower depending on the optional parameter k. A positive k is for the upper diagonal, a negative k is for the lower, and a 0 k (default) is for the main diagonal."
   ]
  },
  {
   "cell_type": "code",
   "execution_count": 101,
   "id": "1e10b8c7-dafc-400e-b989-075f692f4583",
   "metadata": {},
   "outputs": [
    {
     "name": "stdout",
     "output_type": "stream",
     "text": [
      "[[1. 0. 0.]\n",
      " [0. 1. 0.]\n",
      " [0. 0. 1.]]\n",
      "[[1. 0. 0. 0.]\n",
      " [0. 1. 0. 0.]\n",
      " [0. 0. 1. 0.]]\n"
     ]
    }
   ],
   "source": [
    "arr4=np.eye(3)\n",
    "print(arr4)\n",
    "\n",
    "arr4=np.eye(3,4)\n",
    "print(arr4)"
   ]
  },
  {
   "cell_type": "code",
   "execution_count": 109,
   "id": "a4559aab-a2e9-4e7a-b44e-c032201d2382",
   "metadata": {},
   "outputs": [
    {
     "name": "stdout",
     "output_type": "stream",
     "text": [
      "[[1. 0. 0.]\n",
      " [0. 1. 0.]\n",
      " [0. 0. 1.]]\n",
      "[[1. 0. 0. 0.]\n",
      " [0. 1. 0. 0.]\n",
      " [0. 0. 1. 0.]]\n",
      "[[3 0 0 0]\n",
      " [0 4 0 0]\n",
      " [0 0 1 0]\n",
      " [0 0 0 6]]\n",
      "2\n"
     ]
    }
   ],
   "source": [
    "arr4=np. eye (3)\n",
    "print(arr4)\n",
    "arr4=np.eye (3,4)\n",
    "print(arr4)\n",
    "arr5=np. diag( (3,4,1,6))\n",
    "print(arr5)\n",
    "print(arr5.ndim)"
   ]
  },
  {
   "cell_type": "code",
   "execution_count": null,
   "id": "a40690e2-2344-4fa0-ae42-a765cb94cffd",
   "metadata": {},
   "outputs": [],
   "source": []
  }
 ],
 "metadata": {
  "kernelspec": {
   "display_name": "Python 3 (ipykernel)",
   "language": "python",
   "name": "python3"
  },
  "language_info": {
   "codemirror_mode": {
    "name": "ipython",
    "version": 3
   },
   "file_extension": ".py",
   "mimetype": "text/x-python",
   "name": "python",
   "nbconvert_exporter": "python",
   "pygments_lexer": "ipython3",
   "version": "3.12.4"
  }
 },
 "nbformat": 4,
 "nbformat_minor": 5
}
