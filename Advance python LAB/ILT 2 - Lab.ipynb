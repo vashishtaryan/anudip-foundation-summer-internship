{
 "cells": [
  {
   "cell_type": "code",
   "execution_count": null,
   "id": "6a517978-23c5-410f-8138-157831fa239a",
   "metadata": {},
   "outputs": [],
   "source": [
    "# Suppose you have a dataset containing daily temperature readings for a city, and you want to identify days with extreme temperature conditions. Find days where the temperature either exceeded 35 degrees Celsius (hot day) or dropped below 5 degrees Celsius (cold day).\n",
    "# Input:\n",
    "# temperatures = np.array([32.5, 34.2, 36.8, 29.3, 31.0, 38.7, 23.1, 18.5, 22.8, 37.2])"
   ]
  },
  {
   "cell_type": "code",
   "execution_count": 1,
   "id": "4b866906-eea2-4682-9a92-23a68ba57faf",
   "metadata": {},
   "outputs": [
    {
     "name": "stdout",
     "output_type": "stream",
     "text": [
      "Temperatures: [32.5 34.2 36.8 29.3 31.  38.7 23.1 18.5 22.8 37.2]\n",
      "Hot days (temperature > 35°C):\n",
      "[36.8 38.7 37.2]\n",
      "Indices of hot days: [2 5 9]\n",
      "Cold days (temperature < 5°C):\n",
      "[]\n",
      "Indices of cold days: []\n"
     ]
    }
   ],
   "source": [
    "import numpy as np\n",
    "\n",
    "temperatures = np.array([32.5, 34.2, 36.8, 29.3, 31.0, 38.7, 23.1, 18.5, 22.8, 37.2])\n",
    "hot_days = temperatures > 35\n",
    "cold_days = temperatures < 5\n",
    "hot_days_indices = np.where(hot_days)[0]\n",
    "cold_days_indices = np.where(cold_days)[0]\n",
    "print(\"Temperatures:\", temperatures)\n",
    "print(\"Hot days (temperature > 35°C):\")\n",
    "print(temperatures[hot_days])\n",
    "print(\"Indices of hot days:\", hot_days_indices)\n",
    "print(\"Cold days (temperature < 5°C):\")\n",
    "print(temperatures[cold_days])\n",
    "print(\"Indices of cold days:\", cold_days_indices)\n"
   ]
  },
  {
   "cell_type": "code",
   "execution_count": null,
   "id": "fad5c9af-a6cc-40dc-b718-4dce6b73d050",
   "metadata": {},
   "outputs": [],
   "source": [
    "# Suppose you have a dataset containing monthly sales data for a company, and you want to split this data into quarterly reports for analysis and reporting purposes.\n",
    "\n",
    "# Input:\n",
    "\n",
    "# monthly_sales = np.array([120, 135, 148, 165, 180, 155, 168, 190, 205, 198, 210, 225])"
   ]
  },
  {
   "cell_type": "code",
   "execution_count": 3,
   "id": "53316424-a707-45e6-af50-74fe3a20d7be",
   "metadata": {},
   "outputs": [
    {
     "name": "stdout",
     "output_type": "stream",
     "text": [
      "Monthly Sales Data: [120 135 148 165 180 155 168 190 205 198 210 225]\n",
      "Quarterly Sales Data: [403 500 563 633]\n"
     ]
    }
   ],
   "source": [
    "import numpy as np\n",
    "\n",
    "monthly_sales = np.array([120, 135, 148, 165, 180, 155, 168, 190, 205, 198, 210, 225])\n",
    "quarterly_sales = monthly_sales.reshape(4, 3).sum(axis=1)\n",
    "print(\"Monthly Sales Data:\", monthly_sales)\n",
    "print(\"Quarterly Sales Data:\", quarterly_sales)\n"
   ]
  },
  {
   "cell_type": "code",
   "execution_count": null,
   "id": "ff38300c-0cfb-494f-87b4-81ba368a325b",
   "metadata": {},
   "outputs": [],
   "source": [
    "# Suppose you have a dataset containing customer data, and you want to split this data into two groups: one group for customers who made a purchase in the last 30 days and another group for customers who haven't made a purchase in the last 30 days.\n",
    "\n",
    "# Input:\n",
    "# customer_ids = np.array([101, 102, 103, 104, 105, 106, 107, 108, 109, 110])\n",
    "# last_purchase_days_ago = np.array([5, 15, 20, 25, 30, 35, 40, 45, 50, 55])"
   ]
  },
  {
   "cell_type": "code",
   "execution_count": 5,
   "id": "e32fdae0-737f-426c-a8e8-866ed8aa8d82",
   "metadata": {},
   "outputs": [
    {
     "name": "stdout",
     "output_type": "stream",
     "text": [
      "Customer IDs: [101 102 103 104 105 106 107 108 109 110]\n",
      "Days since last purchase: [ 5 15 20 25 30 35 40 45 50 55]\n",
      "Customers who made a purchase in the last 30 days: [101 102 103 104 105]\n",
      "Customers who haven't made a purchase in the last 30 days: [106 107 108 109 110]\n"
     ]
    }
   ],
   "source": [
    "import numpy as np\n",
    "\n",
    "customer_ids = np.array([101, 102, 103, 104, 105, 106, 107, 108, 109, 110])\n",
    "last_purchase_days_ago = np.array([5, 15, 20, 25, 30, 35, 40, 45, 50, 55])\n",
    "recent_purchase_mask = last_purchase_days_ago <= 30\n",
    "\n",
    "recent_customers = customer_ids[recent_purchase_mask]\n",
    "inactive_customers = customer_ids[~recent_purchase_mask]\n",
    "print(\"Days since last purchase:\", last_purchase_days_ago)\n",
    "print(\"Customers who made a purchase in the last 30 days:\", recent_customers)\n",
    "print(\"Customers who haven't made a purchase in the last 30 days:\", inactive_customers)\n"
   ]
  },
  {
   "cell_type": "code",
   "execution_count": null,
   "id": "5361754e-db3d-419a-acc6-f7c9b0451ec1",
   "metadata": {},
   "outputs": [],
   "source": [
    "# Suppose you have two sets of employee data—one containing information aboutfull-time employees and another containing information about part-time employees. You\n",
    "# want to combine this data to create a comprehensive employee dataset for HR analysis.\n",
    "# Input:\n",
    "# full_time_employees = np.array([\n",
    "# [101, 'John Doe', 'Full-Time', 55000],\n",
    "# [102, 'Jane Smith', 'Full-Time', 60000],\n",
    "# [103, 'Mike Johnson', 'Full-Time', 52000]])\n",
    "# part_time_employees = np.array([\n",
    "# [201, 'Alice Brown', 'Part-Time', 25000],\n",
    "# [202, 'Bob Wilson', 'Part-Time', 28000],\n",
    "# [203, 'Emily Davis', 'Part-Time', 22000]\n",
    "# ])"
   ]
  },
  {
   "cell_type": "code",
   "execution_count": 7,
   "id": "e0f204c6-4c98-4a0e-bcd8-6b4ad5d36e26",
   "metadata": {},
   "outputs": [
    {
     "name": "stdout",
     "output_type": "stream",
     "text": [
      "Combined Employee Dataset:\n",
      "[[101 'John Doe' 'Full-Time' 55000]\n",
      " [102 'Jane Smith' 'Full-Time' 60000]\n",
      " [103 'Mike Johnson' 'Full-Time' 52000]\n",
      " [201 'Alice Brown' 'Part-Time' 25000]\n",
      " [202 'Bob Wilson' 'Part-Time' 28000]\n",
      " [203 'Emily Davis' 'Part-Time' 22000]]\n"
     ]
    }
   ],
   "source": [
    "import numpy as np\n",
    "\n",
    "full_time_employees = np.array([\n",
    "    [101, 'John Doe', 'Full-Time', 55000],\n",
    "    [102, 'Jane Smith', 'Full-Time', 60000],\n",
    "    [103, 'Mike Johnson', 'Full-Time', 52000]\n",
    "], dtype=object) \n",
    "part_time_employees = np.array([\n",
    "    [201, 'Alice Brown', 'Part-Time', 25000],\n",
    "    [202, 'Bob Wilson', 'Part-Time', 28000],\n",
    "    [203, 'Emily Davis', 'Part-Time', 22000]\n",
    "], dtype=object) \n",
    "combined_employees = np.vstack((full_time_employees, part_time_employees))\n",
    "\n",
    "print(\"Combined Employee Dataset:\")\n",
    "print(combined_employees)\n"
   ]
  },
  {
   "cell_type": "code",
   "execution_count": null,
   "id": "0f5916b4-880e-4cce-9302-bb77cde319af",
   "metadata": {},
   "outputs": [],
   "source": [
    "# How to find the mean of every NumPy array in the given list?\n",
    "\n",
    "# Input:\n",
    "\n",
    "# list = [\n",
    "\n",
    "# np.array([3, 2, 8, 9]),\n",
    "\n",
    "# np.array([4, 12, 34, 25, 78]),\n",
    "\n",
    "# np.array([23, 12, 67])]\n",
    "\n"
   ]
  },
  {
   "cell_type": "code",
   "execution_count": 9,
   "id": "d97d6c7d-de84-4b2b-9a79-924041230163",
   "metadata": {},
   "outputs": [
    {
     "name": "stdout",
     "output_type": "stream",
     "text": [
      "Mean of array 1: 5.5\n",
      "Mean of array 2: 30.6\n",
      "Mean of array 3: 34.0\n"
     ]
    }
   ],
   "source": [
    "import numpy as np\n",
    "\n",
    "array_list = [\n",
    "    np.array([3, 2, 8, 9]),\n",
    "    np.array([4, 12, 34, 25, 78]),\n",
    "    np.array([23, 12, 67])\n",
    "]\n",
    "\n",
    "means = [np.mean(array) for array in array_list]\n",
    "\n",
    "for i, mean in enumerate(means):\n",
    "    print(f\"Mean of array {i + 1}: {mean}\")\n"
   ]
  },
  {
   "cell_type": "code",
   "execution_count": null,
   "id": "541de70d-3ed9-45b8-a1cc-b4efd2ca1624",
   "metadata": {},
   "outputs": [],
   "source": [
    "# Compute the median of the flattened NumPy array\n",
    "\n",
    "# Input: x_odd = np.array([1, 2, 3, 4, 5, 6, 7])"
   ]
  },
  {
   "cell_type": "code",
   "execution_count": 11,
   "id": "26c3e083-d397-4bda-9ed2-435e180206ca",
   "metadata": {},
   "outputs": [
    {
     "name": "stdout",
     "output_type": "stream",
     "text": [
      "Median of the array: 4.0\n"
     ]
    }
   ],
   "source": [
    "import numpy as np\n",
    "\n",
    "x_odd = np.array([1, 2, 3, 4, 5, 6, 7])\n",
    "\n",
    "median_value = np.median(x_odd)\n",
    "\n",
    "print(\"Median of the array:\", median_value)\n"
   ]
  },
  {
   "cell_type": "code",
   "execution_count": null,
   "id": "a542b2fe-3fc6-408d-816d-eb5042ff380e",
   "metadata": {},
   "outputs": [],
   "source": [
    "# Compute the standard deviation of the NumPy array\n",
    "# Input: arr = [20, 2, 7, 1, 34]"
   ]
  },
  {
   "cell_type": "code",
   "execution_count": 13,
   "id": "fbf29626-6ee8-44c5-acb3-e8ad906f420b",
   "metadata": {},
   "outputs": [
    {
     "name": "stdout",
     "output_type": "stream",
     "text": [
      "Standard deviation of the array: 12.576167937809991\n"
     ]
    }
   ],
   "source": [
    "import numpy as np\n",
    "\n",
    "arr = np.array([20, 2, 7, 1, 34])\n",
    "std_dev = np.std(arr)\n",
    "print(\"Standard deviation of the array:\", std_dev)\n"
   ]
  },
  {
   "cell_type": "code",
   "execution_count": null,
   "id": "049fd477-f8e8-45ac-abd0-ab8392ec6704",
   "metadata": {},
   "outputs": [],
   "source": [
    "# .Suppose you have a CSV file named 'house_prices.csv' with price information, and\n",
    "\n",
    "# you want to perform the following operations:\n",
    "\n",
    "# ● 1.Read the data from the CSV file into a NumPy array.\n",
    "\n",
    "# ● 2.Calculate the average of house prices.\n",
    "\n",
    "# ● 3.Identify house price above the average.\n",
    "\n",
    "# ● 4.Save the list of high prices to a new CSV file.\n",
    "\n",
    "# Note: Download 'house_prices.csv' file from LMS"
   ]
  },
  {
   "cell_type": "code",
   "execution_count": null,
   "id": "dd683494-98b5-4350-bb07-3d68d3730d4a",
   "metadata": {},
   "outputs": [],
   "source": []
  }
 ],
 "metadata": {
  "kernelspec": {
   "display_name": "Python 3 (ipykernel)",
   "language": "python",
   "name": "python3"
  },
  "language_info": {
   "codemirror_mode": {
    "name": "ipython",
    "version": 3
   },
   "file_extension": ".py",
   "mimetype": "text/x-python",
   "name": "python",
   "nbconvert_exporter": "python",
   "pygments_lexer": "ipython3",
   "version": "3.12.4"
  }
 },
 "nbformat": 4,
 "nbformat_minor": 5
}
