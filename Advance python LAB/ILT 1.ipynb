{
 "cells": [
  {
   "cell_type": "code",
   "execution_count": null,
   "id": "ea865354-feab-4005-8808-64daa9784959",
   "metadata": {},
   "outputs": [],
   "source": []
  },
  {
   "cell_type": "code",
   "execution_count": 1,
   "id": "a99fa288-ddb0-47ea-91b4-f5bc7a7a5c74",
   "metadata": {},
   "outputs": [
    {
     "name": "stdout",
     "output_type": "stream",
     "text": [
      "NumPy Array: [1 2 3 4 5]\n"
     ]
    }
   ],
   "source": [
    "import numpy as np\n",
    "\n",
    "my_list = [1, 2, 3, 4, 5]\n",
    "my_array = np.array(my_list)\n",
    "print(\"NumPy Array:\", my_array)\n"
   ]
  },
  {
   "cell_type": "code",
   "execution_count": null,
   "id": "8419a121-0917-4ddd-a741-f6858b196de7",
   "metadata": {},
   "outputs": [],
   "source": [
    "# Convert the below list into a numpy array then display the array then display the first and last index and then multiply each element by 2 and display the result. \n",
    "# Input: my_list = [1, 2, 3, 4, 5] "
   ]
  },
  {
   "cell_type": "code",
   "execution_count": 3,
   "id": "5794776c-5858-49f9-a555-9baef2b2d968",
   "metadata": {},
   "outputs": [
    {
     "name": "stdout",
     "output_type": "stream",
     "text": [
      "NumPy Array: [1 2 3 4 5]\n",
      "First element: 1\n",
      "Last element: 5\n",
      "Array after multiplying each element by 2: [ 2  4  6  8 10]\n"
     ]
    }
   ],
   "source": [
    "import numpy as np\n",
    "\n",
    "my_list = [1, 2, 3, 4, 5]\n",
    "my_array = np.array(my_list)\n",
    "print(\"NumPy Array:\", my_array)\n",
    "print(\"First element:\", my_array[0])\n",
    "print(\"Last element:\", my_array[-1])\n",
    "doubled_array = my_array * 2\n",
    "print(\"Array after multiplying each element by 2:\", doubled_array)\n"
   ]
  },
  {
   "cell_type": "code",
   "execution_count": null,
   "id": "fbd1e459-01e7-43de-b5c8-a1275930cced",
   "metadata": {},
   "outputs": [],
   "source": [
    "# Write a NumPy program to create an array of 10 zeros, 10 ones, and 10 fives. "
   ]
  },
  {
   "cell_type": "code",
   "execution_count": 7,
   "id": "cd73b718-3281-4fa4-baa9-1db39389f514",
   "metadata": {},
   "outputs": [
    {
     "name": "stdout",
     "output_type": "stream",
     "text": [
      "Array of 10 zeros: [0. 0. 0. 0. 0. 0. 0. 0. 0. 0.]\n",
      "Array of 10 ones: [1. 1. 1. 1. 1. 1. 1. 1. 1. 1.]\n",
      "Array of 10 fives: [5 5 5 5 5 5 5 5 5 5]\n",
      "Combined array: [0. 0. 0. 0. 0. 0. 0. 0. 0. 0. 1. 1. 1. 1. 1. 1. 1. 1. 1. 1. 5. 5. 5. 5.\n",
      " 5. 5. 5. 5. 5. 5.]\n"
     ]
    }
   ],
   "source": [
    "import numpy as np\n",
    "\n",
    "zeros_array = np.zeros(10)\n",
    "ones_array = np.ones(10)\n",
    "fives_array = np.full(10, 5)  # Alternatively, you could use np.array([5]*10)\n",
    "combined_array = np.concatenate((zeros_array, ones_array, fives_array))\n",
    "print(\"Array of 10 zeros:\", zeros_array)\n",
    "print(\"Array of 10 ones:\", ones_array)\n",
    "print(\"Array of 10 fives:\", fives_array)\n",
    "print(\"Combined array:\", combined_array)\n"
   ]
  },
  {
   "cell_type": "code",
   "execution_count": null,
   "id": "1ad66c7e-b858-4d0b-b1fb-f82d7ed17d33",
   "metadata": {},
   "outputs": [],
   "source": [
    "# Write a NumPy program to create a 3x3 matrix with values ranging from 2 to 10. "
   ]
  },
  {
   "cell_type": "code",
   "execution_count": 11,
   "id": "977ad052-6f8a-44db-8f26-82b529c32b0f",
   "metadata": {},
   "outputs": [
    {
     "name": "stdout",
     "output_type": "stream",
     "text": [
      "3x3 Matrix with values ranging from 2 to 10:\n",
      "[[ 2  3  4]\n",
      " [ 5  6  7]\n",
      " [ 8  9 10]]\n"
     ]
    }
   ],
   "source": [
    "import numpy as np\n",
    "\n",
    "values = np.arange(2, 11)  # Generates array [2, 3, 4, 5, 6, 7, 8, 9, 10]\n",
    "matrix_3x3 = values.reshape((3, 3))\n",
    "print(\"3x3 Matrix with values ranging from 2 to 10:\")\n",
    "print(matrix_3x3)\n"
   ]
  },
  {
   "cell_type": "code",
   "execution_count": null,
   "id": "a8847d72-c462-49e3-a205-cfb53bc075a5",
   "metadata": {},
   "outputs": [],
   "source": []
  }
 ],
 "metadata": {
  "kernelspec": {
   "display_name": "Python 3 (ipykernel)",
   "language": "python",
   "name": "python3"
  },
  "language_info": {
   "codemirror_mode": {
    "name": "ipython",
    "version": 3
   },
   "file_extension": ".py",
   "mimetype": "text/x-python",
   "name": "python",
   "nbconvert_exporter": "python",
   "pygments_lexer": "ipython3",
   "version": "3.12.4"
  }
 },
 "nbformat": 4,
 "nbformat_minor": 5
}
