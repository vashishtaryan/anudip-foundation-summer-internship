{
 "cells": [
  {
   "cell_type": "code",
   "execution_count": null,
   "id": "8eccfcad-0525-4a7b-bdf0-05d1cc905f95",
   "metadata": {},
   "outputs": [],
   "source": [
    "#Using input() function take one number from the user and using ternary operators\n",
    "#check whether the number is even or odd"
   ]
  },
  {
   "cell_type": "code",
   "execution_count": 1,
   "id": "dc7c5aad-b7ae-4f20-8082-e4b9326ca3e0",
   "metadata": {},
   "outputs": [
    {
     "name": "stdin",
     "output_type": "stream",
     "text": [
      "Enter a number:  22\n"
     ]
    },
    {
     "name": "stdout",
     "output_type": "stream",
     "text": [
      "The number 22 is Even.\n"
     ]
    }
   ],
   "source": [
    "# Take input from the user\n",
    "number = int(input(\"Enter a number: \"))\n",
    "\n",
    "# Check if the number is even or odd using a ternary operator\n",
    "result = \"Even\" if number % 2 == 0 else \"Odd\"\n",
    "\n",
    "# Print the result\n",
    "print(f\"The number {number} is {result}.\")\n"
   ]
  },
  {
   "cell_type": "code",
   "execution_count": null,
   "id": "b55423ac-22e2-4b7e-9162-3c31977ec428",
   "metadata": {},
   "outputs": [],
   "source": [
    "#To swap two numbers entered by the user using the input() function, you can use a simple approach with a temporary variable or Python's tuple unpacking. Here’s how you can do it:"
   ]
  },
  {
   "cell_type": "code",
   "execution_count": 3,
   "id": "eec0520b-f886-4852-a194-3612af827717",
   "metadata": {},
   "outputs": [
    {
     "name": "stdin",
     "output_type": "stream",
     "text": [
      "Enter the first number:  2\n",
      "Enter the second number:  22\n"
     ]
    },
    {
     "name": "stdout",
     "output_type": "stream",
     "text": [
      "Before swapping: num1 = 2, num2 = 22\n",
      "After swapping: num1 = 22, num2 = 2\n"
     ]
    }
   ],
   "source": [
    "# Take input from the user and convert them to integers\n",
    "num1 = int(input(\"Enter the first number: \"))\n",
    "num2 = int(input(\"Enter the second number: \"))\n",
    "\n",
    "# Print original values\n",
    "print(f\"Before swapping: num1 = {num1}, num2 = {num2}\")\n",
    "\n",
    "# Swap the numbers using a temporary variable\n",
    "temp = num1\n",
    "num1 = num2\n",
    "num2 = temp\n",
    "\n",
    "# Print swapped values\n",
    "print(f\"After swapping: num1 = {num1}, num2 = {num2}\")\n"
   ]
  },
  {
   "cell_type": "code",
   "execution_count": null,
   "id": "97c0f524-2cde-4398-bbce-e577d7934db4",
   "metadata": {},
   "outputs": [],
   "source": [
    "#Write a Program to Convert Kilometers to Miles"
   ]
  },
  {
   "cell_type": "code",
   "execution_count": 5,
   "id": "3a7050a6-8ca6-4ea5-bfe3-b24e6fa87e4a",
   "metadata": {},
   "outputs": [
    {
     "name": "stdin",
     "output_type": "stream",
     "text": [
      "Enter distance in kilometers:  111\n"
     ]
    },
    {
     "name": "stdout",
     "output_type": "stream",
     "text": [
      "111.0 kilometers is equal to 68.972181 miles.\n"
     ]
    }
   ],
   "source": [
    "# Conversion factor\n",
    "KILOMETERS_TO_MILES_CONVERSION_FACTOR = 0.621371\n",
    "\n",
    "# Take input from the user\n",
    "kilometers = float(input(\"Enter distance in kilometers: \"))\n",
    "\n",
    "# Convert kilometers to miles\n",
    "miles = kilometers * KILOMETERS_TO_MILES_CONVERSION_FACTOR\n",
    "\n",
    "# Print the result\n",
    "print(f\"{kilometers} kilometers is equal to {miles} miles.\")\n"
   ]
  },
  {
   "cell_type": "code",
   "execution_count": null,
   "id": "9fbb30c2-f97a-4bc0-bee6-3c208821fdc5",
   "metadata": {},
   "outputs": [],
   "source": [
    "#Find the Simple Interest on Rs. 200 for 5 years at 5% per yeaR"
   ]
  },
  {
   "cell_type": "code",
   "execution_count": 7,
   "id": "9048377c-7db0-4060-9a08-571b0e4c5381",
   "metadata": {},
   "outputs": [
    {
     "name": "stdout",
     "output_type": "stream",
     "text": [
      "The Simple Interest on Rs. 200 for 5 years at 5% per year is Rs. 50.0.\n"
     ]
    }
   ],
   "source": [
    "# Given values\n",
    "principal = 200        # Principal amount in Rs.\n",
    "rate_of_interest = 5   # Rate of interest per year in percent\n",
    "time = 5               # Time in years\n",
    "\n",
    "# Calculate Simple Interest\n",
    "simple_interest = (principal * rate_of_interest * time) / 100\n",
    "\n",
    "# Print the result\n",
    "print(f\"The Simple Interest on Rs. {principal} for {time} years at {rate_of_interest}% per year is Rs. {simple_interest}.\")\n"
   ]
  },
  {
   "cell_type": "code",
   "execution_count": null,
   "id": "1fd5f397-de16-49ad-8375-39d9c1d1ae68",
   "metadata": {},
   "outputs": [],
   "source": []
  }
 ],
 "metadata": {
  "kernelspec": {
   "display_name": "Python 3 (ipykernel)",
   "language": "python",
   "name": "python3"
  },
  "language_info": {
   "codemirror_mode": {
    "name": "ipython",
    "version": 3
   },
   "file_extension": ".py",
   "mimetype": "text/x-python",
   "name": "python",
   "nbconvert_exporter": "python",
   "pygments_lexer": "ipython3",
   "version": "3.12.4"
  }
 },
 "nbformat": 4,
 "nbformat_minor": 5
}
