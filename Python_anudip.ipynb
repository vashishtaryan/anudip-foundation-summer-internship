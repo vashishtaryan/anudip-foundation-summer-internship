{
  "cells": [
    {
      "cell_type": "markdown",
      "metadata": {
        "id": "G1FJ2UdINyde"
      },
      "source": [
        "Ques: To display the input time (in sec) into Hour:Minute:Second\n"
      ]
    },
    {
      "cell_type": "code",
      "execution_count": null,
      "metadata": {
        "colab": {
          "base_uri": "https://localhost:8080/"
        },
        "id": "ddU04PKFUy9s",
        "outputId": "5c989b00-78a5-4959-82ad-7ad98c136fdf"
      },
      "outputs": [
        {
          "name": "stdout",
          "output_type": "stream",
          "text": [
            "Enter the time in second:6879\n",
            "1 Hour: 54 Minute: 39 Second\n"
          ]
        }
      ],
      "source": [
        "sec=int(input(\"Enter the time in second:\"))\n",
        "if(sec>=0):\n",
        "    hour=0\n",
        "    min=0\n",
        "    if(sec>=3600):\n",
        "        hour=sec//3600\n",
        "        min=sec%3600//60\n",
        "        sec=sec%60\n",
        "        print(hour,\"Hour:\",min,\"Minute:\",sec,\"Second\")\n",
        "    elif((sec>=60)and(sec<3600)):\n",
        "        min=sec//60\n",
        "        sec=sec%60\n",
        "        print(min,\"Minute:\",sec,\"Second\")\n",
        "    elif(sec<60):\n",
        "        print(sec,\"Second\")\n",
        "else:\n",
        "    print(\"Invalid input time in negative\")\n"
      ]
    },
    {
      "cell_type": "markdown",
      "metadata": {
        "id": "45k2w576U5Vo"
      },
      "source": [
        "Ques: To find greatest between two number"
      ]
    },
    {
      "cell_type": "code",
      "execution_count": null,
      "metadata": {
        "colab": {
          "base_uri": "https://localhost:8080/"
        },
        "id": "6d7dsJH2VCAy",
        "outputId": "4ba0433b-08b6-4eee-e1fd-e43201c55620"
      },
      "outputs": [
        {
          "name": "stdout",
          "output_type": "stream",
          "text": [
            "Enter the First number: 68\n",
            "Enter the Second number: 54\n",
            "68 is greater than 54\n"
          ]
        }
      ],
      "source": [
        "first=int(input(\"Enter the First number: \"))\n",
        "second=int(input(\"Enter the Second number: \"))\n",
        "if(first>second):\n",
        "    print(first,\"is greater than\",second)\n",
        "elif(first==second):\n",
        "    print(\"Both number are equals\")\n",
        "else:\n",
        "    print(second,\"is greater than\",first)"
      ]
    },
    {
      "cell_type": "markdown",
      "metadata": {
        "id": "60OVApkqVwEY"
      },
      "source": [
        "Ques: Given the Cost Price(CP) and Selling Price(SP) of a product. The task is to Calculate the Profit or Loss."
      ]
    },
    {
      "cell_type": "code",
      "execution_count": null,
      "metadata": {
        "colab": {
          "base_uri": "https://localhost:8080/"
        },
        "id": "BNm4gNQiWM7d",
        "outputId": "e6054ca8-78f3-4b96-8ef7-0ba16803327d"
      },
      "outputs": [
        {
          "name": "stdout",
          "output_type": "stream",
          "text": [
            "Enter the cost price: 8965\n",
            "Enter the selling price: 3684\n",
            "Loss is :  5281.0\n"
          ]
        }
      ],
      "source": [
        "cp=float(input(\"Enter the Cost price: \"))\n",
        "sp=float(input(\"Enter the Selling price: \"))\n",
        "if(cp<0):\n",
        "    print(\"Cost Price can not be negative\")\n",
        "elif(sp<0):\n",
        "    print(\"Selling Price can not be negative\")\n",
        "else:\n",
        "  if(sp>cp):\n",
        "      print(\"Profit is : \",(sp-cp))\n",
        "  elif(cp>sp):\n",
        "      print(\"Loss is : \",(cp-sp))\n",
        "  else:\n",
        "      print(\"No Profit No Loss\")"
      ]
    },
    {
      "cell_type": "markdown",
      "metadata": {
        "id": "oz_7UOmaWshI"
      },
      "source": [
        "Ques: To display the numbers between 10 and 500 divisible by both 7 and 10 using For Loop."
      ]
    },
    {
      "cell_type": "code",
      "execution_count": null,
      "metadata": {
        "colab": {
          "base_uri": "https://localhost:8080/"
        },
        "id": "vxXoGlqQXnUv",
        "outputId": "9f3a9308-a7b2-4bb5-bdee-2dbf49c36d64"
      },
      "outputs": [
        {
          "name": "stdout",
          "output_type": "stream",
          "text": [
            "The numbers between 10 and 500 divisible by both 10 and 7 are :\n",
            "70,140,210,280,350,420,490,"
          ]
        }
      ],
      "source": [
        "print(\"The numbers between 10 and 500 divisible by both 7 and 10 are :\")\n",
        "for x in range(10,500):\n",
        "    if(x%7==0 and x%10==0):\n",
        "        print(x,end=\",\")"
      ]
    },
    {
      "cell_type": "markdown",
      "metadata": {
        "id": "g6XqzoJCYjFr"
      },
      "source": [
        "Ques: To count the numbers between 100 and 1000 which is even and also divisible by 3 using For Loop."
      ]
    },
    {
      "cell_type": "code",
      "execution_count": null,
      "metadata": {
        "colab": {
          "base_uri": "https://localhost:8080/"
        },
        "id": "QPlJ0f1MvEw-",
        "outputId": "e91c108e-58ce-4900-96d4-3cce6364c181"
      },
      "outputs": [
        {
          "name": "stdout",
          "output_type": "stream",
          "text": [
            "Numbers between 100 and 1000 which is even and also divisible by 3 are : \n",
            "102,108,114,120,126,132,138,144,150,156,162,168,174,180,186,192,198,204,210,216,222,228,234,240,246,252,258,264,270,276,282,288,294,300,306,312,318,324,330,336,342,348,354,360,366,372,378,384,390,396,402,408,414,420,426,432,438,444,450,456,462,468,474,480,486,492,498,504,510,516,522,528,534,540,546,552,558,564,570,576,582,588,594,600,606,612,618,624,630,636,642,648,654,660,666,672,678,684,690,696,702,708,714,720,726,732,738,744,750,756,762,768,774,780,786,792,798,804,810,816,822,828,834,840,846,852,858,864,870,876,882,888,894,900,906,912,918,924,930,936,942,948,954,960,966,972,978,984,990,996, \n",
            "Total numbers between 100 and 1000 which are even and divisible by 3 is 150\n"
          ]
        }
      ],
      "source": [
        "count=0\n",
        "print(\"Numbers between 100 and 1000 which is even and also divisible by 3 are : \")\n",
        "for x in range(100,1000):\n",
        "    if(x%2==0 and x%3==0):\n",
        "        print(x,end=',')\n",
        "        count=count+1\n",
        "print(\" \")\n",
        "print(\"Total numbers between 100 and 1000 which are even and divisible by 3 is\",count)"
      ]
    },
    {
      "cell_type": "markdown",
      "metadata": {
        "id": "tIPFT3-zwO_a"
      },
      "source": [
        "Ques: To count the numbers between 100 and 1000 which is even and also divisible by 3 using while Loop."
      ]
    },
    {
      "cell_type": "code",
      "source": [
        "x=100\n",
        "count=0\n",
        "print(\"Numbers between 100 and 1000 which is even and also divisible by 3 are : \")\n",
        "while(x<1000):\n",
        "  if(x%2==0 and x%3==0):\n",
        "    print(x,end=',')\n",
        "    count=count+1\n",
        "  x=x+1\n",
        "print(\" \")\n",
        "print(\"Total numbers between 100 and 1000 which are even and divisible by 3 is\",count)"
      ],
      "metadata": {
        "colab": {
          "base_uri": "https://localhost:8080/"
        },
        "id": "t4cayWey2Lj4",
        "outputId": "28fd3895-9345-419e-b1b9-f8f75e387ba4"
      },
      "execution_count": 14,
      "outputs": [
        {
          "output_type": "stream",
          "name": "stdout",
          "text": [
            "Numbers between 100 and 1000 which is even and also divisible by 3 are : \n",
            "102,108,114,120,126,132,138,144,150,156,162,168,174,180,186,192,198,204,210,216,222,228,234,240,246,252,258,264,270,276,282,288,294,300,306,312,318,324,330,336,342,348,354,360,366,372,378,384,390,396,402,408,414,420,426,432,438,444,450,456,462,468,474,480,486,492,498,504,510,516,522,528,534,540,546,552,558,564,570,576,582,588,594,600,606,612,618,624,630,636,642,648,654,660,666,672,678,684,690,696,702,708,714,720,726,732,738,744,750,756,762,768,774,780,786,792,798,804,810,816,822,828,834,840,846,852,858,864,870,876,882,888,894,900,906,912,918,924,930,936,942,948,954,960,966,972,978,984,990,996, \n",
            "Total numbers between 100 and 1000 which are even and divisible by 3 is 150\n"
          ]
        }
      ]
    },
    {
      "cell_type": "markdown",
      "source": [
        "Create and Display the List"
      ],
      "metadata": {
        "id": "IqBiZWog79Zq"
      }
    },
    {
      "cell_type": "code",
      "source": [
        "list=[1,2,3,4,\"hello\"]\n",
        "print(\"Display the list with formatting: \")\n",
        "print(list)\n",
        "print(\"Display the list without formatting:\")\n",
        "print(*list)\n",
        "print(\"Display the list element by element using for loop: \")\n",
        "for x in list:\n",
        "  print(x)"
      ],
      "metadata": {
        "colab": {
          "base_uri": "https://localhost:8080/"
        },
        "id": "6KjNrb268HNO",
        "outputId": "03926cdb-38fc-4d46-c33d-ea9ddea7ddd5"
      },
      "execution_count": 16,
      "outputs": [
        {
          "output_type": "stream",
          "name": "stdout",
          "text": [
            "Display the list with formatting: \n",
            "[1, 2, 3, 4, 'hello']\n",
            "Display the list without formatting:\n",
            "1 2 3 4 hello\n",
            "Display the list element by element using for loop: \n",
            "1\n",
            "2\n",
            "3\n",
            "4\n",
            "hello\n"
          ]
        }
      ]
    },
    {
      "cell_type": "markdown",
      "source": [
        "Access element of a List using Indexing"
      ],
      "metadata": {
        "id": "LGH-kUgT9oPX"
      }
    },
    {
      "cell_type": "code",
      "source": [
        "list=[1,2,3,4,5,\"hello\",\"World\",6,7]\n",
        "print(\"List is:\",list)\n",
        "print(\"Fetching 3rd element of a list: \")\n",
        "print(list[2])\n",
        "print(\"fetching 4th element from last of a list:\")\n",
        "print(list[-4])\n",
        "print(\"Fetching elements from 3rd to 10th position in a list:\")\n",
        "print(list[2:10])\n",
        "print(\"Fetching alternate elements from 3rd to 10th position in a list:\")\n",
        "print(list[2:10:2])"
      ],
      "metadata": {
        "colab": {
          "base_uri": "https://localhost:8080/"
        },
        "id": "2-FzOqdi9fZF",
        "outputId": "3c797f21-b42d-4942-e945-caed5613dee0"
      },
      "execution_count": 21,
      "outputs": [
        {
          "output_type": "stream",
          "name": "stdout",
          "text": [
            "List is: [1, 2, 3, 4, 5, 'hello', 'World', 6, 7]\n",
            "Fetching 3rd element of a list: \n",
            "3\n",
            "fetching 4th element from last in a list:\n",
            "hello\n",
            "Fetching elements from 3rd to 10th position in a list:\n",
            "[3, 4, 5, 'hello', 'World', 6, 7]\n",
            "Fetching alternate elements from 3rd to 10th position in a list:\n",
            "[3, 5, 'World', 7]\n"
          ]
        }
      ]
    },
    {
      "cell_type": "markdown",
      "source": [
        "Ques: Create a list of 20 numbers and print the number in backward direction using forward indexing"
      ],
      "metadata": {
        "id": "ZZo7wAy7-Y8r"
      }
    },
    {
      "cell_type": "code",
      "source": [
        "list=[1,2,3,4,5,6,7,8,9,10,11,12,13,14,15,16,15,18,19,20]\n",
        "print(\"List is \",list)\n",
        "print(\"Display the element of a list in backward direction using forward indexing :\")\n",
        "x=len(list)-1\n",
        "for i in range(x,-1,-1):\n",
        "    print(list[i],end=',')"
      ],
      "metadata": {
        "colab": {
          "base_uri": "https://localhost:8080/"
        },
        "id": "MuJoJb9l-gDH",
        "outputId": "22bd9645-c26c-4ea9-e7b0-6434d3f58468"
      },
      "execution_count": 24,
      "outputs": [
        {
          "output_type": "stream",
          "name": "stdout",
          "text": [
            "List is  [1, 2, 3, 4, 5, 6, 7, 8, 9, 10, 11, 12, 13, 14, 15, 16, 15, 18, 19, 20]\n",
            "Display the element of a list in backward direction using forward indexing :\n",
            "20,19,18,15,16,15,14,13,12,11,10,9,8,7,6,5,4,3,2,1,"
          ]
        }
      ]
    },
    {
      "cell_type": "markdown",
      "source": [
        "Insertion of element in a List"
      ],
      "metadata": {
        "id": "V5lnfW7M_4lv"
      }
    },
    {
      "cell_type": "code",
      "source": [
        "list1=[1,2,3,4,5]\n",
        "print(\"List1 is \",list1)\n",
        "list2=[6,7,8,9,10]\n",
        "print(\"List2 is \",list2)\n",
        "#append() is used to insert only one element of a list in another list.\n",
        "print(\"Insert the element of a list2 in list1 by using append method:\")\n",
        "for x in list2:\n",
        "    list1.append(x)\n",
        "print(list1)\n",
        "# extend() is used to insert all element of any sequence datatype in a List.\n",
        "tuple1=(11,12,13,14,15)\n",
        "print(\"tuple1 is \",tuple1)\n",
        "print(\"Insert the element of a tuple1 in list1 by using extend method:\")\n",
        "list1.extend(tuple1)\n",
        "print(list1)\n",
        "#insert() is used insert the element at specified position in a list.\n",
        "print(\"Insert the element 15 at index 3 in list2:\")\n",
        "list2.insert(3,15)\n",
        "print(list2)\n",
        ""
      ],
      "metadata": {
        "colab": {
          "base_uri": "https://localhost:8080/"
        },
        "id": "kTgNcmpy_9ra",
        "outputId": "f1340a72-3c3a-4a2b-ebc2-9d0ae1aaed60"
      },
      "execution_count": 41,
      "outputs": [
        {
          "output_type": "stream",
          "name": "stdout",
          "text": [
            "List1 is  [1, 2, 3, 4, 5]\n",
            "List2 is  [6, 7, 8, 9, 10]\n",
            "Insert the element of a list2 in list1 by using append method:\n",
            "[1, 2, 3, 4, 5, 6, 7, 8, 9, 10]\n",
            "tuple1 is  (11, 12, 13, 14, 15)\n",
            "Insert the element of a tuple1 in list1 by using extend method:\n",
            "[1, 2, 3, 4, 5, 6, 7, 8, 9, 10, 11, 12, 13, 14, 15]\n",
            "Insert the element 15 at index 3 in list2:\n",
            "[6, 7, 8, 15, 9, 10]\n"
          ]
        }
      ]
    },
    {
      "cell_type": "markdown",
      "source": [
        "Deletion of element from a list"
      ],
      "metadata": {
        "id": "wq9GytOY-nFx"
      }
    },
    {
      "cell_type": "code",
      "source": [
        "list1=[1,2,1,3,3,4,5,6]\n",
        "print(\"list1 is: \",list1)\n",
        "print(\"Delete the element of a list1 having index 2 using pop()\")\n",
        "list1.pop(2)\n",
        "print(\"After deletion,list1 is \",list1)\n",
        "print(\"Remove the first occurrence of a element 3 from a list1 using remove()\")\n",
        "list1.remove(3)\n",
        "print(\"After deletion , list1 is \",list1)\n",
        "print(\"Remove all element of list1 using clear()\")\n",
        "list1.clear()\n",
        "print(\"list1 is empty i.e.\",list1)"
      ],
      "metadata": {
        "colab": {
          "base_uri": "https://localhost:8080/"
        },
        "id": "8HwO6OIuFY_-",
        "outputId": "b8ee5ba7-535f-44f6-f684-17c3e5f377a1"
      },
      "execution_count": 40,
      "outputs": [
        {
          "output_type": "stream",
          "name": "stdout",
          "text": [
            "list1 is:  [1, 2, 1, 3, 3, 4, 5, 6]\n",
            "Delete the element of a list1 having index 2 using pop()\n",
            "After deletion,list1 is  [1, 2, 3, 3, 4, 5, 6]\n",
            "Remove the first occurrence of a element 3 from a list1 using remove()\n",
            "After deletion , list1 is  [1, 2, 3, 4, 5, 6]\n",
            "Remove all element of list1 using clear()\n",
            "list1 is empty i.e. []\n"
          ]
        }
      ]
    },
    {
      "cell_type": "markdown",
      "source": [
        "Ques: Find the method to insert all the element of another sequence datatype at particular index in the list. But all the element must be inserted one by one."
      ],
      "metadata": {
        "id": "M6w3Lb2sIzDs"
      }
    },
    {
      "cell_type": "code",
      "source": [
        "List1=[1,2,3,4,8,9,10]\n",
        "print(\"List1 is\",List1)\n",
        "List2=[5,6,7]\n",
        "print(\"List2 is \",List2)\n",
        "index=int(input(\"Enter the index where you want to insert the List2 in List1: \"))\n",
        "if(index>=0 and index<len(List1)):\n",
        "  for i in range(len(List2)):\n",
        "     List1.insert(index+i,List2[i])\n",
        "  print(\"Updated List1 will be: \",List1)\n",
        "elif(index<0 and index>=-len(List1)):\n",
        "  for i in range(len(List2)):\n",
        "     List1.insert(index,List2[i])\n",
        "  print(\"Updated List1 will be: \",List1)\n",
        "else:\n",
        "  print(\"Entered index\",index,\"is out of range\")"
      ],
      "metadata": {
        "colab": {
          "base_uri": "https://localhost:8080/"
        },
        "id": "FJ81WyhnI6bQ",
        "outputId": "80c35159-268f-4f5e-9b03-08f1ff5beec6"
      },
      "execution_count": 62,
      "outputs": [
        {
          "output_type": "stream",
          "name": "stdout",
          "text": [
            "List1 is [1, 2, 3, 4, 8, 9, 10]\n",
            "List2 is  [5, 6, 7]\n",
            "Enter the index where you want to insert the List2 in List1: -4\n",
            "Updated List1 will be:  [1, 2, 3, 5, 6, 7, 4, 8, 9, 10]\n"
          ]
        }
      ]
    },
    {
      "cell_type": "markdown",
      "source": [
        "Create and display the student  dataset in tabular form by using List"
      ],
      "metadata": {
        "id": "RVCk8DuQVAdi"
      }
    },
    {
      "cell_type": "code",
      "source": [
        "from tabulate import tabulate\n",
        "\n",
        "# Creating student dataset using List\n",
        "data = [\n",
        "    [\"std101\", \"Ashish Kumar\", \"10th\", 15, 67, 89, 87, 89, 90, 422],\n",
        "    [\"std102\", \"Abhishek Kumar\", \"10th\", 15, 34, 45, 78, 45, 31, 233],\n",
        "    [\"std103\", \"Aman\", \"10th\", 15, 56, 56, 78, 78, 45, 313],\n",
        "    [\"std104\", \"Rahul\", \"10th\", 15, 78, 67, 89, 89, 78, 402],\n",
        "    [\"std105\", \"Ruby\", \"10th\", 13, 89, 56, 45, 45, 67, 302],\n",
        "    [\"std106\", \"Suman\", \"10th\", 13, 67, 67, 67, 67, 67, 335],\n",
        "    [\"std107\", \"Saurabh\", \"10th\", 15, 45, 23, 45, 78, 67, 258],\n",
        "    [\"std108\", \"Sumit\", \"10th\", 15, 89, 90, 89, 90, 45, 403],\n",
        "    [\"std109\", \"Kamlesh\", \"10th\", 15, 78, 45, 78, 78, 78, 337],\n",
        "    [\"std110\", \"Rohan\", \"10th\", 15, 12, 24, 45, 56, 34, 171]\n",
        "]\n",
        "\n",
        "# Define the headers\n",
        "headers = [\"stdid\", \"stdname\", \"standard\", \"Age\", \"Hindi\", \"English\", \"Maths\", \"Science\", \"Computer\", \"Total\"]\n",
        "\n",
        "# Display the table\n",
        "print(\"Student dataset in table:\")\n",
        "print(tabulate(data, headers=headers, tablefmt=\"grid\"))\n",
        "print( )\n",
        "# Define the index for English marks\n",
        "english_index = 5\n",
        "\n",
        "# Find and print the names of students with English marks greater than 50 using a for loop\n",
        "print(\"Students with English marks greater than 70:\")\n",
        "for row in data:\n",
        "    if row[english_index] > 50:\n",
        "        print(row[1])\n",
        "print(\"------------*-------------*-------------*--------------*-------------\")\n",
        "print(\"Name and Age of a student who are top four scorer in Maths:\")\n",
        "# Extract student name, age, and Maths score\n",
        "relevant_data = [(row[1], row[3], row[6]) for row in data]\n",
        "\n",
        "# Sort the data by Maths score in descending order\n",
        "sorted_data = sorted(relevant_data, key=lambda x: x[2], reverse=True)\n",
        "\n",
        "# Select the top four students\n",
        "top_four = sorted_data[0:4]\n",
        "\n",
        "# Print the top four students' names and ages\n",
        "for student in top_four:\n",
        "    print(\"Student Name:\" ,student[0],\", Age:\", student[1])\n",
        "print(\"------------*-------------*-------------*--------------*-------------\")\n",
        "print(\"Name, Id and Age of student who are bottom three scorer in Computer:\")\n",
        "# Extract student id,name, age, and computer score\n",
        "relevant_data = [(row[0], row[1],row[3], row[8]) for row in data]\n",
        "\n",
        "# Sort the data by computer score in ascending order\n",
        "sorted_data = sorted(relevant_data, key=lambda x: x[3])\n",
        "\n",
        "# Select the bottom three students\n",
        "bottom_three = sorted_data[0:3]\n",
        "\n",
        "# Print the bottom three students id, names and ages\n",
        "for student in bottom_three:\n",
        "    print(\"Student Id: \",student[0],\", Student Name:\", student[1],\", Age:\", student[2])\n"
      ],
      "metadata": {
        "colab": {
          "base_uri": "https://localhost:8080/"
        },
        "id": "AcvEsbWpVKIu",
        "outputId": "5dfa2363-8da3-4a91-89a0-d8af8d6a9d44"
      },
      "execution_count": 72,
      "outputs": [
        {
          "output_type": "stream",
          "name": "stdout",
          "text": [
            "Student dataset in table:\n",
            "+---------+----------------+------------+-------+---------+-----------+---------+-----------+------------+---------+\n",
            "| stdid   | stdname        | standard   |   Age |   Hindi |   English |   Maths |   Science |   Computer |   Total |\n",
            "+=========+================+============+=======+=========+===========+=========+===========+============+=========+\n",
            "| std101  | Ashish Kumar   | 10th       |    15 |      67 |        89 |      87 |        89 |         90 |     422 |\n",
            "+---------+----------------+------------+-------+---------+-----------+---------+-----------+------------+---------+\n",
            "| std102  | Abhishek Kumar | 10th       |    15 |      34 |        45 |      78 |        45 |         31 |     233 |\n",
            "+---------+----------------+------------+-------+---------+-----------+---------+-----------+------------+---------+\n",
            "| std103  | Aman           | 10th       |    15 |      56 |        56 |      78 |        78 |         45 |     313 |\n",
            "+---------+----------------+------------+-------+---------+-----------+---------+-----------+------------+---------+\n",
            "| std104  | Rahul          | 10th       |    15 |      78 |        67 |      89 |        89 |         78 |     402 |\n",
            "+---------+----------------+------------+-------+---------+-----------+---------+-----------+------------+---------+\n",
            "| std105  | Ruby           | 10th       |    13 |      89 |        56 |      45 |        45 |         67 |     302 |\n",
            "+---------+----------------+------------+-------+---------+-----------+---------+-----------+------------+---------+\n",
            "| std106  | Suman          | 10th       |    13 |      67 |        67 |      67 |        67 |         67 |     335 |\n",
            "+---------+----------------+------------+-------+---------+-----------+---------+-----------+------------+---------+\n",
            "| std107  | Saurabh        | 10th       |    15 |      45 |        23 |      45 |        78 |         67 |     258 |\n",
            "+---------+----------------+------------+-------+---------+-----------+---------+-----------+------------+---------+\n",
            "| std108  | Sumit          | 10th       |    15 |      89 |        90 |      89 |        90 |         45 |     403 |\n",
            "+---------+----------------+------------+-------+---------+-----------+---------+-----------+------------+---------+\n",
            "| std109  | Kamlesh        | 10th       |    15 |      78 |        45 |      78 |        78 |         78 |     337 |\n",
            "+---------+----------------+------------+-------+---------+-----------+---------+-----------+------------+---------+\n",
            "| std110  | Rohan          | 10th       |    15 |      12 |        24 |      45 |        56 |         34 |     171 |\n",
            "+---------+----------------+------------+-------+---------+-----------+---------+-----------+------------+---------+\n",
            "\n",
            "Students with English marks greater than 70:\n",
            "Ashish Kumar\n",
            "Aman\n",
            "Rahul\n",
            "Ruby\n",
            "Suman\n",
            "Sumit\n",
            "------------*-------------*-------------*--------------*-------------\n",
            "Name and Age of a student who are top four scorer in Maths:\n",
            "Student Name: Rahul , Age: 15\n",
            "Student Name: Sumit , Age: 15\n",
            "Student Name: Ashish Kumar , Age: 15\n",
            "Student Name: Abhishek Kumar , Age: 15\n",
            "------------*-------------*-------------*--------------*-------------\n",
            "Name, Id and Age of student who are bottom three scorer in Computer:\n",
            "Student Id:  std102 , Student Name: Abhishek Kumar , Age: 15\n",
            "Student Id:  std110 , Student Name: Rohan , Age: 15\n",
            "Student Id:  std103 , Student Name: Aman , Age: 15\n"
          ]
        }
      ]
    },
    {
      "cell_type": "markdown",
      "source": [
        "Ques: Print the element of tuple in backward direction using forward indexing"
      ],
      "metadata": {
        "id": "N8Ey_GTYfhKI"
      }
    },
    {
      "cell_type": "code",
      "source": [
        "# print the tuple in backward direction using forward indexing\n",
        "tuple=(1,2,3,4,5)\n",
        "print(\"Tuple is:\",tuple)\n",
        "print(\"Display the element of tuple in backward direction using forward indexing: \")\n",
        "x=len(tuple)-1\n",
        "for i in range(x,-1,-1):\n",
        "  print(tuple[i],end=',')"
      ],
      "metadata": {
        "colab": {
          "base_uri": "https://localhost:8080/"
        },
        "id": "6H2KjmuEfrUk",
        "outputId": "9e0fcb73-837d-4480-e78b-c4fc02630664"
      },
      "execution_count": 75,
      "outputs": [
        {
          "output_type": "stream",
          "name": "stdout",
          "text": [
            "Tuple is: (1, 2, 3, 4, 5)\n",
            "Display the element of tuple in backward direction using forward indexing\n",
            "5,4,3,2,1,"
          ]
        }
      ]
    },
    {
      "cell_type": "markdown",
      "source": [
        "Ques: Print the element of tuple in forward direction using backward indexing"
      ],
      "metadata": {
        "id": "EqV4lwBCgFn3"
      }
    },
    {
      "cell_type": "code",
      "source": [
        "tuple=(1,2,3,4,5)\n",
        "print(\"Tuple is:\",tuple)\n",
        "print(\"Display the element of tuple in forward direction using backward indexing: \")\n",
        "x=len(tuple)\n",
        "for i in range(-x,0):\n",
        "  print(tuple[i],end=',')"
      ],
      "metadata": {
        "colab": {
          "base_uri": "https://localhost:8080/"
        },
        "id": "FUGeX7gVgMiF",
        "outputId": "d57c8e22-429c-434a-b959-16747a4dae1d"
      },
      "execution_count": 79,
      "outputs": [
        {
          "output_type": "stream",
          "name": "stdout",
          "text": [
            "Tuple is: (1, 2, 3, 4, 5)\n",
            "Display the element of tuple in forward direction using backward indexing: \n",
            "1,2,3,4,5,"
          ]
        }
      ]
    },
    {
      "cell_type": "markdown",
      "source": [
        "Creating a dictionary and access it's element (key:value)"
      ],
      "metadata": {
        "id": "F8sg4YbckzGY"
      }
    },
    {
      "cell_type": "code",
      "source": [
        "#Creating a Dictionary\n",
        "student={'stdid':'std101','stdname': 'Ashish Kumar','standard': '10th','age': 15}\n",
        "print(\"Dictionary is \",student)\n",
        "#insert element with key standard\n",
        "print(\" \")\n",
        "print(\"Insert element with key standard in student dictionary: \")\n",
        "student['standard']='12th'\n",
        "print(student)\n",
        "#insert an element with key hindi\n",
        "print(\" \")\n",
        "print(\"Insert element with key hindi in student dictionary: \")\n",
        "student['hindi']=78\n",
        "print(student)\n",
        "#find the key of dictionary\n",
        "print(\" \")\n",
        "print(\"Keys in student dictionary are\")\n",
        "for key in student:\n",
        "  print(key)\n",
        "#print the value of dictionary with it's key\n",
        "print(' ')\n",
        "print(\"Elements of dictionary in (key:value pair):\")\n",
        "for key in student:\n",
        "  print(key,\":\",student[key])\n"
      ],
      "metadata": {
        "colab": {
          "base_uri": "https://localhost:8080/"
        },
        "id": "9oVbntHXiWX0",
        "outputId": "1e9552ad-3f81-454b-b627-8ae9d77b7637"
      },
      "execution_count": 91,
      "outputs": [
        {
          "output_type": "stream",
          "name": "stdout",
          "text": [
            "Dictionary is  {'stdid': 'std101', 'stdname': 'Ashish Kumar', 'standard': '10th', 'age': 15}\n",
            " \n",
            "Insert element with key standard in student dictionary: \n",
            "{'stdid': 'std101', 'stdname': 'Ashish Kumar', 'standard': '12th', 'age': 15}\n",
            " \n",
            "Insert element with key hindi in student dictionary: \n",
            "{'stdid': 'std101', 'stdname': 'Ashish Kumar', 'standard': '12th', 'age': 15, 'hindi': 78}\n",
            " \n",
            "Keys in student dictionary are\n",
            "stdid\n",
            "stdname\n",
            "standard\n",
            "age\n",
            "hindi\n",
            " \n",
            "Elements of dictionary in (key:value pair):\n",
            "stdid : std101\n",
            "stdname : Ashish Kumar\n",
            "standard : 12th\n",
            "age : 15\n",
            "hindi : 78\n"
          ]
        }
      ]
    },
    {
      "cell_type": "markdown",
      "source": [
        "Using basic dictionary method"
      ],
      "metadata": {
        "id": "p6y_ylrolC4a"
      }
    },
    {
      "cell_type": "code",
      "source": [
        "student_data={'stdid':'std101','stdname': 'Ashish Kumar','standard': '10th','age': 15,'hindi':67,'English':89}\n",
        "#To display the dictionary\n",
        "print(\"Dictionary is :\")\n",
        "print(student_data)\n",
        "#delete element having key as hindi\n",
        "print(\" \")\n",
        "print(\"Removing the element from dictionary having key as hindi :\")\n",
        "student_data.pop('hindi')\n",
        "print(student_data)\n",
        "#To delete the last item in dictionary\n",
        "print(\" \")\n",
        "print(\"Removing the last item from a dictioary\")\n",
        "student_data.popitem()\n",
        "print(student_data)\n",
        "#Using keys()\n",
        "#to return the keys of all the element in List\n",
        "print(\" \")\n",
        "print(\"Display the list of keys in List\")\n",
        "element_keys=student_data.keys()\n",
        "print(element_keys)\n",
        "#Using values()\n",
        "#To return the values of all the element in List of a Dictionary\n",
        "print(\" \")\n",
        "print(\"Display the list of values in List\")\n",
        "element_values=student_data.values()\n",
        "print(element_values)\n",
        "#Using items()\n",
        "#To return the a list of items\n",
        "print(\" \")\n",
        "print(\"Display the list of item of a dictionary in List\")\n",
        "dict_items=student_data.items()\n",
        "print(dict_items)\n",
        "#To find all the value of all the element\n",
        "print(\" \")\n",
        "print(\"Display the values of all key of a Dictionary: \")\n",
        "for data in student_data.values():\n",
        "  print(data)\n",
        "print(\"------------*----------------*------------------*----------------\")\n",
        "#using get()\n",
        "#To check the whether key is available in a dictionary or not\n",
        "print(\"Is key (maths) is available in dictionary?  \")\n",
        "x= student_data.get('maths')\n",
        "print(x)\n",
        "print('------------------*-------------------*---------------*------------')\n",
        "# Using update()\n",
        "dict1={'name':'Amit','Age':15,'standard':'10th'}\n",
        "print(\"Dictionary1 is: \",dict1)\n",
        "dict2={'hindi':67,'Age':16,'standard':\"12th\",'English':67}\n",
        "print(\"Dictionary2 is: \",dict2)\n",
        "# inserting all the element of the dict2 into dict1\n",
        "print(\" \")\n",
        "print(\"Inserting all the element of the dictionary2 into dictionary1: \")\n",
        "dict1.update(dict2)\n",
        "print(dict1)\n",
        "print('------------------*-------------------*---------------*------------')\n",
        "#Using fromkeys()\n",
        "print(\"Using fromkeys method in dictionary1 in key 'english':\")\n",
        "x=dict1.fromkeys('english',16)\n",
        "print(x)\n",
        "print(\" \")\n",
        "print(\"Using fromkeys method in dictionary1 in it's keys and values: \")\n",
        "y=dict1.fromkeys(dict1.keys(),dict1.values())\n",
        "print(y)\n",
        "print(\" \")\n",
        "print(\"Using fromkeys method in dictionary1 in it's keys and using value '16':\")\n",
        "z=dict1.fromkeys(dict1.keys(),16)\n",
        "print(z)\n",
        "print(\"-------------------*-----------------*----------------*----------------\")\n",
        "#Using len()\n",
        "#To find the no. of element of a dictionary\n",
        "print(\"Length of the dictionary1 is :\")\n",
        "print(len(dict1))"
      ],
      "metadata": {
        "colab": {
          "base_uri": "https://localhost:8080/"
        },
        "id": "OcCtA7CblUcS",
        "outputId": "aa71a244-38d8-4606-d8f1-1b5f580889d8"
      },
      "execution_count": 106,
      "outputs": [
        {
          "output_type": "stream",
          "name": "stdout",
          "text": [
            "Dictionary is :\n",
            "{'stdid': 'std101', 'stdname': 'Ashish Kumar', 'standard': '10th', 'age': 15, 'hindi': 67, 'English': 89}\n",
            " \n",
            "Removing the element from dictionary having key as hindi :\n",
            "{'stdid': 'std101', 'stdname': 'Ashish Kumar', 'standard': '10th', 'age': 15, 'English': 89}\n",
            " \n",
            "Removing the last item from a dictioary\n",
            "{'stdid': 'std101', 'stdname': 'Ashish Kumar', 'standard': '10th', 'age': 15}\n",
            " \n",
            "Display the list of keys in List\n",
            "dict_keys(['stdid', 'stdname', 'standard', 'age'])\n",
            " \n",
            "Display the list of values in List\n",
            "dict_values(['std101', 'Ashish Kumar', '10th', 15])\n",
            " \n",
            "Display the list of item of a dictionary in List\n",
            "dict_items([('stdid', 'std101'), ('stdname', 'Ashish Kumar'), ('standard', '10th'), ('age', 15)])\n",
            " \n",
            "Display the values of all key of a Dictionary: \n",
            "std101\n",
            "Ashish Kumar\n",
            "10th\n",
            "15\n",
            "------------*----------------*------------------*----------------\n",
            "Is key (maths) is available in dictionary?  \n",
            "None\n",
            "------------------*-------------------*---------------*------------\n",
            "Dictionary1 is:  {'name': 'Amit', 'Age': 15, 'standard': '10th'}\n",
            "Dictionary2 is:  {'hindi': 67, 'Age': 16, 'standard': '12th', 'English': 67}\n",
            " \n",
            "Inserting all the element of the dictionary2 into dictionary1: \n",
            "{'name': 'Amit', 'Age': 16, 'standard': '12th', 'hindi': 67, 'English': 67}\n",
            "------------------*-------------------*---------------*------------\n",
            "Using fromkeys method in dictionary1 in key 'english':\n",
            "{'e': 16, 'n': 16, 'g': 16, 'l': 16, 'i': 16, 's': 16, 'h': 16}\n",
            " \n",
            "Using fromkeys method in dictionary1 in it's keys and values: \n",
            "{'name': dict_values(['Amit', 16, '12th', 67, 67]), 'Age': dict_values(['Amit', 16, '12th', 67, 67]), 'standard': dict_values(['Amit', 16, '12th', 67, 67]), 'hindi': dict_values(['Amit', 16, '12th', 67, 67]), 'English': dict_values(['Amit', 16, '12th', 67, 67])}\n",
            " \n",
            "Using fromkeys method in dictionary1 in it's keys and using value '16':\n",
            "{'name': 16, 'Age': 16, 'standard': 16, 'hindi': 16, 'English': 16}\n",
            "-------------------*-----------------*----------------*----------------\n",
            "Length of the dictionary1 is :\n",
            "5\n"
          ]
        }
      ]
    },
    {
      "cell_type": "markdown",
      "source": [
        "Create and display the student dataset in tabular form by using Dictionary"
      ],
      "metadata": {
        "id": "uE_0xtI0fJ13"
      }
    },
    {
      "cell_type": "code",
      "source": [
        "from tabulate import tabulate\n",
        "# Using DICTIONARY\n",
        "# Data of the Student from Excel\n",
        "data = [\n",
        "    {\"stdid\": \"std101\", \"stdname\": \"Ashish Kumar\", \"standard\": \"10th\", \"Age\": 15, \"Hindi\": 67, \"English\": 89, \"Maths\": 87, \"Science\": 89, \"Computer\": 90, \"Total\": 422},\n",
        "    {\"stdid\": \"std102\", \"stdname\": \"Abhishek Kumar\", \"standard\": \"10th\", \"Age\": 15, \"Hindi\": 34, \"English\": 45, \"Maths\": 78, \"Science\": 45, \"Computer\": 31, \"Total\": 233},\n",
        "    {\"stdid\": \"std103\", \"stdname\": \"Aman\", \"standard\": \"10th\", \"Age\": 15, \"Hindi\": 56, \"English\": 56, \"Maths\": 78, \"Science\": 78, \"Computer\": 45, \"Total\": 313},\n",
        "    {\"stdid\": \"std104\", \"stdname\": \"Rahul\", \"standard\": \"10th\", \"Age\": 15, \"Hindi\": 78, \"English\": 67, \"Maths\": 89, \"Science\": 89, \"Computer\": 78, \"Total\": 402},\n",
        "    {\"stdid\": \"std105\", \"stdname\": \"Ruby\", \"standard\": \"10th\", \"Age\": 13, \"Hindi\": 89, \"English\": 56, \"Maths\": 45, \"Science\": 45, \"Computer\": 67, \"Total\": 302},\n",
        "    {\"stdid\": \"std106\", \"stdname\": \"Suman\", \"standard\": \"10th\", \"Age\": 13, \"Hindi\": 67, \"English\": 67, \"Maths\": 67, \"Science\": 67, \"Computer\": 67, \"Total\": 335},\n",
        "    {\"stdid\": \"std107\", \"stdname\": \"Saurabh\", \"standard\": \"10th\", \"Age\": 15, \"Hindi\": 45, \"English\": 23, \"Maths\": 45, \"Science\": 78, \"Computer\": 67, \"Total\": 258},\n",
        "    {\"stdid\": \"std108\", \"stdname\": \"Sumit\", \"standard\": \"10th\", \"Age\": 15, \"Hindi\": 89, \"English\": 90, \"Maths\": 89, \"Science\": 90, \"Computer\": 45, \"Total\": 403},\n",
        "    {\"stdid\": \"std109\", \"stdname\": \"Kamlesh\", \"standard\": \"10th\", \"Age\": 15, \"Hindi\": 78, \"English\": 45, \"Maths\": 78, \"Science\": 78, \"Computer\": 78, \"Total\": 337},\n",
        "    {\"stdid\": \"std110\", \"stdname\": \"Rohan\", \"standard\": \"10th\", \"Age\": 15, \"Hindi\": 12, \"English\": 24, \"Maths\": 45, \"Science\": 56, \"Computer\": 34, \"Total\": 171}\n",
        "]\n",
        "# To print the data in tabular form\n",
        "print(tabulate(data, headers=\"keys\", tablefmt=\"grid\"))\n",
        "# Initialize an empty list to store names of students\n",
        "filtered_students = []\n",
        "# To check if the student's English marks is greater than 50\n",
        "for student in data:\n",
        "    if student[\"English\"] > 50:\n",
        "        filtered_students.append(student[\"stdname\"])\n",
        "# Print the names of students\n",
        "print(\"Students whose marks in English are greater than 50:\")\n",
        "for name in filtered_students:\n",
        "    print(name)\n",
        "\n",
        "print(\"------------------*------------------*-----------------*------------------\")\n",
        "print(\"Name and Age of a student who are top four scorer in Maths:\")\n",
        "# Sort data based on Maths scores in descending order\n",
        "sorted_data = sorted(data, key=lambda x: x[\"Maths\"], reverse=True)\n",
        "top_four = sorted_data[0:4]\n",
        "# Prepare table data that contain the name and age of top four scorer of Maths\n",
        "table_data = [[student[\"stdname\"], student[\"Age\"]] for student in top_four]\n",
        "# Display the table_data in tabular form\n",
        "print(tabulate(table_data, headers=[\"Student Name\", \"Age\"], tablefmt=\"grid\"))\n",
        "\n",
        "print(\"------------------*------------------*-----------------*------------------\")\n",
        "print(\"Name, Id and Age of student who are bottom three scorer in Computer:\")\n",
        "# Sort data based on Computer scores in ascending order\n",
        "sorted_data = sorted(data, key=lambda x: x[\"Computer\"])\n",
        "bottom_three = sorted_data[:3]\n",
        "\n",
        "#Prepare table data that contain the Name ,Id and Age of bottom three scorer in Computer\n",
        "table_data = [[student[\"stdname\"], student[\"stdid\"], student[\"Age\"]] for student in bottom_three]\n",
        "# Display the table_data in tabular form\n",
        "print(tabulate(table_data, headers=[\"Student Name\", \"Student ID\", \"Age\"], tablefmt=\"grid\"))\n"
      ],
      "metadata": {
        "colab": {
          "base_uri": "https://localhost:8080/"
        },
        "id": "Kw9S7Mc9fMgJ",
        "outputId": "e0a02a3e-ccdf-4d2e-dc0f-3fb48cf49cae"
      },
      "execution_count": 73,
      "outputs": [
        {
          "output_type": "stream",
          "name": "stdout",
          "text": [
            "+---------+----------------+------------+-------+---------+-----------+---------+-----------+------------+---------+\n",
            "| stdid   | stdname        | standard   |   Age |   Hindi |   English |   Maths |   Science |   Computer |   Total |\n",
            "+=========+================+============+=======+=========+===========+=========+===========+============+=========+\n",
            "| std101  | Ashish Kumar   | 10th       |    15 |      67 |        89 |      87 |        89 |         90 |     422 |\n",
            "+---------+----------------+------------+-------+---------+-----------+---------+-----------+------------+---------+\n",
            "| std102  | Abhishek Kumar | 10th       |    15 |      34 |        45 |      78 |        45 |         31 |     233 |\n",
            "+---------+----------------+------------+-------+---------+-----------+---------+-----------+------------+---------+\n",
            "| std103  | Aman           | 10th       |    15 |      56 |        56 |      78 |        78 |         45 |     313 |\n",
            "+---------+----------------+------------+-------+---------+-----------+---------+-----------+------------+---------+\n",
            "| std104  | Rahul          | 10th       |    15 |      78 |        67 |      89 |        89 |         78 |     402 |\n",
            "+---------+----------------+------------+-------+---------+-----------+---------+-----------+------------+---------+\n",
            "| std105  | Ruby           | 10th       |    13 |      89 |        56 |      45 |        45 |         67 |     302 |\n",
            "+---------+----------------+------------+-------+---------+-----------+---------+-----------+------------+---------+\n",
            "| std106  | Suman          | 10th       |    13 |      67 |        67 |      67 |        67 |         67 |     335 |\n",
            "+---------+----------------+------------+-------+---------+-----------+---------+-----------+------------+---------+\n",
            "| std107  | Saurabh        | 10th       |    15 |      45 |        23 |      45 |        78 |         67 |     258 |\n",
            "+---------+----------------+------------+-------+---------+-----------+---------+-----------+------------+---------+\n",
            "| std108  | Sumit          | 10th       |    15 |      89 |        90 |      89 |        90 |         45 |     403 |\n",
            "+---------+----------------+------------+-------+---------+-----------+---------+-----------+------------+---------+\n",
            "| std109  | Kamlesh        | 10th       |    15 |      78 |        45 |      78 |        78 |         78 |     337 |\n",
            "+---------+----------------+------------+-------+---------+-----------+---------+-----------+------------+---------+\n",
            "| std110  | Rohan          | 10th       |    15 |      12 |        24 |      45 |        56 |         34 |     171 |\n",
            "+---------+----------------+------------+-------+---------+-----------+---------+-----------+------------+---------+\n",
            "Students whose marks in English are greater than 50:\n",
            "Ashish Kumar\n",
            "Aman\n",
            "Rahul\n",
            "Ruby\n",
            "Suman\n",
            "Sumit\n",
            "------------------*------------------*-----------------*------------------\n",
            "Name and Age of a student who are top four scorer in Maths:\n",
            "+----------------+-------+\n",
            "| Student Name   |   Age |\n",
            "+================+=======+\n",
            "| Rahul          |    15 |\n",
            "+----------------+-------+\n",
            "| Sumit          |    15 |\n",
            "+----------------+-------+\n",
            "| Ashish Kumar   |    15 |\n",
            "+----------------+-------+\n",
            "| Abhishek Kumar |    15 |\n",
            "+----------------+-------+\n",
            "------------------*------------------*-----------------*------------------\n",
            "Name, Id and Age of student who are bottom three scorer in Computer:\n",
            "+----------------+--------------+-------+\n",
            "| Student Name   | Student ID   |   Age |\n",
            "+================+==============+=======+\n",
            "| Abhishek Kumar | std102       |    15 |\n",
            "+----------------+--------------+-------+\n",
            "| Rohan          | std110       |    15 |\n",
            "+----------------+--------------+-------+\n",
            "| Aman           | std103       |    15 |\n",
            "+----------------+--------------+-------+\n"
          ]
        }
      ]
    }
  ],
  "metadata": {
    "colab": {
      "provenance": []
    },
    "kernelspec": {
      "display_name": "Python 3",
      "name": "python3"
    }
  },
  "nbformat": 4,
  "nbformat_minor": 0
}