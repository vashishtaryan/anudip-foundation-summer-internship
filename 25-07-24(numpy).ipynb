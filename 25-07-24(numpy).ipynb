{
 "cells": [
  {
   "cell_type": "code",
   "execution_count": null,
   "id": "6ab10d68-a086-46db-9435-34173516ddfe",
   "metadata": {},
   "outputs": [],
   "source": [
    "#randint() is an inbuilt Function of the randon module in Python. \n",
    "#The randos module gives access to vartous suseful functions one of then being able to generate random numbers, which is randint()\n"
   ]
  },
  {
   "cell_type": "code",
   "execution_count": 9,
   "id": "0b3d431e-6311-4a35-a76f-c5c53a028557",
   "metadata": {},
   "outputs": [
    {
     "name": "stdout",
     "output_type": "stream",
     "text": [
      "[2 6]\n"
     ]
    }
   ],
   "source": [
    "import numpy as np\n",
    "rand=np.random.randint(0,10,2)\n",
    "print(rand)"
   ]
  },
  {
   "cell_type": "code",
   "execution_count": 17,
   "id": "22c77357-1645-495f-8337-02547c7d3d05",
   "metadata": {},
   "outputs": [
    {
     "name": "stdout",
     "output_type": "stream",
     "text": [
      "[0.18940843 0.93613409 0.9579998  0.59190645]\n",
      "[[0.01512254 0.81466398 0.15057659]\n",
      " [0.75998149 0.46901011 0.42140101]]\n",
      "[60  4 93 85 31 85 59 65 45 22 47 90]\n"
     ]
    }
   ],
   "source": [
    "rand=np.random.rand(4)\n",
    "\n",
    "print(rand)\n",
    "\n",
    "rand=np.random.rand(2,3)\n",
    "\n",
    "print(rand)\n",
    "\n",
    "arr=np.random.randint(0, 100, 12)\n",
    "\n",
    "print(arr)\n"
   ]
  },
  {
   "cell_type": "code",
   "execution_count": null,
   "id": "9cca7cb7-5090-4de8-9595-8691e4b725d6",
   "metadata": {},
   "outputs": [],
   "source": [
    "#The reshape function in NumPy allows you to change the shape (dimensions) of an array without changing its data. This can be useful when you want to rearrange the way data is organized in an array, such as converting a 1-dimensional array into a 2-dimensional matrix or vice versa, or changing the size of a multi-dimensional array while maintaining the total number of elements."
   ]
  },
  {
   "cell_type": "code",
   "execution_count": 31,
   "id": "645f5900-facf-408f-a2f3-9333232a9875",
   "metadata": {},
   "outputs": [
    {
     "name": "stdout",
     "output_type": "stream",
     "text": [
      "[97 88 31  1 18  6  3 42 94  5 32  2]\n",
      "[[97 88 31]\n",
      " [ 1 18  6]\n",
      " [ 3 42 94]\n",
      " [ 5 32  2]]\n",
      "Array values is  88\n",
      "Array values is 1\n",
      "(4, 3)\n",
      "[[97 88 31  1]\n",
      " [18  6  3 42]\n",
      " [94  5 32  2]]\n",
      "[[97 88 31  1 18  6]\n",
      " [ 3 42 94  5 32  2]]\n"
     ]
    }
   ],
   "source": [
    "arr=np.random.randint(0,100,12)\n",
    "print(arr)\n",
    "arr=arr.reshape(4,3)\n",
    "print(arr)\n",
    "print(\"Array values is \", arr [0] [1])\n",
    "print(\"Array values is\",arr [1] [0])\n",
    "print(arr.shape)\n",
    "arr=arr.reshape(-1,4)\n",
    "print(arr)\n",
    "arr=arr.reshape(2,-1)\n",
    "print(arr)"
   ]
  },
  {
   "cell_type": "code",
   "execution_count": null,
   "id": "f8c77fb0-8560-4b97-9264-78f76b0a754d",
   "metadata": {},
   "outputs": [],
   "source": [
    "#seed"
   ]
  },
  {
   "cell_type": "code",
   "execution_count": 37,
   "id": "b08ad555-648e-4e63-a271-91f790750e64",
   "metadata": {},
   "outputs": [
    {
     "name": "stdout",
     "output_type": "stream",
     "text": [
      "[37 86 87 18 90 69  8 53 33 32 40 26]\n"
     ]
    }
   ],
   "source": [
    "np.random.seed(145)\n",
    "arr=np.random.randint(0,100,12)\n",
    "print(arr)"
   ]
  },
  {
   "cell_type": "code",
   "execution_count": 41,
   "id": "f08ecaa3-c279-485d-b686-620d72314bca",
   "metadata": {},
   "outputs": [
    {
     "name": "stdout",
     "output_type": "stream",
     "text": [
      "new slicing  [3 4 8 5 6]\n",
      "new array  [   1   20    5    9    3    4    8    5    6    2   25    2 2265    3\n",
      "   33]\n",
      "<class 'numpy.ndarray'>\n",
      "<class 'numpy.ndarray'>\n",
      "old Slicing  [0 0 0 0 0]\n",
      "old array  [   1   20    5    9    0    0    0    0    0    2   25    2 2265    3\n",
      "   33]\n"
     ]
    }
   ],
   "source": [
    "import numpy as n\n",
    "\n",
    "ar=n.array([1,20,5,9,3,4,8,5,6,2,25, 2,2265,3,33,])\n",
    "\n",
    "slicing=ar [4:9]\n",
    "\n",
    "print(\"new slicing \", slicing)\n",
    "\n",
    "print(\"new array \",ar)\n",
    "\n",
    "print (type (slicing))\n",
    "\n",
    "print (type (ar))\n",
    "\n",
    "slicing[:]=0\n",
    "\n",
    "print(\"old Slicing \", slicing)\n",
    "\n",
    "print(\"old array \",ar)"
   ]
  },
  {
   "cell_type": "code",
   "execution_count": 49,
   "id": "a3c337f5-e279-4df4-8f56-4988e2e6ab9c",
   "metadata": {},
   "outputs": [],
   "source": [
    "#arange: to generate the numbers in sequence"
   ]
  },
  {
   "cell_type": "code",
   "execution_count": 51,
   "id": "35c33e0a-158f-4f80-9090-d8d7a7697e52",
   "metadata": {},
   "outputs": [
    {
     "name": "stdout",
     "output_type": "stream",
     "text": [
      "[ 1  2  3  4  5  6  7  8  9 10 11 12 13 14]\n",
      "[ 2  4  6  8 10 12 14]\n",
      "[ 1  3  5  7  9 11 13]\n",
      "[ 9 10 11 12 13 14]\n",
      "[ 1  0  3  0  5  0  7  0  9  0 11  0 13  0]\n",
      "[3 4 5 6 7 8 9]\n",
      "[ 2  4  6  8 10 12 14]\n",
      "[ 1  4  9 16 25 36 49]\n"
     ]
    }
   ],
   "source": [
    "ar=np.arange(1,15)\n",
    "print(ar)\n",
    "print(ar[ar%2==0])\n",
    "print(ar[ar%2!=0])\n",
    "print(ar[ar>8])\n",
    "ar[ar%2==0]=0\n",
    "print(ar)\n",
    "arr=n.arange(1,8)\n",
    "print(arr+2)\n",
    "print(arr*2)\n",
    "print(arr**2)"
   ]
  },
  {
   "cell_type": "code",
   "execution_count": 53,
   "id": "942a0922-26e8-4add-9178-abed593ba93d",
   "metadata": {},
   "outputs": [
    {
     "name": "stdout",
     "output_type": "stream",
     "text": [
      "2\n",
      "30\n",
      "5\n",
      "[3.16227766 4.47213595 5.47722558 5.         2.44948974 1.41421356]\n",
      "[-0.54402111  0.91294525 -0.98803162 -0.13235175 -0.2794155   0.90929743]\n",
      "[-0.83907153  0.40808206  0.15425145  0.99120281  0.96017029 -0.41614684]\n"
     ]
    }
   ],
   "source": [
    "arr=n.array([10,20,30,25,6,2])\n",
    "print(n.min(arr))\n",
    "print(n.max(arr))\n",
    "print(n.argmin(arr))\n",
    "print(n.sqrt(arr))\n",
    "print(n.sin(arr))\n",
    "print(n.cos(arr))"
   ]
  },
  {
   "cell_type": "code",
   "execution_count": 55,
   "id": "595f91f6-0580-4dda-b9f0-b19d1da06eda",
   "metadata": {},
   "outputs": [
    {
     "name": "stdout",
     "output_type": "stream",
     "text": [
      "[[16 11 13]\n",
      " [17 13 16]\n",
      " [ 3 16 11]]\n",
      "116\n",
      "[ 16  27  40  57  70  86  89 105 116]\n",
      "3\n",
      "17\n",
      "-------------\n",
      "[40 46 30]\n",
      "[11 13  3]\n",
      "[16 17 16]\n",
      "[[16 27 40]\n",
      " [17 30 46]\n",
      " [ 3 19 30]]\n"
     ]
    }
   ],
   "source": [
    "import numpy as n\n",
    "n.random.seed(122)\n",
    "mat=n.random.randint(1,21,9).reshape(3,3)\n",
    "print(mat)\n",
    "print(n.sum(mat))\n",
    "print(n.cumsum(mat))\n",
    "print(n.min(mat))\n",
    "print(n.max(mat))\n",
    "print(\"-------------\")\n",
    "print(n.sum(mat,axis=1)) \n",
    "print(n.min(mat,axis=1)) \n",
    "print(n.max(mat,axis=1))\n",
    "print(n.cumsum(mat,axis=1))"
   ]
  },
  {
   "cell_type": "code",
   "execution_count": null,
   "id": "9171f2ff-0e8c-46fd-a567-0dec12775118",
   "metadata": {},
   "outputs": [],
   "source": [
    "#shuffle \n",
    "#unique"
   ]
  },
  {
   "cell_type": "code",
   "execution_count": 65,
   "id": "9ab95676-28af-4051-95ec-4afe95f47a29",
   "metadata": {},
   "outputs": [
    {
     "name": "stdout",
     "output_type": "stream",
     "text": [
      "[16 11 13 17 13 16  3 16 11 10]\n",
      "[13 16 16 11 16 10 11 13 17  3]\n",
      "(array([ 3, 10, 11, 13, 16, 17]), array([9, 5, 3, 0, 1, 8], dtype=int64), array([1, 1, 2, 2, 3, 1], dtype=int64))\n",
      "6\n"
     ]
    }
   ],
   "source": [
    "import numpy as n\n",
    "n.random.seed(122)\n",
    "mat=n.random.randint(1, 21, 10)\n",
    "print(mat)\n",
    "n.random.shuffle(mat)\n",
    "print(mat)\n",
    "print(n.unique(mat, return_index=True,return_counts=True) )\n",
    "print(n.unique(mat).size)"
   ]
  }
 ],
 "metadata": {
  "kernelspec": {
   "display_name": "Python 3 (ipykernel)",
   "language": "python",
   "name": "python3"
  },
  "language_info": {
   "codemirror_mode": {
    "name": "ipython",
    "version": 3
   },
   "file_extension": ".py",
   "mimetype": "text/x-python",
   "name": "python",
   "nbconvert_exporter": "python",
   "pygments_lexer": "ipython3",
   "version": "3.12.4"
  }
 },
 "nbformat": 4,
 "nbformat_minor": 5
}
