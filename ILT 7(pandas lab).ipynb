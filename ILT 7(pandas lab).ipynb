{
 "cells": [
  {
   "cell_type": "code",
   "execution_count": null,
   "id": "c0d02e0b-1b96-4627-8184-ea7f127fe259",
   "metadata": {},
   "outputs": [],
   "source": [
    "#1...Write a Pandas program to detect missing values of a given DataFrame.\n",
    "# Input:\n",
    "# df = pd.DataFrame({\n",
    "# 'ord_no':[70001,np.nan,70002,70004,np.nan,70005,np.nan,70010,70003,70012,np.na\n",
    "# n,70013],\n",
    "# 'purch_amt':[150.5,270.65,65.26,110.5,948.5,2400.6,5760,1983.43,2480.4,250.45,\n",
    "# 75.29,3045.6], 'ord_date':\n",
    "# ['2012-10-05','2012-09-10',np.nan,'2012-08-17','2012-09-10','2012-07-27','2012-09-10'\n",
    "# ,'2012-10-10','2012-10-10','2012-06-27','2012-08-17','2012-04-25'],\n",
    "# 'customer_id':[3002,3001,3001,3003,3002,3001,3001,3004,3003,3002,3001,3001],\n",
    "# 'salesman_id':[5002,5003,5001,np.nan,5002,5001,5001,np.nan,5003,5002,5003,np.n\n",
    "# an]})"
   ]
  },
  {
   "cell_type": "code",
   "execution_count": 1,
   "id": "d7f0a623-6aae-4494-9eee-34804a9a0da4",
   "metadata": {},
   "outputs": [
    {
     "name": "stdout",
     "output_type": "stream",
     "text": [
      "Missing values count per column:\n",
      "ord_no         4\n",
      "purch_amt      0\n",
      "ord_date       1\n",
      "customer_id    0\n",
      "salesman_id    3\n",
      "dtype: int64\n"
     ]
    }
   ],
   "source": [
    "import pandas as pd\n",
    "import numpy as np\n",
    "\n",
    "# Sample DataFrame\n",
    "df = pd.DataFrame({\n",
    "    'ord_no': [70001, np.nan, 70002, 70004, np.nan, 70005, np.nan, 70010, 70003, 70012, np.nan, 70013],\n",
    "    'purch_amt': [150.5, 270.65, 65.26, 110.5, 948.5, 2400.6, 5760, 1983.43, 2480.4, 250.45, 75.29, 3045.6],\n",
    "    'ord_date': ['2012-10-05', '2012-09-10', np.nan, '2012-08-17', '2012-09-10', '2012-07-27', '2012-09-10', '2012-10-10', '2012-10-10', '2012-06-27', '2012-08-17', '2012-04-25'],\n",
    "    'customer_id': [3002, 3001, 3001, 3003, 3002, 3001, 3001, 3004, 3003, 3002, 3001, 3001],\n",
    "    'salesman_id': [5002, 5003, 5001, np.nan, 5002, 5001, 5001, np.nan, 5003, 5002, 5003, np.nan]\n",
    "})\n",
    "\n",
    "# Detect missing values\n",
    "missing_values = df.isna().sum()\n",
    "\n",
    "# Display the count of missing values for each column\n",
    "print(\"Missing values count per column:\")\n",
    "print(missing_values)\n"
   ]
  },
  {
   "cell_type": "code",
   "execution_count": null,
   "id": "78346cdf-7f73-4e02-affc-7c9d67b30d8d",
   "metadata": {},
   "outputs": [],
   "source": [
    "#2...Write a Pandas program to drop the rows where at least one element ismissing in a given DataFrame.\n",
    "# Input:\n",
    "# df = pd.DataFrame({\n",
    "# 'ord_no':[70001,np.nan,70002,70004,np.nan,70005,np.nan,70010,70003,70012,np.na\n",
    "# n,70013],\n",
    "# 'purch_amt':[150.5,270.65,65.26,110.5,948.5,2400.6,5760,1983.43,2480.4,250.45,\n",
    "# 75.29,3045.6],\n",
    "# 'ord_date':\n",
    "# ['2012-10-05','2012-09-10',np.nan,'2012-08-17','2012-09-10','2012-07-27','2012-09-10'\n",
    "# ,'2012-10-10','2012-10-10','2012-06-27','2012-08-17','2012-04-25'],\n",
    "# 'customer_id':[3002,3001,3001,3003,3002,3001,3001,3004,3003,3002,3001,3001],\n",
    "# 'salesman_id':[5002,5003,5001,np.nan,5002,5001,5001,np.nan,5003,5002,5003,np.n\n",
    "# an]})"
   ]
  },
  {
   "cell_type": "code",
   "execution_count": 4,
   "id": "b10d5987-6d70-4467-9677-6a1ea251cdbb",
   "metadata": {},
   "outputs": [
    {
     "name": "stdout",
     "output_type": "stream",
     "text": [
      "DataFrame after dropping rows with at least one missing value:\n",
      "    ord_no  purch_amt    ord_date  customer_id  salesman_id\n",
      "0  70001.0     150.50  2012-10-05         3002       5002.0\n",
      "5  70005.0    2400.60  2012-07-27         3001       5001.0\n",
      "8  70003.0    2480.40  2012-10-10         3003       5003.0\n",
      "9  70012.0     250.45  2012-06-27         3002       5002.0\n"
     ]
    }
   ],
   "source": [
    "import pandas as pd\n",
    "import numpy as np\n",
    "\n",
    "# Sample DataFrame\n",
    "df = pd.DataFrame({\n",
    "    'ord_no': [70001, np.nan, 70002, 70004, np.nan, 70005, np.nan, 70010, 70003, 70012, np.nan, 70013],\n",
    "    'purch_amt': [150.5, 270.65, 65.26, 110.5, 948.5, 2400.6, 5760, 1983.43, 2480.4, 250.45, 75.29, 3045.6],\n",
    "    'ord_date': ['2012-10-05', '2012-09-10', np.nan, '2012-08-17', '2012-09-10', '2012-07-27', '2012-09-10', '2012-10-10', '2012-10-10', '2012-06-27', '2012-08-17', '2012-04-25'],\n",
    "    'customer_id': [3002, 3001, 3001, 3003, 3002, 3001, 3001, 3004, 3003, 3002, 3001, 3001],\n",
    "    'salesman_id': [5002, 5003, 5001, np.nan, 5002, 5001, 5001, np.nan, 5003, 5002, 5003, np.nan]\n",
    "})\n",
    "\n",
    "# Drop rows with at least one missing value\n",
    "df_cleaned = df.dropna(how='any')\n",
    "\n",
    "# Display the cleaned DataFrame\n",
    "print(\"DataFrame after dropping rows with at least one missing value:\")\n",
    "print(df_cleaned)\n"
   ]
  },
  {
   "cell_type": "code",
   "execution_count": null,
   "id": "98f8a2e5-9fe4-46d6-b4e2-8f0325d8b9d8",
   "metadata": {},
   "outputs": [],
   "source": [
    "#3...: Write a Pandas program to drop the rows where all elements are missing ina given DataFrame.\n",
    "# df = pd.DataFrame({\n",
    "# 'ord_no':[np.nan,np.nan,70002,70004,np.nan,70005,np.nan,70010,70003,70012,np.n\n",
    "# an,70013],\n",
    "# 'purch_amt':[np.nan,270.65,65.26,110.5,948.5,2400.6,5760,1983.43,2480.4,250.45,\n",
    "# 75.29,3045.6],\n",
    "# 'ord_date':\n",
    "# [np.nan,'2012-09-10',np.nan,'2012-08-17','2012-09-10','2012-07-27','2012-09-10','201\n",
    "# 2-10-10','2012-10-10','2012-06-27','2012-08-17','2012-04-25'],\n",
    "# 'customer_id':[np.nan,3001,3001,3003,3002,3001,3001,3004,3003,3002,3001,3001]})"
   ]
  },
  {
   "cell_type": "code",
   "execution_count": 6,
   "id": "5098c29b-ec72-457f-b3c3-803a41ff0793",
   "metadata": {},
   "outputs": [
    {
     "name": "stdout",
     "output_type": "stream",
     "text": [
      "DataFrame after dropping rows where all elements are missing:\n",
      "     ord_no  purch_amt    ord_date  customer_id\n",
      "1       NaN     270.65  2012-09-10       3001.0\n",
      "2   70002.0      65.26         NaN       3001.0\n",
      "3   70004.0     110.50  2012-08-17       3003.0\n",
      "4       NaN     948.50  2012-09-10       3002.0\n",
      "5   70005.0    2400.60  2012-07-27       3001.0\n",
      "6       NaN    5760.00  2012-09-10       3001.0\n",
      "7   70010.0    1983.43  2012-10-10       3004.0\n",
      "8   70003.0    2480.40  2012-10-10       3003.0\n",
      "9   70012.0     250.45  2012-06-27       3002.0\n",
      "10      NaN      75.29  2012-08-17       3001.0\n",
      "11  70013.0    3045.60  2012-04-25       3001.0\n"
     ]
    }
   ],
   "source": [
    "import pandas as pd\n",
    "import numpy as np\n",
    "\n",
    "# Sample DataFrame\n",
    "df = pd.DataFrame({\n",
    "    'ord_no': [np.nan, np.nan, 70002, 70004, np.nan, 70005, np.nan, 70010, 70003, 70012, np.nan, 70013],\n",
    "    'purch_amt': [np.nan, 270.65, 65.26, 110.5, 948.5, 2400.6, 5760, 1983.43, 2480.4, 250.45, 75.29, 3045.6],\n",
    "    'ord_date': [np.nan, '2012-09-10', np.nan, '2012-08-17', '2012-09-10', '2012-07-27', '2012-09-10', '2012-10-10', '2012-10-10', '2012-06-27', '2012-08-17', '2012-04-25'],\n",
    "    'customer_id': [np.nan, 3001, 3001, 3003, 3002, 3001, 3001, 3004, 3003, 3002, 3001, 3001]\n",
    "})\n",
    "\n",
    "# Drop rows where all elements are missing\n",
    "df_cleaned = df.dropna(how='all')\n",
    "\n",
    "# Display the cleaned DataFrame\n",
    "print(\"DataFrame after dropping rows where all elements are missing:\")\n",
    "print(df_cleaned)\n"
   ]
  },
  {
   "cell_type": "code",
   "execution_count": null,
   "id": "fdeab8f9-5075-4184-bbc0-541f214a53d6",
   "metadata": {},
   "outputs": [],
   "source": [
    "#4...: Write a Pandas program to drop those rows from a given DataFrame in\n",
    "# which specific columns have missing values.\n",
    "# Input:\n",
    "# df = pd.DataFrame({\n",
    "# 'ord_no':[np.nan,np.nan,70002,np.nan,np.nan,70005,np.nan,70010,70003,70012,np.n\n",
    "# an,np.nan],\n",
    "# 'purch_amt':[np.nan,270.65,65.26,np.nan,948.5,2400.6,5760,1983.43,2480.4,250.45,\n",
    "# 75.29,np.nan],\n",
    "# 'ord_date':\n",
    "# [np.nan,'2012-09-10',np.nan,np.nan,'2012-09-10','2012-07-27','2012-09-10','2012-10-\n",
    "# 10','2012-10-10','2012-06-27','2012-08-17',np.nan],\n",
    "# 'customer_id':[np.nan,3001,3001,np.nan,3002,3001,3001,3004,3003,3002,3001,np.na\n",
    "# n]})\n"
   ]
  },
  {
   "cell_type": "code",
   "execution_count": 8,
   "id": "5e79e019-1858-4955-88b4-d783ced7b3bc",
   "metadata": {},
   "outputs": [
    {
     "name": "stdout",
     "output_type": "stream",
     "text": [
      "DataFrame after dropping rows with missing values in specified columns:\n",
      "    ord_no  purch_amt    ord_date  customer_id\n",
      "5  70005.0    2400.60  2012-07-27       3001.0\n",
      "7  70010.0    1983.43  2012-10-10       3004.0\n",
      "8  70003.0    2480.40  2012-10-10       3003.0\n",
      "9  70012.0     250.45  2012-06-27       3002.0\n"
     ]
    }
   ],
   "source": [
    "import pandas as pd\n",
    "import numpy as np\n",
    "\n",
    "# Sample DataFrame\n",
    "df = pd.DataFrame({\n",
    "    'ord_no': [np.nan, np.nan, 70002, np.nan, np.nan, 70005, np.nan, 70010, 70003, 70012, np.nan, np.nan],\n",
    "    'purch_amt': [np.nan, 270.65, 65.26, np.nan, 948.5, 2400.6, 5760, 1983.43, 2480.4, 250.45, 75.29, np.nan],\n",
    "    'ord_date': [np.nan, '2012-09-10', np.nan, np.nan, '2012-09-10', '2012-07-27', '2012-09-10', '2012-10-10', '2012-10-10', '2012-06-27', '2012-08-17', np.nan],\n",
    "    'customer_id': [np.nan, 3001, 3001, np.nan, 3002, 3001, 3001, 3004, 3003, 3002, 3001, np.nan]\n",
    "})\n",
    "\n",
    "# Columns to check for missing values\n",
    "columns_to_check = ['ord_no', 'purch_amt', 'ord_date']\n",
    "\n",
    "# Drop rows where any of the specified columns have missing values\n",
    "df_cleaned = df.dropna(subset=columns_to_check)\n",
    "\n",
    "# Display the cleaned DataFrame\n",
    "print(\"DataFrame after dropping rows with missing values in specified columns:\")\n",
    "print(df_cleaned)\n"
   ]
  },
  {
   "cell_type": "code",
   "execution_count": null,
   "id": "65388211-c321-42f0-9a2c-22777d75181b",
   "metadata": {},
   "outputs": [],
   "source": [
    "#ChatGPT Exercise\n",
    "# Using ChatGPT generate the python code to solve the same problem\n",
    "# Scenario:Analyzing Real Estate Data\n",
    "# Suppose you have a dummy dataset with real estate property listings. The data\n",
    "# contains information about property prices, square footage, the number of bedrooms\n",
    "# and bathrooms, and other details. You want to perform data cleaning like Remove rows\n",
    "# with missing values, Remove duplicate and then save the cleaned data to a CSV file.\n",
    "# Create a ChatGPT prompt to generate the code for this scenario. Based on the code\n",
    "# generated, ask ChatGPT to give the conclusion/inference.\n",
    "# Note. You can provide the data to ChatGPT in the form of a list or dictionary or ask it to\n",
    "# use sample data"
   ]
  },
  {
   "cell_type": "code",
   "execution_count": 10,
   "id": "06d37741-a0ca-43b1-8193-887e1f08366c",
   "metadata": {},
   "outputs": [],
   "source": [
    "import pandas as pd\n",
    "import numpy as np\n",
    "\n",
    "# Sample dataset\n",
    "data = {\n",
    "    'price': [250000, 300000, np.nan, 400000, 250000, 300000, np.nan, 450000],\n",
    "    'sqft': [1500, 1800, 1600, np.nan, 1500, 1800, 1600, 2000],\n",
    "    'bedrooms': [3, 4, 3, 4, 3, 4, 3, 5],\n",
    "    'bathrooms': [2, 2.5, 2, 3, 2, 2.5, 2, 3],\n",
    "    'location': ['Downtown', 'Suburb', 'Downtown', 'Suburb', 'Downtown', 'Suburb', 'Downtown', 'City Center']\n",
    "}\n",
    "\n",
    "df = pd.DataFrame(data)\n"
   ]
  },
  {
   "cell_type": "code",
   "execution_count": null,
   "id": "7981f1f0-1ea9-4edb-8cc7-1516228ccdbd",
   "metadata": {},
   "outputs": [],
   "source": []
  },
  {
   "cell_type": "code",
   "execution_count": null,
   "id": "899d2e12-7650-4b72-8fb8-25d6de8489b0",
   "metadata": {},
   "outputs": [],
   "source": []
  }
 ],
 "metadata": {
  "kernelspec": {
   "display_name": "Python 3 (ipykernel)",
   "language": "python",
   "name": "python3"
  },
  "language_info": {
   "codemirror_mode": {
    "name": "ipython",
    "version": 3
   },
   "file_extension": ".py",
   "mimetype": "text/x-python",
   "name": "python",
   "nbconvert_exporter": "python",
   "pygments_lexer": "ipython3",
   "version": "3.12.4"
  }
 },
 "nbformat": 4,
 "nbformat_minor": 5
}
