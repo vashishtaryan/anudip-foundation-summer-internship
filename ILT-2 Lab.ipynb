{
 "cells": [
  {
   "cell_type": "code",
   "execution_count": null,
   "id": "564d8553-27b8-4402-946a-e4b3f052b7a6",
   "metadata": {},
   "outputs": [],
   "source": [
    "#Python program to check leap year"
   ]
  },
  {
   "cell_type": "code",
   "execution_count": 1,
   "id": "a1c36a9f-78e3-4e2b-8547-1d5efd168c77",
   "metadata": {},
   "outputs": [
    {
     "name": "stdin",
     "output_type": "stream",
     "text": [
      "Enter a year:  2002\n"
     ]
    },
    {
     "name": "stdout",
     "output_type": "stream",
     "text": [
      "2002 is not a leap year.\n"
     ]
    }
   ],
   "source": [
    "def is_leap_year(year):\n",
    "    \"\"\"\n",
    "    Function to check if a year is a leap year.\n",
    "    \"\"\"\n",
    "    # Check if the year is divisible by 400 or (divisible by 4 and not divisible by 100)\n",
    "    if (year % 400 == 0) or (year % 4 == 0 and year % 100 != 0):\n",
    "        return True\n",
    "    else:\n",
    "        return False\n",
    "\n",
    "# Take input from the user\n",
    "year = int(input(\"Enter a year: \"))\n",
    "\n",
    "# Check if the year is a leap year\n",
    "if is_leap_year(year):\n",
    "    print(f\"{year} is a leap year.\")\n",
    "else:\n",
    "    print(f\"{year} is not a leap year.\")\n"
   ]
  },
  {
   "cell_type": "code",
   "execution_count": null,
   "id": "3c6760c2-f4e3-4273-9b96-669fc2d11ce6",
   "metadata": {},
   "outputs": [],
   "source": [
    "#Python Program to Find the Largest Among Three Numbers"
   ]
  },
  {
   "cell_type": "code",
   "execution_count": 3,
   "id": "3c053ec0-cca4-4c32-86ef-780370ac4010",
   "metadata": {},
   "outputs": [
    {
     "name": "stdin",
     "output_type": "stream",
     "text": [
      "Enter the first number:  11\n",
      "Enter the second number:  22\n",
      "Enter the third number:  55\n"
     ]
    },
    {
     "name": "stdout",
     "output_type": "stream",
     "text": [
      "The largest number among 11.0, 22.0, and 55.0 is 55.0.\n"
     ]
    }
   ],
   "source": [
    "# Function to find the largest of three numbers\n",
    "def find_largest(a, b, c):\n",
    "    if a >= b and a >= c:\n",
    "        return a\n",
    "    elif b >= a and b >= c:\n",
    "        return b\n",
    "    else:\n",
    "        return c\n",
    "\n",
    "# Take input from the user\n",
    "num1 = float(input(\"Enter the first number: \"))\n",
    "num2 = float(input(\"Enter the second number: \"))\n",
    "num3 = float(input(\"Enter the third number: \"))\n",
    "\n",
    "# Find the largest number\n",
    "largest = find_largest(num1, num2, num3)\n",
    "\n",
    "# Print the result\n",
    "print(f\"The largest number among {num1}, {num2}, and {num3} is {largest}.\")\n"
   ]
  },
  {
   "cell_type": "code",
   "execution_count": 9,
   "id": "d137d38c-e14c-4f6d-b578-1d54e3f030a1",
   "metadata": {},
   "outputs": [],
   "source": [
    "#Python Program to Check if a Number is Positive, Negative or 0"
   ]
  },
  {
   "cell_type": "code",
   "execution_count": 7,
   "id": "5e2de6ba-5911-4996-8b87-0cbd87334bc3",
   "metadata": {},
   "outputs": [
    {
     "name": "stdin",
     "output_type": "stream",
     "text": [
      "Enter a number:  2\n"
     ]
    },
    {
     "name": "stdout",
     "output_type": "stream",
     "text": [
      "The number 2.0 is Positive.\n"
     ]
    }
   ],
   "source": [
    "# Function to check if a number is positive, negative, or zero\n",
    "def check_number(num):\n",
    "    if num > 0:\n",
    "        return \"Positive\"\n",
    "    elif num < 0:\n",
    "        return \"Negative\"\n",
    "    else:\n",
    "        return \"Zero\"\n",
    "\n",
    "# Take input from the user\n",
    "number = float(input(\"Enter a number: \"))\n",
    "\n",
    "# Check if the number is positive, negative, or zero\n",
    "result = check_number(number)\n",
    "\n",
    "# Print the result\n",
    "print(f\"The number {number} is {result}.\")\n"
   ]
  },
  {
   "cell_type": "code",
   "execution_count": null,
   "id": "f2fb9751-06e6-4bcd-8f87-7ff7602c5d4c",
   "metadata": {},
   "outputs": [],
   "source": [
    "#. A toy vendor supplies three types of toys: Battery Based Toys, Key-based\n",
    "#Toys, and Electrical Charging Based Toys. The vendor gives a discount of\n",
    "#10% on orders for battery-based toys if the order is for more than Rs. 1000.\n",
    "#On orders of more than Rs. 100 for key-based toys, a discount of 5% is\n",
    "#given, and a discount of 10% is given on orders for electrical charging based\n",
    "#toys of value more than Rs. 500. Assume that the numeric codes 1,2 and 3\n",
    "#are used for battery based toys, key-based toys, and electrical charging based\n",
    "#toys respectively. Write a program that reads the product code and the order\n",
    "#amount and prints out the net amount that the customer is required to pay\n",
    "#after the discount."
   ]
  },
  {
   "cell_type": "code",
   "execution_count": 13,
   "id": "9d66884e-9501-41f6-b9be-fa7b6d2c1b59",
   "metadata": {},
   "outputs": [
    {
     "name": "stdout",
     "output_type": "stream",
     "text": [
      "Choose the type of toy:\n",
      "1. Battery Based Toy\n",
      "2. Key-Based Toy\n",
      "3. Electrical Charging Based Toy\n"
     ]
    },
    {
     "name": "stdin",
     "output_type": "stream",
     "text": [
      "Enter the product code (1, 2, or 3):  1\n",
      "Enter the order amount:  22\n"
     ]
    },
    {
     "name": "stdout",
     "output_type": "stream",
     "text": [
      "The net amount to be paid after discount is: Rs. 22.00\n"
     ]
    }
   ],
   "source": [
    "def calculate_discounted_amount(product_code, order_amount):\n",
    "    \"\"\"\n",
    "    Function to calculate the net amount after applying discounts based on toy type and order amount.\n",
    "    \"\"\"\n",
    "    # Define discount rates\n",
    "    battery_discount_rate = 0.10\n",
    "    key_based_discount_rate = 0.05\n",
    "    electrical_charging_discount_rate = 0.10\n",
    "    \n",
    "    # Determine the discount and calculate the net amount\n",
    "    if product_code == '1':  # Battery Based Toys\n",
    "        if order_amount > 1000:\n",
    "            discount = battery_discount_rate\n",
    "        else:\n",
    "            discount = 0\n",
    "    elif product_code == '2':  # Key-based Toys\n",
    "        if order_amount > 100:\n",
    "            discount = key_based_discount_rate\n",
    "        else:\n",
    "            discount = 0\n",
    "    elif product_code == '3':  # Electrical Charging Based Toys\n",
    "        if order_amount > 500:\n",
    "            discount = electrical_charging_discount_rate\n",
    "        else:\n",
    "            discount = 0\n",
    "    else:\n",
    "        return \"Invalid product code\"\n",
    "    \n",
    "    # Calculate the discounted amount\n",
    "    discount_amount = order_amount * discount\n",
    "    net_amount = order_amount - discount_amount\n",
    "    \n",
    "    return net_amount\n",
    "\n",
    "# Display the available options\n",
    "print(\"Choose the type of toy:\")\n",
    "print(\"1. Battery Based Toy\")\n",
    "print(\"2. Key-Based Toy\")\n",
    "print(\"3. Electrical Charging Based Toy\")\n",
    "\n",
    "# Take input from the user\n",
    "product_code = input(\"Enter the product code (1, 2, or 3): \")\n",
    "order_amount = float(input(\"Enter the order amount: \"))\n",
    "\n",
    "# Calculate the net amount after discount\n",
    "net_amount = calculate_discounted_amount(product_code, order_amount)\n",
    "\n",
    "# Check if the result is a string (indicating an invalid code)\n",
    "if isinstance(net_amount, str):\n",
    "    print(net_amount)\n",
    "else:\n",
    "    # Print the result\n",
    "    print(f\"The net amount to be paid after discount is: Rs. {net_amount:.2f}\")\n"
   ]
  },
  {
   "cell_type": "code",
   "execution_count": null,
   "id": "9b54186b-5e95-482b-bc7d-9525958a4eda",
   "metadata": {},
   "outputs": [],
   "source": [
    "# A transport company charges the fare according to following table:\n",
    "\n",
    "# Distance Charges\n",
    "# 1-50 8 Rs./Km\n",
    "# 51-100 10 Rs./Km\n",
    "# > 100 12 Rs/Km"
   ]
  },
  {
   "cell_type": "code",
   "execution_count": 15,
   "id": "f059fa58-1c4f-4c42-b9f9-6c31d40e3561",
   "metadata": {},
   "outputs": [
    {
     "name": "stdin",
     "output_type": "stream",
     "text": [
      "Enter the distance traveled in kilometers:  111\n"
     ]
    },
    {
     "name": "stdout",
     "output_type": "stream",
     "text": [
      "The total fare for 111.0 kilometers is Rs. 1332.00\n"
     ]
    }
   ],
   "source": [
    "def calculate_fare(distance):\n",
    "    \"\"\"\n",
    "    Function to calculate the fare based on the distance traveled.\n",
    "    \"\"\"\n",
    "    if 1 <= distance <= 50:\n",
    "        rate_per_km = 8\n",
    "    elif 51 <= distance <= 100:\n",
    "        rate_per_km = 10\n",
    "    elif distance > 100:\n",
    "        rate_per_km = 12\n",
    "    else:\n",
    "        return \"Invalid distance\"\n",
    "\n",
    "    # Calculate the total fare\n",
    "    fare = distance * rate_per_km\n",
    "    return fare\n",
    "\n",
    "# Take input from the user\n",
    "distance = float(input(\"Enter the distance traveled in kilometers: \"))\n",
    "\n",
    "# Calculate the fare\n",
    "fare = calculate_fare(distance)\n",
    "\n",
    "# Check if the result is a string (indicating an invalid distance)\n",
    "if isinstance(fare, str):\n",
    "    print(fare)\n",
    "else:\n",
    "    # Print the result\n",
    "    print(f\"The total fare for {distance} kilometers is Rs. {fare:.2f}\")\n"
   ]
  },
  {
   "cell_type": "code",
   "execution_count": null,
   "id": "9372742e-dd4c-49a5-811d-d58454f66ef3",
   "metadata": {},
   "outputs": [],
   "source": [
    "# Write a python program to reverse a number using a while loop."
   ]
  },
  {
   "cell_type": "code",
   "execution_count": 17,
   "id": "9d72a065-2a31-4357-9bc0-4bfdb62ee661",
   "metadata": {},
   "outputs": [
    {
     "name": "stdin",
     "output_type": "stream",
     "text": [
      "Enter a number to reverse:  225\n"
     ]
    },
    {
     "name": "stdout",
     "output_type": "stream",
     "text": [
      "The reversed number is: 522\n"
     ]
    }
   ],
   "source": [
    "def reverse_number(number):\n",
    "    \"\"\"\n",
    "    Function to reverse the digits of a number.\n",
    "    \"\"\"\n",
    "    reversed_number = 0\n",
    "    \n",
    "    while number > 0:\n",
    "        # Extract the last digit\n",
    "        last_digit = number % 10\n",
    "        \n",
    "        # Append the digit to the reversed number\n",
    "        reversed_number = reversed_number * 10 + last_digit\n",
    "        \n",
    "        # Remove the last digit from the number\n",
    "        number = number // 10\n",
    "    \n",
    "    return reversed_number\n",
    "\n",
    "# Take input from the user\n",
    "number = int(input(\"Enter a number to reverse: \"))\n",
    "\n",
    "# Handle negative numbers\n",
    "if number < 0:\n",
    "    print(f\"Reversing negative numbers is not supported in this program.\")\n",
    "else:\n",
    "    # Reverse the number\n",
    "    reversed_number = reverse_number(number)\n",
    "    \n",
    "    # Print the result\n",
    "    print(f\"The reversed number is: {reversed_number}\")\n"
   ]
  },
  {
   "cell_type": "code",
   "execution_count": null,
   "id": "4c56e0cb-17a7-4f03-95cd-3bd20723b5c0",
   "metadata": {},
   "outputs": [],
   "source": [
    "#Write a python program to check whether a number is palindrome or not?"
   ]
  },
  {
   "cell_type": "code",
   "execution_count": 19,
   "id": "690ce9fb-cc6a-45ab-ae5a-49c8ebe122fe",
   "metadata": {},
   "outputs": [
    {
     "name": "stdin",
     "output_type": "stream",
     "text": [
      "Enter a number to check if it is a palindrome:  54212\n"
     ]
    },
    {
     "name": "stdout",
     "output_type": "stream",
     "text": [
      "54212 is not a palindrome.\n"
     ]
    }
   ],
   "source": [
    "def is_palindrome(number):\n",
    "    \"\"\"\n",
    "    Function to check if a number is a palindrome.\n",
    "    \"\"\"\n",
    "    # Convert number to string to easily reverse and compare\n",
    "    str_number = str(number)\n",
    "    \n",
    "    # Check if the string representation of the number is the same forwards and backwards\n",
    "    return str_number == str_number[::-1]\n",
    "\n",
    "# Take input from the user\n",
    "number = int(input(\"Enter a number to check if it is a palindrome: \"))\n",
    "\n",
    "# Check if the number is a palindrome\n",
    "if is_palindrome(number):\n",
    "    print(f\"{number} is a palindrome.\")\n",
    "else:\n",
    "    print(f\"{number} is not a palindrome.\")\n"
   ]
  },
  {
   "cell_type": "code",
   "execution_count": null,
   "id": "e0d7d6aa-1417-4baf-b0c2-37327a97b017",
   "metadata": {},
   "outputs": [],
   "source": [
    "#Write a python program finding the factorial of a given number using a while loop."
   ]
  },
  {
   "cell_type": "code",
   "execution_count": 21,
   "id": "07e0fb78-49c5-4cc5-968d-203e7929527c",
   "metadata": {},
   "outputs": [
    {
     "name": "stdin",
     "output_type": "stream",
     "text": [
      "Enter a number to find its factorial:  22\n"
     ]
    },
    {
     "name": "stdout",
     "output_type": "stream",
     "text": [
      "The factorial of 22 is 1124000727777607680000.\n"
     ]
    }
   ],
   "source": [
    "def factorial(n):\n",
    "    \"\"\"\n",
    "    Function to calculate the factorial of a number using a while loop.\n",
    "    \"\"\"\n",
    "    if n < 0:\n",
    "        return \"Factorial is not defined for negative numbers.\"\n",
    "    \n",
    "    result = 1\n",
    "    \n",
    "    while n > 0:\n",
    "        result *= n\n",
    "        n -= 1\n",
    "    \n",
    "    return result\n",
    "\n",
    "# Take input from the user\n",
    "number = int(input(\"Enter a number to find its factorial: \"))\n",
    "\n",
    "# Calculate the factorial\n",
    "factorial_result = factorial(number)\n",
    "\n",
    "# Print the result\n",
    "print(f\"The factorial of {number} is {factorial_result}.\")\n"
   ]
  },
  {
   "cell_type": "code",
   "execution_count": null,
   "id": "acff1bfd-aed9-408d-b200-57cdc89a3f24",
   "metadata": {},
   "outputs": [],
   "source": [
    "# Accept numbers using input() function until the user enters 0. If user\n",
    "\n",
    "# input 0 then break the while loop and display the sum of all the\n",
    "\n",
    "# numbers."
   ]
  },
  {
   "cell_type": "code",
   "execution_count": 23,
   "id": "bdc900e1-0f7f-40e7-82bf-e92489fec7ca",
   "metadata": {},
   "outputs": [
    {
     "name": "stdin",
     "output_type": "stream",
     "text": [
      "Enter a number (enter 0 to stop):  6\n",
      "Enter a number (enter 0 to stop):  2326\n",
      "Enter a number (enter 0 to stop):  0\n"
     ]
    },
    {
     "name": "stdout",
     "output_type": "stream",
     "text": [
      "The sum of all entered numbers is: 2332.00\n"
     ]
    }
   ],
   "source": [
    "def sum_numbers_until_zero():\n",
    "    \"\"\"\n",
    "    Function to accept numbers from the user until 0 is entered and calculate their sum.\n",
    "    \"\"\"\n",
    "    total_sum = 0\n",
    "    \n",
    "    while True:\n",
    "        try:\n",
    "            # Take input from the user\n",
    "            number = float(input(\"Enter a number (enter 0 to stop): \"))\n",
    "            \n",
    "            # Check if the entered number is 0\n",
    "            if number == 0:\n",
    "                break\n",
    "            \n",
    "            # Add the number to the total sum\n",
    "            total_sum += number\n",
    "        \n",
    "        except ValueError:\n",
    "            print(\"Invalid input. Please enter a valid number.\")\n",
    "    \n",
    "    return total_sum\n",
    "\n",
    "# Calculate the sum\n",
    "result = sum_numbers_until_zero()\n",
    "\n",
    "# Print the result\n",
    "print(f\"The sum of all entered numbers is: {result:.2f}\")\n"
   ]
  },
  {
   "cell_type": "code",
   "execution_count": null,
   "id": "03d1d46a-f3af-4f68-878e-8475900b471e",
   "metadata": {},
   "outputs": [],
   "source": [
    "#Print the first 10 natural numbers using for loop"
   ]
  },
  {
   "cell_type": "code",
   "execution_count": 25,
   "id": "13af57ea-2d40-491a-b581-70adb508bd86",
   "metadata": {},
   "outputs": [
    {
     "name": "stdout",
     "output_type": "stream",
     "text": [
      "1\n",
      "2\n",
      "3\n",
      "4\n",
      "5\n",
      "6\n",
      "7\n",
      "8\n",
      "9\n",
      "10\n"
     ]
    }
   ],
   "source": [
    "# Print the first 10 natural numbers using a for loop\n",
    "for i in range(1, 11):\n",
    "    print(i)\n"
   ]
  },
  {
   "cell_type": "code",
   "execution_count": null,
   "id": "92e7fb30-1904-4ba9-8a18-cee6d86a73c4",
   "metadata": {},
   "outputs": [],
   "source": [
    "#Python program to check if the given string is a palindrome"
   ]
  },
  {
   "cell_type": "code",
   "execution_count": 27,
   "id": "bbfe3456-a65d-4f23-b4d4-d49b9e150d27",
   "metadata": {},
   "outputs": [
    {
     "name": "stdin",
     "output_type": "stream",
     "text": [
      "Enter a string to check if it is a palindrome:  FAGHAH\n"
     ]
    },
    {
     "name": "stdout",
     "output_type": "stream",
     "text": [
      "\"FAGHAH\" is not a palindrome.\n"
     ]
    }
   ],
   "source": [
    "def is_palindrome(s):\n",
    "    \"\"\"\n",
    "    Function to check if a string is a palindrome.\n",
    "    \"\"\"\n",
    "    # Convert the string to lowercase to ensure the check is case-insensitive\n",
    "    s = s.lower()\n",
    "    \n",
    "    # Remove spaces and punctuation from the string for a more accurate palindrome check\n",
    "    cleaned_s = ''.join(char for char in s if char.isalnum())\n",
    "    \n",
    "    # Check if the cleaned string is equal to its reverse\n",
    "    return cleaned_s == cleaned_s[::-1]\n",
    "\n",
    "# Take input from the user\n",
    "input_string = input(\"Enter a string to check if it is a palindrome: \")\n",
    "\n",
    "# Check if the input string is a palindrome\n",
    "if is_palindrome(input_string):\n",
    "    print(f'\"{input_string}\" is a palindrome.')\n",
    "else:\n",
    "    print(f'\"{input_string}\" is not a palindrome.')\n"
   ]
  },
  {
   "cell_type": "code",
   "execution_count": null,
   "id": "79d78460-d0ee-484b-a873-4e52a8afd510",
   "metadata": {},
   "outputs": [],
   "source": [
    "#Python program to check if a given number is an Armstrong number"
   ]
  },
  {
   "cell_type": "code",
   "execution_count": 29,
   "id": "dd5fd125-99a6-46a5-a584-ddadc3586c23",
   "metadata": {},
   "outputs": [
    {
     "name": "stdin",
     "output_type": "stream",
     "text": [
      "Enter a number to check if it is an Armstrong number:  152\n"
     ]
    },
    {
     "name": "stdout",
     "output_type": "stream",
     "text": [
      "152 is not an Armstrong number.\n"
     ]
    }
   ],
   "source": [
    "def is_armstrong_number(number):\n",
    "    \"\"\"\n",
    "    Function to check if a number is an Armstrong number.\n",
    "    \"\"\"\n",
    "    # Convert number to string to easily iterate over digits\n",
    "    str_number = str(number)\n",
    "    num_digits = len(str_number)\n",
    "    \n",
    "    # Calculate the sum of each digit raised to the power of num_digits\n",
    "    sum_of_powers = sum(int(digit) ** num_digits for digit in str_number)\n",
    "    \n",
    "    # Check if the sum of powers equals the original number\n",
    "    return sum_of_powers == number\n",
    "\n",
    "# Take input from the user\n",
    "number = int(input(\"Enter a number to check if it is an Armstrong number: \"))\n",
    "\n",
    "# Check if the number is an Armstrong number\n",
    "if is_armstrong_number(number):\n",
    "    print(f\"{number} is an Armstrong number.\")\n",
    "else:\n",
    "    print(f\"{number} is not an Armstrong number.\")\n"
   ]
  },
  {
   "cell_type": "code",
   "execution_count": null,
   "id": "4ca1298c-7f8d-47b5-9374-d86798b6a8ef",
   "metadata": {},
   "outputs": [],
   "source": [
    "# Python program to get the Fibonacci series between 0 to 50"
   ]
  },
  {
   "cell_type": "code",
   "execution_count": 31,
   "id": "c6c033ef-752a-413a-b04e-d54bad69858b",
   "metadata": {},
   "outputs": [
    {
     "name": "stdout",
     "output_type": "stream",
     "text": [
      "Fibonacci series up to 50: [0, 1, 1, 2, 3, 5, 8, 13, 21, 34]\n"
     ]
    }
   ],
   "source": [
    "def fibonacci_series(limit):\n",
    "    \"\"\"\n",
    "    Function to generate Fibonacci series up to a given limit.\n",
    "    \"\"\"\n",
    "    fib_series = []\n",
    "    a, b = 0, 1\n",
    "    \n",
    "    while a <= limit:\n",
    "        fib_series.append(a)\n",
    "        a, b = b, a + b  # Update a and b to the next two numbers in the series\n",
    "    \n",
    "    return fib_series\n",
    "\n",
    "# Define the limit\n",
    "limit = 50\n",
    "\n",
    "# Get the Fibonacci series up to the limit\n",
    "fib_series = fibonacci_series(limit)\n",
    "\n",
    "# Print the result\n",
    "print(f\"Fibonacci series up to {limit}: {fib_series}\")\n"
   ]
  },
  {
   "cell_type": "code",
   "execution_count": null,
   "id": "eeef216a-945b-4886-96d9-770cf1a150e7",
   "metadata": {},
   "outputs": [],
   "source": [
    "#Python program to check the validity of password input by users"
   ]
  },
  {
   "cell_type": "code",
   "execution_count": 33,
   "id": "f92713d5-0a87-40d3-9617-d5a42eb31418",
   "metadata": {},
   "outputs": [
    {
     "name": "stdin",
     "output_type": "stream",
     "text": [
      "Enter a password to check its validity:  HJHGJJ\n"
     ]
    },
    {
     "name": "stdout",
     "output_type": "stream",
     "text": [
      "Password must be at least 8 characters long.\n"
     ]
    }
   ],
   "source": [
    "import re\n",
    "\n",
    "def is_valid_password(password):\n",
    "    \"\"\"\n",
    "    Function to check if a given password is valid based on certain criteria.\n",
    "    \"\"\"\n",
    "    # Define password criteria\n",
    "    min_length = 8\n",
    "    special_characters = re.compile(r'[!@#$%^&*(),.?\":{}|<>]')\n",
    "    upper_case = re.compile(r'[A-Z]')\n",
    "    lower_case = re.compile(r'[a-z]')\n",
    "    digit = re.compile(r'\\d')\n",
    "\n",
    "    # Check if password meets all criteria\n",
    "    if len(password) < min_length:\n",
    "        return False, \"Password must be at least 8 characters long.\"\n",
    "    \n",
    "    if not special_characters.search(password):\n",
    "        return False, \"Password must contain at least one special character.\"\n",
    "\n",
    "    if not upper_case.search(password):\n",
    "        return False, \"Password must contain at least one uppercase letter.\"\n",
    "\n",
    "    if not lower_case.search(password):\n",
    "        return False, \"Password must contain at least one lowercase letter.\"\n",
    "\n",
    "    if not digit.search(password):\n",
    "        return False, \"Password must contain at least one numeric digit.\"\n",
    "\n",
    "    return True, \"Password is valid.\"\n",
    "\n",
    "# Take input from the user\n",
    "password = input(\"Enter a password to check its validity: \")\n",
    "\n",
    "# Check the validity of the password\n",
    "is_valid, message = is_valid_password(password)\n",
    "\n",
    "# Print the result\n",
    "print(message)\n"
   ]
  }
 ],
 "metadata": {
  "kernelspec": {
   "display_name": "Python 3 (ipykernel)",
   "language": "python",
   "name": "python3"
  },
  "language_info": {
   "codemirror_mode": {
    "name": "ipython",
    "version": 3
   },
   "file_extension": ".py",
   "mimetype": "text/x-python",
   "name": "python",
   "nbconvert_exporter": "python",
   "pygments_lexer": "ipython3",
   "version": "3.12.4"
  }
 },
 "nbformat": 4,
 "nbformat_minor": 5
}
