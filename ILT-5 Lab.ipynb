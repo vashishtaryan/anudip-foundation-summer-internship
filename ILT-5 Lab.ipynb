{
 "cells": [
  {
   "cell_type": "code",
   "execution_count": null,
   "id": "620541ff-c206-491f-ab64-8ce53eaee109",
   "metadata": {},
   "outputs": [],
   "source": [
    "# Write a function in python to read the content from a text file \"ABC.txt\" line by line and display the same on screen."
   ]
  },
  {
   "cell_type": "code",
   "execution_count": 3,
   "id": "31a6a1d8-661a-4e81-939d-f1b02e8361f9",
   "metadata": {},
   "outputs": [
    {
     "name": "stdout",
     "output_type": "stream",
     "text": [
      "The file ABC.txt does not exist.\n"
     ]
    }
   ],
   "source": [
    "def display_file_content(filename):\n",
    "    try:\n",
    "        with open(filename, 'r') as file:\n",
    "            for line in file:\n",
    "                print(line, end='') \n",
    "    except FileNotFoundError:\n",
    "        print(f\"The file {filename} does not exist.\")\n",
    "    except Exception as e:\n",
    "        print(f\"An error occurred: {e}\")\n",
    "\n",
    "# Usage\n",
    "display_file_content(\"ABC.txt\")\n"
   ]
  },
  {
   "cell_type": "code",
   "execution_count": null,
   "id": "91b439c4-4e2d-458c-90d7-fa4e13e99ce6",
   "metadata": {},
   "outputs": [],
   "source": [
    "# Write a function in Python to count and display the total number of words in a text file “ABC.txt”\n"
   ]
  },
  {
   "cell_type": "code",
   "execution_count": 5,
   "id": "6d27e59e-9b0e-40ad-b55b-441b9a855eb9",
   "metadata": {},
   "outputs": [
    {
     "name": "stdout",
     "output_type": "stream",
     "text": [
      "Error: The file 'ABC.txt' was not found.\n"
     ]
    }
   ],
   "source": [
    "def count_words_in_file(file_path):\n",
    "    word_count = 0\n",
    "    \n",
    "    try:\n",
    "        with open(file_path, 'r') as file:\n",
    "            for line in file:\n",
    "                words = line.split()  # Split the line into words based on whitespace\n",
    "                word_count += len(words)  # Count the number of words in the current line\n",
    "        print(f\"Total number of words: {word_count}\")\n",
    "    except FileNotFoundError:\n",
    "        print(f\"Error: The file '{file_path}' was not found.\")\n",
    "    except IOError:\n",
    "        print(f\"Error: Could not read the file '{file_path}'.\")\n",
    "\n",
    "# Example usage\n",
    "file_path = 'ABC.txt'\n",
    "count_words_in_file(file_path)\n"
   ]
  },
  {
   "cell_type": "code",
   "execution_count": null,
   "id": "1a899658-c49f-4f5d-9817-8ba4a5d42640",
   "metadata": {},
   "outputs": [],
   "source": [
    "# Write a function in Python to count uppercase character in a text file “ABC.txt”"
   ]
  },
  {
   "cell_type": "code",
   "execution_count": 7,
   "id": "e73c93ba-3936-497b-9a9f-87fd39f17c19",
   "metadata": {},
   "outputs": [
    {
     "name": "stdout",
     "output_type": "stream",
     "text": [
      "Error: The file 'ABC.txt' was not found.\n"
     ]
    }
   ],
   "source": [
    "def count_uppercase_characters(file_path):\n",
    "    uppercase_count = 0\n",
    "    \n",
    "    try:\n",
    "        with open(file_path, 'r') as file:\n",
    "            for line in file:\n",
    "                for char in line:\n",
    "                    if char.isupper():\n",
    "                        uppercase_count += 1\n",
    "        print(f\"Total number of uppercase characters: {uppercase_count}\")\n",
    "    except FileNotFoundError:\n",
    "        print(f\"Error: The file '{file_path}' was not found.\")\n",
    "    except IOError:\n",
    "        print(f\"Error: Could not read the file '{file_path}'.\")\n",
    "\n",
    "# Example usage\n",
    "file_path = 'ABC.txt'\n",
    "count_uppercase_characters(file_path)\n"
   ]
  },
  {
   "cell_type": "code",
   "execution_count": null,
   "id": "729e5c05-7fdc-41be-b25e-770d602e0383",
   "metadata": {},
   "outputs": [],
   "source": [
    "# Write a function display_words() in python to read lines from a text file \"story.txt\","
   ]
  },
  {
   "cell_type": "code",
   "execution_count": 9,
   "id": "1b992e78-b74c-4dcb-9085-252579ba5b99",
   "metadata": {},
   "outputs": [
    {
     "name": "stdout",
     "output_type": "stream",
     "text": [
      "Error: The file 'story.txt' was not found.\n"
     ]
    }
   ],
   "source": [
    "def display_words(file_path):\n",
    "    try:\n",
    "        with open(file_path, 'r') as file:\n",
    "            for line in file:\n",
    "                words = line.split()  # Split the line into words\n",
    "                for word in words:\n",
    "                    print(word)\n",
    "    except FileNotFoundError:\n",
    "        print(f\"Error: The file '{file_path}' was not found.\")\n",
    "    except IOError:\n",
    "        print(f\"Error: Could not read the file '{file_path}'.\")\n",
    "\n",
    "# Example usage\n",
    "file_path = 'story.txt'\n",
    "display_words(file_path)\n"
   ]
  },
  {
   "cell_type": "code",
   "execution_count": null,
   "id": "6e629d50-d172-4d0f-b305-50af33d88aec",
   "metadata": {},
   "outputs": [],
   "source": [
    " # Write a Python program to handle a ZeroDivisionError exception when dividing a number by zero."
   ]
  },
  {
   "cell_type": "code",
   "execution_count": 13,
   "id": "9ada0b85-848f-4ef8-865c-058b985f069f",
   "metadata": {},
   "outputs": [
    {
     "name": "stdout",
     "output_type": "stream",
     "text": [
      "Error: Division by zero is not allowed.\n",
      "No result due to division by zero.\n"
     ]
    }
   ],
   "source": [
    "def divide_numbers(dividend, divisor):\n",
    "    try:\n",
    "        result = dividend / divisor\n",
    "    except ZeroDivisionError:\n",
    "        print(\"Error: Division by zero is not allowed.\")\n",
    "        result = None\n",
    "    return result\n",
    "\n",
    "# Example usage\n",
    "num1 = 10\n",
    "num2 = 0\n",
    "\n",
    "result = divide_numbers(num1, num2)\n",
    "if result is not None:\n",
    "    print(f\"The result of dividing {num1} by {num2} is {result}\")\n",
    "else:\n",
    "    print(\"No result due to division by zero.\")\n"
   ]
  },
  {
   "cell_type": "code",
   "execution_count": null,
   "id": "011e74f1-293e-49d8-be0b-1949679decd6",
   "metadata": {},
   "outputs": [],
   "source": [
    "# Write a Python program that prompts the user to input an integer and raises a ValueError exception if the input is not a valid integer."
   ]
  },
  {
   "cell_type": "code",
   "execution_count": 15,
   "id": "5f0ac7a5-23ef-4417-8b2e-3d88262707e8",
   "metadata": {},
   "outputs": [
    {
     "name": "stdin",
     "output_type": "stream",
     "text": [
      "Please enter an integer:  22\n"
     ]
    },
    {
     "name": "stdout",
     "output_type": "stream",
     "text": [
      "You entered a valid integer: 22\n"
     ]
    }
   ],
   "source": [
    "def get_integer_from_user():\n",
    "    user_input = input(\"Please enter an integer: \")\n",
    "    \n",
    "    try:\n",
    "        user_integer = int(user_input)\n",
    "        print(f\"You entered a valid integer: {user_integer}\")\n",
    "    except ValueError:\n",
    "        print(\"Error: The input is not a valid integer. Please enter a valid integer.\")\n",
    "\n",
    "get_integer_from_user()\n"
   ]
  },
  {
   "cell_type": "code",
   "execution_count": null,
   "id": "ee1327a2-f882-4138-a366-e4b462a1a048",
   "metadata": {},
   "outputs": [],
   "source": [
    " # Write a Python program that opens a file and handles a FileNotFoundError exception if the file does not exist."
   ]
  },
  {
   "cell_type": "code",
   "execution_count": 17,
   "id": "c8f0a993-e5fc-49ea-884c-0b6aae4e961e",
   "metadata": {},
   "outputs": [
    {
     "name": "stdout",
     "output_type": "stream",
     "text": [
      "Error: The file 'example.txt' was not found.\n"
     ]
    }
   ],
   "source": [
    "def open_file(file_path):\n",
    "    try:\n",
    "        with open(file_path, 'r') as file:\n",
    "            content = file.read()\n",
    "            print(\"File content:\")\n",
    "            print(content)\n",
    "    except FileNotFoundError:\n",
    "        print(f\"Error: The file '{file_path}' was not found.\")\n",
    "    except IOError:\n",
    "        print(f\"Error: Could not read the file '{file_path}'.\")\n",
    "\n",
    "# Example usage\n",
    "file_path = 'example.txt'  # Change this to the path of your file\n",
    "open_file(file_path)\n"
   ]
  },
  {
   "cell_type": "code",
   "execution_count": null,
   "id": "5a0ce564-4d20-4aaa-bccc-2ee306395071",
   "metadata": {},
   "outputs": [],
   "source": [
    "# Write a Python program that prompts the user to input two numbers and raises a TypeError exception if the inputs are not numerical"
   ]
  },
  {
   "cell_type": "code",
   "execution_count": 19,
   "id": "21be5acb-52ce-4cf6-843d-402dac6cc569",
   "metadata": {},
   "outputs": [
    {
     "name": "stdin",
     "output_type": "stream",
     "text": [
      "Enter the first number:  22\n",
      "Enter the second number:  33\n"
     ]
    },
    {
     "name": "stdout",
     "output_type": "stream",
     "text": [
      "The numbers you entered are: 22.0 and 33.0\n"
     ]
    }
   ],
   "source": [
    "def get_numbers_from_user():\n",
    "    try:\n",
    "        # Prompt the user to input two numbers\n",
    "        input1 = input(\"Enter the first number: \")\n",
    "        input2 = input(\"Enter the second number: \")\n",
    "\n",
    "        # Attempt to convert the inputs to float (or int if preferred)\n",
    "        num1 = float(input1)\n",
    "        num2 = float(input2)\n",
    "\n",
    "        # If conversion is successful, print the numbers\n",
    "        print(f\"The numbers you entered are: {num1} and {num2}\")\n",
    "\n",
    "    except ValueError:\n",
    "        # Handle the case where conversion to float fails\n",
    "        print(\"Error: One or both of the inputs are not numerical values. Please enter valid numbers.\")\n",
    "\n",
    "# Example usage\n",
    "get_numbers_from_user()\n"
   ]
  },
  {
   "cell_type": "code",
   "execution_count": null,
   "id": "ec2c1363-6324-4176-850e-b5b61556ba24",
   "metadata": {},
   "outputs": [],
   "source": []
  }
 ],
 "metadata": {
  "kernelspec": {
   "display_name": "Python 3 (ipykernel)",
   "language": "python",
   "name": "python3"
  },
  "language_info": {
   "codemirror_mode": {
    "name": "ipython",
    "version": 3
   },
   "file_extension": ".py",
   "mimetype": "text/x-python",
   "name": "python",
   "nbconvert_exporter": "python",
   "pygments_lexer": "ipython3",
   "version": "3.12.4"
  }
 },
 "nbformat": 4,
 "nbformat_minor": 5
}
